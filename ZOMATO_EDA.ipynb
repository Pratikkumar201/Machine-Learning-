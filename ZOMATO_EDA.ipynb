{
  "nbformat": 4,
  "nbformat_minor": 0,
  "metadata": {
    "colab": {
      "provenance": [],
      "mount_file_id": "1SyGUkYMo2Ua-ORVNBypnpZqE9GvAZZz2",
      "authorship_tag": "ABX9TyMXT8s3/XQWFLpPTxKfYAhJ"
    },
    "kernelspec": {
      "name": "python3",
      "display_name": "Python 3"
    },
    "language_info": {
      "name": "python"
    }
  },
  "cells": [
    {
      "cell_type": "code",
      "source": [
        "import numpy as np\n",
        "import pandas as pd\n",
        "import matplotlib.pyplot as plt\n",
        "import matplotlib.cm as cm\n",
        "import seaborn as sns\n",
        "import random\n",
        "from wordcloud import wordcloud"
      ],
      "metadata": {
        "id": "KBwYtWY5o2vT"
      },
      "execution_count": null,
      "outputs": []
    },
    {
      "cell_type": "code",
      "source": [
        "data=pd.read_csv('/content/drive/MyDrive/zomato_restaurants_in_India.csv/zomato_restaurants_in_India.csv/zomato_restaurants_in_India.csv')"
      ],
      "metadata": {
        "id": "rTOJMffLpNi5"
      },
      "execution_count": null,
      "outputs": []
    },
    {
      "cell_type": "code",
      "source": [
        "data.head()"
      ],
      "metadata": {
        "colab": {
          "base_uri": "https://localhost:8080/",
          "height": 768
        },
        "id": "KAy3N1BMpUbw",
        "outputId": "534d181e-eb4a-4869-c99c-044314a7284d"
      },
      "execution_count": null,
      "outputs": [
        {
          "output_type": "execute_result",
          "data": {
            "text/plain": [
              "    res_id                            name      establishment  \\\n",
              "0  3400299                     Bikanervala    ['Quick Bites']   \n",
              "1  3400005  Mama Chicken Mama Franky House    ['Quick Bites']   \n",
              "2  3401013                   Bhagat Halwai    ['Quick Bites']   \n",
              "3  3400290                   Bhagat Halwai    ['Quick Bites']   \n",
              "4  3401744     The Salt Cafe Kitchen & Bar  ['Casual Dining']   \n",
              "\n",
              "                                                 url  \\\n",
              "0  https://www.zomato.com/agra/bikanervala-khanda...   \n",
              "1  https://www.zomato.com/agra/mama-chicken-mama-...   \n",
              "2  https://www.zomato.com/agra/bhagat-halwai-2-sh...   \n",
              "3  https://www.zomato.com/agra/bhagat-halwai-civi...   \n",
              "4  https://www.zomato.com/agra/the-salt-cafe-kitc...   \n",
              "\n",
              "                                             address  city  city_id  \\\n",
              "0  Kalyani Point, Near Tulsi Cinema, Bypass Road,...  Agra       34   \n",
              "1        Main Market, Sadar Bazaar, Agra Cantt, Agra  Agra       34   \n",
              "2  62/1, Near Easy Day, West Shivaji Nagar, Goalp...  Agra       34   \n",
              "3  Near Anjana Cinema, Nehru Nagar, Civil Lines, ...  Agra       34   \n",
              "4        1C,3rd Floor, Fatehabad Road, Tajganj, Agra  Agra       34   \n",
              "\n",
              "      locality   latitude  longitude  ... price_range  currency  \\\n",
              "0     Khandari  27.211450  78.002381  ...           2       Rs.   \n",
              "1   Agra Cantt  27.160569  78.011583  ...           2       Rs.   \n",
              "2     Shahganj  27.182938  77.979684  ...           1       Rs.   \n",
              "3  Civil Lines  27.205668  78.004799  ...           1       Rs.   \n",
              "4      Tajganj  27.157709  78.052421  ...           3       Rs.   \n",
              "\n",
              "                                          highlights aggregate_rating  \\\n",
              "0  ['Lunch', 'Takeaway Available', 'Credit Card',...              4.4   \n",
              "1  ['Delivery', 'No Alcohol Available', 'Dinner',...              4.4   \n",
              "2  ['No Alcohol Available', 'Dinner', 'Takeaway A...              4.2   \n",
              "3  ['Takeaway Available', 'Credit Card', 'Lunch',...              4.3   \n",
              "4  ['Lunch', 'Serves Alcohol', 'Cash', 'Credit Ca...              4.9   \n",
              "\n",
              "  rating_text  votes  photo_count opentable_support delivery  takeaway  \n",
              "0   Very Good    814          154               0.0       -1        -1  \n",
              "1   Very Good   1203          161               0.0       -1        -1  \n",
              "2   Very Good    801          107               0.0        1        -1  \n",
              "3   Very Good    693          157               0.0        1        -1  \n",
              "4   Excellent    470          291               0.0        1        -1  \n",
              "\n",
              "[5 rows x 26 columns]"
            ],
            "text/html": [
              "\n",
              "  <div id=\"df-04d0e1c1-3048-4101-a7df-484d73efe517\">\n",
              "    <div class=\"colab-df-container\">\n",
              "      <div>\n",
              "<style scoped>\n",
              "    .dataframe tbody tr th:only-of-type {\n",
              "        vertical-align: middle;\n",
              "    }\n",
              "\n",
              "    .dataframe tbody tr th {\n",
              "        vertical-align: top;\n",
              "    }\n",
              "\n",
              "    .dataframe thead th {\n",
              "        text-align: right;\n",
              "    }\n",
              "</style>\n",
              "<table border=\"1\" class=\"dataframe\">\n",
              "  <thead>\n",
              "    <tr style=\"text-align: right;\">\n",
              "      <th></th>\n",
              "      <th>res_id</th>\n",
              "      <th>name</th>\n",
              "      <th>establishment</th>\n",
              "      <th>url</th>\n",
              "      <th>address</th>\n",
              "      <th>city</th>\n",
              "      <th>city_id</th>\n",
              "      <th>locality</th>\n",
              "      <th>latitude</th>\n",
              "      <th>longitude</th>\n",
              "      <th>...</th>\n",
              "      <th>price_range</th>\n",
              "      <th>currency</th>\n",
              "      <th>highlights</th>\n",
              "      <th>aggregate_rating</th>\n",
              "      <th>rating_text</th>\n",
              "      <th>votes</th>\n",
              "      <th>photo_count</th>\n",
              "      <th>opentable_support</th>\n",
              "      <th>delivery</th>\n",
              "      <th>takeaway</th>\n",
              "    </tr>\n",
              "  </thead>\n",
              "  <tbody>\n",
              "    <tr>\n",
              "      <th>0</th>\n",
              "      <td>3400299</td>\n",
              "      <td>Bikanervala</td>\n",
              "      <td>['Quick Bites']</td>\n",
              "      <td>https://www.zomato.com/agra/bikanervala-khanda...</td>\n",
              "      <td>Kalyani Point, Near Tulsi Cinema, Bypass Road,...</td>\n",
              "      <td>Agra</td>\n",
              "      <td>34</td>\n",
              "      <td>Khandari</td>\n",
              "      <td>27.211450</td>\n",
              "      <td>78.002381</td>\n",
              "      <td>...</td>\n",
              "      <td>2</td>\n",
              "      <td>Rs.</td>\n",
              "      <td>['Lunch', 'Takeaway Available', 'Credit Card',...</td>\n",
              "      <td>4.4</td>\n",
              "      <td>Very Good</td>\n",
              "      <td>814</td>\n",
              "      <td>154</td>\n",
              "      <td>0.0</td>\n",
              "      <td>-1</td>\n",
              "      <td>-1</td>\n",
              "    </tr>\n",
              "    <tr>\n",
              "      <th>1</th>\n",
              "      <td>3400005</td>\n",
              "      <td>Mama Chicken Mama Franky House</td>\n",
              "      <td>['Quick Bites']</td>\n",
              "      <td>https://www.zomato.com/agra/mama-chicken-mama-...</td>\n",
              "      <td>Main Market, Sadar Bazaar, Agra Cantt, Agra</td>\n",
              "      <td>Agra</td>\n",
              "      <td>34</td>\n",
              "      <td>Agra Cantt</td>\n",
              "      <td>27.160569</td>\n",
              "      <td>78.011583</td>\n",
              "      <td>...</td>\n",
              "      <td>2</td>\n",
              "      <td>Rs.</td>\n",
              "      <td>['Delivery', 'No Alcohol Available', 'Dinner',...</td>\n",
              "      <td>4.4</td>\n",
              "      <td>Very Good</td>\n",
              "      <td>1203</td>\n",
              "      <td>161</td>\n",
              "      <td>0.0</td>\n",
              "      <td>-1</td>\n",
              "      <td>-1</td>\n",
              "    </tr>\n",
              "    <tr>\n",
              "      <th>2</th>\n",
              "      <td>3401013</td>\n",
              "      <td>Bhagat Halwai</td>\n",
              "      <td>['Quick Bites']</td>\n",
              "      <td>https://www.zomato.com/agra/bhagat-halwai-2-sh...</td>\n",
              "      <td>62/1, Near Easy Day, West Shivaji Nagar, Goalp...</td>\n",
              "      <td>Agra</td>\n",
              "      <td>34</td>\n",
              "      <td>Shahganj</td>\n",
              "      <td>27.182938</td>\n",
              "      <td>77.979684</td>\n",
              "      <td>...</td>\n",
              "      <td>1</td>\n",
              "      <td>Rs.</td>\n",
              "      <td>['No Alcohol Available', 'Dinner', 'Takeaway A...</td>\n",
              "      <td>4.2</td>\n",
              "      <td>Very Good</td>\n",
              "      <td>801</td>\n",
              "      <td>107</td>\n",
              "      <td>0.0</td>\n",
              "      <td>1</td>\n",
              "      <td>-1</td>\n",
              "    </tr>\n",
              "    <tr>\n",
              "      <th>3</th>\n",
              "      <td>3400290</td>\n",
              "      <td>Bhagat Halwai</td>\n",
              "      <td>['Quick Bites']</td>\n",
              "      <td>https://www.zomato.com/agra/bhagat-halwai-civi...</td>\n",
              "      <td>Near Anjana Cinema, Nehru Nagar, Civil Lines, ...</td>\n",
              "      <td>Agra</td>\n",
              "      <td>34</td>\n",
              "      <td>Civil Lines</td>\n",
              "      <td>27.205668</td>\n",
              "      <td>78.004799</td>\n",
              "      <td>...</td>\n",
              "      <td>1</td>\n",
              "      <td>Rs.</td>\n",
              "      <td>['Takeaway Available', 'Credit Card', 'Lunch',...</td>\n",
              "      <td>4.3</td>\n",
              "      <td>Very Good</td>\n",
              "      <td>693</td>\n",
              "      <td>157</td>\n",
              "      <td>0.0</td>\n",
              "      <td>1</td>\n",
              "      <td>-1</td>\n",
              "    </tr>\n",
              "    <tr>\n",
              "      <th>4</th>\n",
              "      <td>3401744</td>\n",
              "      <td>The Salt Cafe Kitchen &amp; Bar</td>\n",
              "      <td>['Casual Dining']</td>\n",
              "      <td>https://www.zomato.com/agra/the-salt-cafe-kitc...</td>\n",
              "      <td>1C,3rd Floor, Fatehabad Road, Tajganj, Agra</td>\n",
              "      <td>Agra</td>\n",
              "      <td>34</td>\n",
              "      <td>Tajganj</td>\n",
              "      <td>27.157709</td>\n",
              "      <td>78.052421</td>\n",
              "      <td>...</td>\n",
              "      <td>3</td>\n",
              "      <td>Rs.</td>\n",
              "      <td>['Lunch', 'Serves Alcohol', 'Cash', 'Credit Ca...</td>\n",
              "      <td>4.9</td>\n",
              "      <td>Excellent</td>\n",
              "      <td>470</td>\n",
              "      <td>291</td>\n",
              "      <td>0.0</td>\n",
              "      <td>1</td>\n",
              "      <td>-1</td>\n",
              "    </tr>\n",
              "  </tbody>\n",
              "</table>\n",
              "<p>5 rows × 26 columns</p>\n",
              "</div>\n",
              "      <button class=\"colab-df-convert\" onclick=\"convertToInteractive('df-04d0e1c1-3048-4101-a7df-484d73efe517')\"\n",
              "              title=\"Convert this dataframe to an interactive table.\"\n",
              "              style=\"display:none;\">\n",
              "        \n",
              "  <svg xmlns=\"http://www.w3.org/2000/svg\" height=\"24px\"viewBox=\"0 0 24 24\"\n",
              "       width=\"24px\">\n",
              "    <path d=\"M0 0h24v24H0V0z\" fill=\"none\"/>\n",
              "    <path d=\"M18.56 5.44l.94 2.06.94-2.06 2.06-.94-2.06-.94-.94-2.06-.94 2.06-2.06.94zm-11 1L8.5 8.5l.94-2.06 2.06-.94-2.06-.94L8.5 2.5l-.94 2.06-2.06.94zm10 10l.94 2.06.94-2.06 2.06-.94-2.06-.94-.94-2.06-.94 2.06-2.06.94z\"/><path d=\"M17.41 7.96l-1.37-1.37c-.4-.4-.92-.59-1.43-.59-.52 0-1.04.2-1.43.59L10.3 9.45l-7.72 7.72c-.78.78-.78 2.05 0 2.83L4 21.41c.39.39.9.59 1.41.59.51 0 1.02-.2 1.41-.59l7.78-7.78 2.81-2.81c.8-.78.8-2.07 0-2.86zM5.41 20L4 18.59l7.72-7.72 1.47 1.35L5.41 20z\"/>\n",
              "  </svg>\n",
              "      </button>\n",
              "      \n",
              "  <style>\n",
              "    .colab-df-container {\n",
              "      display:flex;\n",
              "      flex-wrap:wrap;\n",
              "      gap: 12px;\n",
              "    }\n",
              "\n",
              "    .colab-df-convert {\n",
              "      background-color: #E8F0FE;\n",
              "      border: none;\n",
              "      border-radius: 50%;\n",
              "      cursor: pointer;\n",
              "      display: none;\n",
              "      fill: #1967D2;\n",
              "      height: 32px;\n",
              "      padding: 0 0 0 0;\n",
              "      width: 32px;\n",
              "    }\n",
              "\n",
              "    .colab-df-convert:hover {\n",
              "      background-color: #E2EBFA;\n",
              "      box-shadow: 0px 1px 2px rgba(60, 64, 67, 0.3), 0px 1px 3px 1px rgba(60, 64, 67, 0.15);\n",
              "      fill: #174EA6;\n",
              "    }\n",
              "\n",
              "    [theme=dark] .colab-df-convert {\n",
              "      background-color: #3B4455;\n",
              "      fill: #D2E3FC;\n",
              "    }\n",
              "\n",
              "    [theme=dark] .colab-df-convert:hover {\n",
              "      background-color: #434B5C;\n",
              "      box-shadow: 0px 1px 3px 1px rgba(0, 0, 0, 0.15);\n",
              "      filter: drop-shadow(0px 1px 2px rgba(0, 0, 0, 0.3));\n",
              "      fill: #FFFFFF;\n",
              "    }\n",
              "  </style>\n",
              "\n",
              "      <script>\n",
              "        const buttonEl =\n",
              "          document.querySelector('#df-04d0e1c1-3048-4101-a7df-484d73efe517 button.colab-df-convert');\n",
              "        buttonEl.style.display =\n",
              "          google.colab.kernel.accessAllowed ? 'block' : 'none';\n",
              "\n",
              "        async function convertToInteractive(key) {\n",
              "          const element = document.querySelector('#df-04d0e1c1-3048-4101-a7df-484d73efe517');\n",
              "          const dataTable =\n",
              "            await google.colab.kernel.invokeFunction('convertToInteractive',\n",
              "                                                     [key], {});\n",
              "          if (!dataTable) return;\n",
              "\n",
              "          const docLinkHtml = 'Like what you see? Visit the ' +\n",
              "            '<a target=\"_blank\" href=https://colab.research.google.com/notebooks/data_table.ipynb>data table notebook</a>'\n",
              "            + ' to learn more about interactive tables.';\n",
              "          element.innerHTML = '';\n",
              "          dataTable['output_type'] = 'display_data';\n",
              "          await google.colab.output.renderOutput(dataTable, element);\n",
              "          const docLink = document.createElement('div');\n",
              "          docLink.innerHTML = docLinkHtml;\n",
              "          element.appendChild(docLink);\n",
              "        }\n",
              "      </script>\n",
              "    </div>\n",
              "  </div>\n",
              "  "
            ]
          },
          "metadata": {},
          "execution_count": 53
        }
      ]
    },
    {
      "cell_type": "code",
      "source": [
        "data.tail()"
      ],
      "metadata": {
        "colab": {
          "base_uri": "https://localhost:8080/",
          "height": 750
        },
        "id": "VW2zPJdOpYTb",
        "outputId": "e609e2a7-266e-41ac-eab6-e2cb458f966e"
      },
      "execution_count": null,
      "outputs": [
        {
          "output_type": "execute_result",
          "data": {
            "text/plain": [
              "          res_id                            name      establishment  \\\n",
              "211939   3202251  Kali Mirch Cafe And Restaurant  ['Casual Dining']   \n",
              "211940   3200996                      Raju Omlet    ['Quick Bites']   \n",
              "211941  18984164                The Grand Thakar  ['Casual Dining']   \n",
              "211942   3201138                          Subway    ['Quick Bites']   \n",
              "211943  18879846     Freshco's - The Health Cafe           ['Café']   \n",
              "\n",
              "                                                      url  \\\n",
              "211939  https://www.zomato.com/vadodara/kali-mirch-caf...   \n",
              "211940  https://www.zomato.com/vadodara/raju-omlet-kar...   \n",
              "211941  https://www.zomato.com/vadodara/the-grand-thak...   \n",
              "211942  https://www.zomato.com/vadodara/subway-1-akota...   \n",
              "211943  https://www.zomato.com/vadodara/freshcos-the-h...   \n",
              "\n",
              "                                                  address      city  city_id  \\\n",
              "211939  Manu Smriti Complex, Near Navrachna School, GI...  Vadodara       32   \n",
              "211940  Mahalaxmi Apartment, Opposite B O B, Karoli Ba...  Vadodara       32   \n",
              "211941  3rd Floor, Shreem Shalini Mall, Opposite Conqu...  Vadodara       32   \n",
              "211942  G-2, Vedant Platina, Near Cosmos, Akota, Vadodara  Vadodara       32   \n",
              "211943  Shop 7, Ground Floor, Opposite Natubhai Circle...  Vadodara       32   \n",
              "\n",
              "          locality   latitude  longitude  ... price_range  currency  \\\n",
              "211939   Fatehgunj  22.336931  73.192356  ...           2       Rs.   \n",
              "211940  Karelibaug  22.322455  73.197203  ...           1       Rs.   \n",
              "211941    Alkapuri  22.310563  73.171163  ...           2       Rs.   \n",
              "211942       Akota  22.270027  73.143068  ...           2       Rs.   \n",
              "211943    Vadiwadi  22.309935  73.158768  ...           2       Rs.   \n",
              "\n",
              "                                               highlights aggregate_rating  \\\n",
              "211939  ['Dinner', 'Cash', 'Lunch', 'Delivery', 'Indoo...              4.1   \n",
              "211940  ['Dinner', 'Cash', 'Takeaway Available', 'Debi...              4.1   \n",
              "211941  ['Dinner', 'Cash', 'Debit Card', 'Lunch', 'Tak...              4.0   \n",
              "211942  ['Dinner', 'Delivery', 'Credit Card', 'Lunch',...              3.7   \n",
              "211943  ['Dinner', 'Cash', 'Takeaway Available', 'Debi...              4.0   \n",
              "\n",
              "       rating_text  votes  photo_count opentable_support delivery  takeaway  \n",
              "211939   Very Good    243           40               0.0       -1        -1  \n",
              "211940   Very Good    187           40               0.0        1        -1  \n",
              "211941   Very Good    111           38               0.0       -1        -1  \n",
              "211942        Good    128           34               0.0        1        -1  \n",
              "211943   Very Good     93           53               0.0        1        -1  \n",
              "\n",
              "[5 rows x 26 columns]"
            ],
            "text/html": [
              "\n",
              "  <div id=\"df-bd42f7fa-ef3d-4c66-829d-0a21077c7a13\">\n",
              "    <div class=\"colab-df-container\">\n",
              "      <div>\n",
              "<style scoped>\n",
              "    .dataframe tbody tr th:only-of-type {\n",
              "        vertical-align: middle;\n",
              "    }\n",
              "\n",
              "    .dataframe tbody tr th {\n",
              "        vertical-align: top;\n",
              "    }\n",
              "\n",
              "    .dataframe thead th {\n",
              "        text-align: right;\n",
              "    }\n",
              "</style>\n",
              "<table border=\"1\" class=\"dataframe\">\n",
              "  <thead>\n",
              "    <tr style=\"text-align: right;\">\n",
              "      <th></th>\n",
              "      <th>res_id</th>\n",
              "      <th>name</th>\n",
              "      <th>establishment</th>\n",
              "      <th>url</th>\n",
              "      <th>address</th>\n",
              "      <th>city</th>\n",
              "      <th>city_id</th>\n",
              "      <th>locality</th>\n",
              "      <th>latitude</th>\n",
              "      <th>longitude</th>\n",
              "      <th>...</th>\n",
              "      <th>price_range</th>\n",
              "      <th>currency</th>\n",
              "      <th>highlights</th>\n",
              "      <th>aggregate_rating</th>\n",
              "      <th>rating_text</th>\n",
              "      <th>votes</th>\n",
              "      <th>photo_count</th>\n",
              "      <th>opentable_support</th>\n",
              "      <th>delivery</th>\n",
              "      <th>takeaway</th>\n",
              "    </tr>\n",
              "  </thead>\n",
              "  <tbody>\n",
              "    <tr>\n",
              "      <th>211939</th>\n",
              "      <td>3202251</td>\n",
              "      <td>Kali Mirch Cafe And Restaurant</td>\n",
              "      <td>['Casual Dining']</td>\n",
              "      <td>https://www.zomato.com/vadodara/kali-mirch-caf...</td>\n",
              "      <td>Manu Smriti Complex, Near Navrachna School, GI...</td>\n",
              "      <td>Vadodara</td>\n",
              "      <td>32</td>\n",
              "      <td>Fatehgunj</td>\n",
              "      <td>22.336931</td>\n",
              "      <td>73.192356</td>\n",
              "      <td>...</td>\n",
              "      <td>2</td>\n",
              "      <td>Rs.</td>\n",
              "      <td>['Dinner', 'Cash', 'Lunch', 'Delivery', 'Indoo...</td>\n",
              "      <td>4.1</td>\n",
              "      <td>Very Good</td>\n",
              "      <td>243</td>\n",
              "      <td>40</td>\n",
              "      <td>0.0</td>\n",
              "      <td>-1</td>\n",
              "      <td>-1</td>\n",
              "    </tr>\n",
              "    <tr>\n",
              "      <th>211940</th>\n",
              "      <td>3200996</td>\n",
              "      <td>Raju Omlet</td>\n",
              "      <td>['Quick Bites']</td>\n",
              "      <td>https://www.zomato.com/vadodara/raju-omlet-kar...</td>\n",
              "      <td>Mahalaxmi Apartment, Opposite B O B, Karoli Ba...</td>\n",
              "      <td>Vadodara</td>\n",
              "      <td>32</td>\n",
              "      <td>Karelibaug</td>\n",
              "      <td>22.322455</td>\n",
              "      <td>73.197203</td>\n",
              "      <td>...</td>\n",
              "      <td>1</td>\n",
              "      <td>Rs.</td>\n",
              "      <td>['Dinner', 'Cash', 'Takeaway Available', 'Debi...</td>\n",
              "      <td>4.1</td>\n",
              "      <td>Very Good</td>\n",
              "      <td>187</td>\n",
              "      <td>40</td>\n",
              "      <td>0.0</td>\n",
              "      <td>1</td>\n",
              "      <td>-1</td>\n",
              "    </tr>\n",
              "    <tr>\n",
              "      <th>211941</th>\n",
              "      <td>18984164</td>\n",
              "      <td>The Grand Thakar</td>\n",
              "      <td>['Casual Dining']</td>\n",
              "      <td>https://www.zomato.com/vadodara/the-grand-thak...</td>\n",
              "      <td>3rd Floor, Shreem Shalini Mall, Opposite Conqu...</td>\n",
              "      <td>Vadodara</td>\n",
              "      <td>32</td>\n",
              "      <td>Alkapuri</td>\n",
              "      <td>22.310563</td>\n",
              "      <td>73.171163</td>\n",
              "      <td>...</td>\n",
              "      <td>2</td>\n",
              "      <td>Rs.</td>\n",
              "      <td>['Dinner', 'Cash', 'Debit Card', 'Lunch', 'Tak...</td>\n",
              "      <td>4.0</td>\n",
              "      <td>Very Good</td>\n",
              "      <td>111</td>\n",
              "      <td>38</td>\n",
              "      <td>0.0</td>\n",
              "      <td>-1</td>\n",
              "      <td>-1</td>\n",
              "    </tr>\n",
              "    <tr>\n",
              "      <th>211942</th>\n",
              "      <td>3201138</td>\n",
              "      <td>Subway</td>\n",
              "      <td>['Quick Bites']</td>\n",
              "      <td>https://www.zomato.com/vadodara/subway-1-akota...</td>\n",
              "      <td>G-2, Vedant Platina, Near Cosmos, Akota, Vadodara</td>\n",
              "      <td>Vadodara</td>\n",
              "      <td>32</td>\n",
              "      <td>Akota</td>\n",
              "      <td>22.270027</td>\n",
              "      <td>73.143068</td>\n",
              "      <td>...</td>\n",
              "      <td>2</td>\n",
              "      <td>Rs.</td>\n",
              "      <td>['Dinner', 'Delivery', 'Credit Card', 'Lunch',...</td>\n",
              "      <td>3.7</td>\n",
              "      <td>Good</td>\n",
              "      <td>128</td>\n",
              "      <td>34</td>\n",
              "      <td>0.0</td>\n",
              "      <td>1</td>\n",
              "      <td>-1</td>\n",
              "    </tr>\n",
              "    <tr>\n",
              "      <th>211943</th>\n",
              "      <td>18879846</td>\n",
              "      <td>Freshco's - The Health Cafe</td>\n",
              "      <td>['Café']</td>\n",
              "      <td>https://www.zomato.com/vadodara/freshcos-the-h...</td>\n",
              "      <td>Shop 7, Ground Floor, Opposite Natubhai Circle...</td>\n",
              "      <td>Vadodara</td>\n",
              "      <td>32</td>\n",
              "      <td>Vadiwadi</td>\n",
              "      <td>22.309935</td>\n",
              "      <td>73.158768</td>\n",
              "      <td>...</td>\n",
              "      <td>2</td>\n",
              "      <td>Rs.</td>\n",
              "      <td>['Dinner', 'Cash', 'Takeaway Available', 'Debi...</td>\n",
              "      <td>4.0</td>\n",
              "      <td>Very Good</td>\n",
              "      <td>93</td>\n",
              "      <td>53</td>\n",
              "      <td>0.0</td>\n",
              "      <td>1</td>\n",
              "      <td>-1</td>\n",
              "    </tr>\n",
              "  </tbody>\n",
              "</table>\n",
              "<p>5 rows × 26 columns</p>\n",
              "</div>\n",
              "      <button class=\"colab-df-convert\" onclick=\"convertToInteractive('df-bd42f7fa-ef3d-4c66-829d-0a21077c7a13')\"\n",
              "              title=\"Convert this dataframe to an interactive table.\"\n",
              "              style=\"display:none;\">\n",
              "        \n",
              "  <svg xmlns=\"http://www.w3.org/2000/svg\" height=\"24px\"viewBox=\"0 0 24 24\"\n",
              "       width=\"24px\">\n",
              "    <path d=\"M0 0h24v24H0V0z\" fill=\"none\"/>\n",
              "    <path d=\"M18.56 5.44l.94 2.06.94-2.06 2.06-.94-2.06-.94-.94-2.06-.94 2.06-2.06.94zm-11 1L8.5 8.5l.94-2.06 2.06-.94-2.06-.94L8.5 2.5l-.94 2.06-2.06.94zm10 10l.94 2.06.94-2.06 2.06-.94-2.06-.94-.94-2.06-.94 2.06-2.06.94z\"/><path d=\"M17.41 7.96l-1.37-1.37c-.4-.4-.92-.59-1.43-.59-.52 0-1.04.2-1.43.59L10.3 9.45l-7.72 7.72c-.78.78-.78 2.05 0 2.83L4 21.41c.39.39.9.59 1.41.59.51 0 1.02-.2 1.41-.59l7.78-7.78 2.81-2.81c.8-.78.8-2.07 0-2.86zM5.41 20L4 18.59l7.72-7.72 1.47 1.35L5.41 20z\"/>\n",
              "  </svg>\n",
              "      </button>\n",
              "      \n",
              "  <style>\n",
              "    .colab-df-container {\n",
              "      display:flex;\n",
              "      flex-wrap:wrap;\n",
              "      gap: 12px;\n",
              "    }\n",
              "\n",
              "    .colab-df-convert {\n",
              "      background-color: #E8F0FE;\n",
              "      border: none;\n",
              "      border-radius: 50%;\n",
              "      cursor: pointer;\n",
              "      display: none;\n",
              "      fill: #1967D2;\n",
              "      height: 32px;\n",
              "      padding: 0 0 0 0;\n",
              "      width: 32px;\n",
              "    }\n",
              "\n",
              "    .colab-df-convert:hover {\n",
              "      background-color: #E2EBFA;\n",
              "      box-shadow: 0px 1px 2px rgba(60, 64, 67, 0.3), 0px 1px 3px 1px rgba(60, 64, 67, 0.15);\n",
              "      fill: #174EA6;\n",
              "    }\n",
              "\n",
              "    [theme=dark] .colab-df-convert {\n",
              "      background-color: #3B4455;\n",
              "      fill: #D2E3FC;\n",
              "    }\n",
              "\n",
              "    [theme=dark] .colab-df-convert:hover {\n",
              "      background-color: #434B5C;\n",
              "      box-shadow: 0px 1px 3px 1px rgba(0, 0, 0, 0.15);\n",
              "      filter: drop-shadow(0px 1px 2px rgba(0, 0, 0, 0.3));\n",
              "      fill: #FFFFFF;\n",
              "    }\n",
              "  </style>\n",
              "\n",
              "      <script>\n",
              "        const buttonEl =\n",
              "          document.querySelector('#df-bd42f7fa-ef3d-4c66-829d-0a21077c7a13 button.colab-df-convert');\n",
              "        buttonEl.style.display =\n",
              "          google.colab.kernel.accessAllowed ? 'block' : 'none';\n",
              "\n",
              "        async function convertToInteractive(key) {\n",
              "          const element = document.querySelector('#df-bd42f7fa-ef3d-4c66-829d-0a21077c7a13');\n",
              "          const dataTable =\n",
              "            await google.colab.kernel.invokeFunction('convertToInteractive',\n",
              "                                                     [key], {});\n",
              "          if (!dataTable) return;\n",
              "\n",
              "          const docLinkHtml = 'Like what you see? Visit the ' +\n",
              "            '<a target=\"_blank\" href=https://colab.research.google.com/notebooks/data_table.ipynb>data table notebook</a>'\n",
              "            + ' to learn more about interactive tables.';\n",
              "          element.innerHTML = '';\n",
              "          dataTable['output_type'] = 'display_data';\n",
              "          await google.colab.output.renderOutput(dataTable, element);\n",
              "          const docLink = document.createElement('div');\n",
              "          docLink.innerHTML = docLinkHtml;\n",
              "          element.appendChild(docLink);\n",
              "        }\n",
              "      </script>\n",
              "    </div>\n",
              "  </div>\n",
              "  "
            ]
          },
          "metadata": {},
          "execution_count": 54
        }
      ]
    },
    {
      "cell_type": "code",
      "source": [
        "data.city.unique()"
      ],
      "metadata": {
        "colab": {
          "base_uri": "https://localhost:8080/"
        },
        "id": "orAYhuTrpYW2",
        "outputId": "72f61f8d-d221-46bb-f177-3cfd90cd4d61"
      },
      "execution_count": null,
      "outputs": [
        {
          "output_type": "execute_result",
          "data": {
            "text/plain": [
              "array(['Agra', 'Ahmedabad', 'Gandhinagar', 'Ajmer', 'Alappuzha',\n",
              "       'Allahabad', 'Amravati', 'Amritsar', 'Aurangabad', 'Bangalore',\n",
              "       'Bhopal', 'Bhubaneshwar', 'Chandigarh', 'Mohali', 'Panchkula',\n",
              "       'Zirakpur', 'Nayagaon', 'Chennai', 'Coimbatore', 'Cuttack',\n",
              "       'Darjeeling', 'Dehradun', 'New Delhi', 'Gurgaon', 'Noida',\n",
              "       'Faridabad', 'Ghaziabad', 'Greater Noida', 'Dharamshala',\n",
              "       'Gangtok', 'Goa', 'Gorakhpur', 'Guntur', 'Guwahati', 'Gwalior',\n",
              "       'Haridwar', 'Hyderabad', 'Secunderabad', 'Indore', 'Jabalpur',\n",
              "       'Jaipur', 'Jalandhar', 'Jammu', 'Jamnagar', 'Jamshedpur', 'Jhansi',\n",
              "       'Jodhpur', 'Junagadh', 'Kanpur', 'Kharagpur', 'Kochi', 'Kolhapur',\n",
              "       'Kolkata', 'Howrah', 'Kota', 'Lucknow', 'Ludhiana', 'Madurai',\n",
              "       'Manali', 'Mangalore', 'Manipal', 'Udupi', 'Meerut', 'Mumbai',\n",
              "       'Thane', 'Navi Mumbai', 'Mussoorie', 'Mysore', 'Nagpur',\n",
              "       'Nainital', 'Nasik', 'Nashik', 'Neemrana', 'Ooty', 'Palakkad',\n",
              "       'Patiala', 'Patna', 'Puducherry', 'Pune', 'Pushkar', 'Raipur',\n",
              "       'Rajkot', 'Ranchi', 'Rishikesh', 'Salem', 'Shimla', 'Siliguri',\n",
              "       'Srinagar', 'Surat', 'Thrissur', 'Tirupati', 'Trichy',\n",
              "       'Trivandrum', 'Udaipur', 'Varanasi', 'Vellore', 'Vijayawada',\n",
              "       'Vizag', 'Vadodara'], dtype=object)"
            ]
          },
          "metadata": {},
          "execution_count": 55
        }
      ]
    },
    {
      "cell_type": "code",
      "source": [
        "data.city.nunique()"
      ],
      "metadata": {
        "colab": {
          "base_uri": "https://localhost:8080/"
        },
        "id": "troMdTGapd8Y",
        "outputId": "c0c3bf0d-a5fa-41f0-efbc-6cc46e9f678e"
      },
      "execution_count": null,
      "outputs": [
        {
          "output_type": "execute_result",
          "data": {
            "text/plain": [
              "99"
            ]
          },
          "metadata": {},
          "execution_count": 56
        }
      ]
    },
    {
      "cell_type": "code",
      "source": [
        "data[data['city']=='Mumbai']"
      ],
      "metadata": {
        "colab": {
          "base_uri": "https://localhost:8080/",
          "height": 1000
        },
        "id": "eZrT54D6phHp",
        "outputId": "e0399d83-be3e-4c65-a4a9-13413f2cd21a"
      },
      "execution_count": null,
      "outputs": [
        {
          "output_type": "execute_result",
          "data": {
            "text/plain": [
              "          res_id                   name      establishment  \\\n",
              "134852  18562340            Drinkery 51  ['Casual Dining']   \n",
              "134853     34757           Joey's Pizza    ['Quick Bites']   \n",
              "134854  18548172                Hitchki            ['Bar']   \n",
              "134855  18392725                Tamasha         ['Lounge']   \n",
              "134856  18962112               Bayroute    ['Fine Dining']   \n",
              "...          ...                    ...                ...   \n",
              "142348     46792       BOX8- Desi Meals                 []   \n",
              "142349     37750                 Faasos    ['Quick Bites']   \n",
              "142350  18165909  Charcoal Eats Express    ['Quick Bites']   \n",
              "142351  18306481            Wok Express     ['Food Court']   \n",
              "142352  18140577            Rasoi Thali    ['Quick Bites']   \n",
              "\n",
              "                                                      url  \\\n",
              "134852  https://www.zomato.com/mumbai/drinkery-51-band...   \n",
              "134853  https://www.zomato.com/mumbai/joeys-pizza-mala...   \n",
              "134854  https://www.zomato.com/mumbai/hitchki-powai?ut...   \n",
              "134855  https://www.zomato.com/mumbai/tamasha-lower-pa...   \n",
              "134856  https://www.zomato.com/mumbai/bayroute-juhu?ut...   \n",
              "...                                                   ...   \n",
              "142348  https://www.zomato.com/mumbai/box8-desi-meals-...   \n",
              "142349  https://www.zomato.com/mumbai/faasos-veera-des...   \n",
              "142350  https://www.zomato.com/mumbai/charcoal-eats-ex...   \n",
              "142351  https://www.zomato.com/mumbai/wok-express-1-an...   \n",
              "142352  https://www.zomato.com/mumbai/rasoi-thali-mulu...   \n",
              "\n",
              "                                                  address    city  city_id  \\\n",
              "134852  1st Floor, Vibgyor Towers, Bandra Kurla Comple...  Mumbai        3   \n",
              "134853  Shop 1, Plot D, Samruddhi Complex, Chincholi B...  Mumbai        3   \n",
              "134854  5, Transocean, Hiranandani Business Park, Lake...  Mumbai        3   \n",
              "134855  Ground Floor, Victoria House, E.B Marg, Lower ...  Mumbai        3   \n",
              "134856  14, Silver Beach Estate, A.B. Nair Road, Oppos...  Mumbai        3   \n",
              "...                                                   ...     ...      ...   \n",
              "142348  102, Bhavani Industrial Estate, Opposite IIT B...  Mumbai        3   \n",
              "142349  Shop 06, Building 2, Pramukh Park Rehab CHS Li...  Mumbai        3   \n",
              "142350         Opposite Kamala Mills, Lower Parel, Mumbai  Mumbai        3   \n",
              "142351  Food Court, 2nd Floor, Infinity Mall, Unit 215...  Mumbai        3   \n",
              "142352  Shop 5, Bhodke Building, Near Hanuman Mandir, ...  Mumbai        3   \n",
              "\n",
              "                                                locality   latitude  \\\n",
              "134852                              Bandra Kurla Complex  19.067176   \n",
              "134853                                        Malad West  19.178188   \n",
              "134854                                             Powai  19.119930   \n",
              "134855                                       Lower Parel  19.006060   \n",
              "134856                                              Juhu  19.110684   \n",
              "...                                                  ...        ...   \n",
              "142348                                             Powai  19.124284   \n",
              "142349                                  Veera Desai Area  19.139601   \n",
              "142350                                       Lower Parel  19.002537   \n",
              "142351  Infiniti Mall, Andheri Lokhandwala, Andheri West  19.141117   \n",
              "142352                                       Mulund West  19.172657   \n",
              "\n",
              "        longitude  ... price_range  currency  \\\n",
              "134852  72.867493  ...           4       Rs.   \n",
              "134853  72.834666  ...           2       Rs.   \n",
              "134854  72.907331  ...           3       Rs.   \n",
              "134855  72.827496  ...           4       Rs.   \n",
              "134856  72.825368  ...           4       Rs.   \n",
              "...           ...  ...         ...       ...   \n",
              "142348  72.914877  ...           1       Rs.   \n",
              "142349  72.833119  ...           1       Rs.   \n",
              "142350  72.829391  ...           2       Rs.   \n",
              "142351  72.831181  ...           2       Rs.   \n",
              "142352  72.956466  ...           1       Rs.   \n",
              "\n",
              "                                               highlights aggregate_rating  \\\n",
              "134852  ['Dinner', 'Debit Card', 'Lunch', 'Serves Alco...              4.4   \n",
              "134853  ['Lunch', 'Cash', 'Takeaway Available', 'Debit...              4.5   \n",
              "134854  ['Lunch', 'Serves Alcohol', 'Cash', 'Credit Ca...              4.7   \n",
              "134855  ['Dinner', 'Cash', 'Takeaway Available', 'Cred...              4.7   \n",
              "134856  ['Dinner', 'Cash', 'Takeaway Available', 'Debi...              4.9   \n",
              "...                                                   ...              ...   \n",
              "142348  ['Cash', 'Debit Card', 'Takeaway Available', '...              4.0   \n",
              "142349  ['Dinner', 'Cash', 'Takeaway Available', 'Debi...              3.9   \n",
              "142350  ['Lunch', 'Cash', 'Credit Card', 'Dinner', 'St...              4.0   \n",
              "142351  ['No Alcohol Available', 'Dinner', 'Mall Parki...              3.7   \n",
              "142352  ['Lunch', 'Cash', 'Debit Card', 'Dinner', 'Tak...              3.9   \n",
              "\n",
              "       rating_text  votes  photo_count opentable_support delivery  takeaway  \n",
              "134852   Very Good   3796         1897               0.0        1        -1  \n",
              "134853   Excellent   7932         4960               0.0       -1        -1  \n",
              "134854   Excellent   3762        12979               0.0        1        -1  \n",
              "134855   Excellent   4979        16595               0.0       -1        -1  \n",
              "134856   Excellent    706         2484               0.0       -1        -1  \n",
              "...            ...    ...          ...               ...      ...       ...  \n",
              "142348   Very Good    726          703               0.0        1        -1  \n",
              "142349        Good    510          251               0.0        1        -1  \n",
              "142350   Very Good    491          344               0.0       -1        -1  \n",
              "142351        Good    515          490               0.0       -1        -1  \n",
              "142352        Good    142           34               0.0       -1        -1  \n",
              "\n",
              "[6497 rows x 26 columns]"
            ],
            "text/html": [
              "\n",
              "  <div id=\"df-1e73fa1e-87c5-4bd2-980e-d13441423edb\">\n",
              "    <div class=\"colab-df-container\">\n",
              "      <div>\n",
              "<style scoped>\n",
              "    .dataframe tbody tr th:only-of-type {\n",
              "        vertical-align: middle;\n",
              "    }\n",
              "\n",
              "    .dataframe tbody tr th {\n",
              "        vertical-align: top;\n",
              "    }\n",
              "\n",
              "    .dataframe thead th {\n",
              "        text-align: right;\n",
              "    }\n",
              "</style>\n",
              "<table border=\"1\" class=\"dataframe\">\n",
              "  <thead>\n",
              "    <tr style=\"text-align: right;\">\n",
              "      <th></th>\n",
              "      <th>res_id</th>\n",
              "      <th>name</th>\n",
              "      <th>establishment</th>\n",
              "      <th>url</th>\n",
              "      <th>address</th>\n",
              "      <th>city</th>\n",
              "      <th>city_id</th>\n",
              "      <th>locality</th>\n",
              "      <th>latitude</th>\n",
              "      <th>longitude</th>\n",
              "      <th>...</th>\n",
              "      <th>price_range</th>\n",
              "      <th>currency</th>\n",
              "      <th>highlights</th>\n",
              "      <th>aggregate_rating</th>\n",
              "      <th>rating_text</th>\n",
              "      <th>votes</th>\n",
              "      <th>photo_count</th>\n",
              "      <th>opentable_support</th>\n",
              "      <th>delivery</th>\n",
              "      <th>takeaway</th>\n",
              "    </tr>\n",
              "  </thead>\n",
              "  <tbody>\n",
              "    <tr>\n",
              "      <th>134852</th>\n",
              "      <td>18562340</td>\n",
              "      <td>Drinkery 51</td>\n",
              "      <td>['Casual Dining']</td>\n",
              "      <td>https://www.zomato.com/mumbai/drinkery-51-band...</td>\n",
              "      <td>1st Floor, Vibgyor Towers, Bandra Kurla Comple...</td>\n",
              "      <td>Mumbai</td>\n",
              "      <td>3</td>\n",
              "      <td>Bandra Kurla Complex</td>\n",
              "      <td>19.067176</td>\n",
              "      <td>72.867493</td>\n",
              "      <td>...</td>\n",
              "      <td>4</td>\n",
              "      <td>Rs.</td>\n",
              "      <td>['Dinner', 'Debit Card', 'Lunch', 'Serves Alco...</td>\n",
              "      <td>4.4</td>\n",
              "      <td>Very Good</td>\n",
              "      <td>3796</td>\n",
              "      <td>1897</td>\n",
              "      <td>0.0</td>\n",
              "      <td>1</td>\n",
              "      <td>-1</td>\n",
              "    </tr>\n",
              "    <tr>\n",
              "      <th>134853</th>\n",
              "      <td>34757</td>\n",
              "      <td>Joey's Pizza</td>\n",
              "      <td>['Quick Bites']</td>\n",
              "      <td>https://www.zomato.com/mumbai/joeys-pizza-mala...</td>\n",
              "      <td>Shop 1, Plot D, Samruddhi Complex, Chincholi B...</td>\n",
              "      <td>Mumbai</td>\n",
              "      <td>3</td>\n",
              "      <td>Malad West</td>\n",
              "      <td>19.178188</td>\n",
              "      <td>72.834666</td>\n",
              "      <td>...</td>\n",
              "      <td>2</td>\n",
              "      <td>Rs.</td>\n",
              "      <td>['Lunch', 'Cash', 'Takeaway Available', 'Debit...</td>\n",
              "      <td>4.5</td>\n",
              "      <td>Excellent</td>\n",
              "      <td>7932</td>\n",
              "      <td>4960</td>\n",
              "      <td>0.0</td>\n",
              "      <td>-1</td>\n",
              "      <td>-1</td>\n",
              "    </tr>\n",
              "    <tr>\n",
              "      <th>134854</th>\n",
              "      <td>18548172</td>\n",
              "      <td>Hitchki</td>\n",
              "      <td>['Bar']</td>\n",
              "      <td>https://www.zomato.com/mumbai/hitchki-powai?ut...</td>\n",
              "      <td>5, Transocean, Hiranandani Business Park, Lake...</td>\n",
              "      <td>Mumbai</td>\n",
              "      <td>3</td>\n",
              "      <td>Powai</td>\n",
              "      <td>19.119930</td>\n",
              "      <td>72.907331</td>\n",
              "      <td>...</td>\n",
              "      <td>3</td>\n",
              "      <td>Rs.</td>\n",
              "      <td>['Lunch', 'Serves Alcohol', 'Cash', 'Credit Ca...</td>\n",
              "      <td>4.7</td>\n",
              "      <td>Excellent</td>\n",
              "      <td>3762</td>\n",
              "      <td>12979</td>\n",
              "      <td>0.0</td>\n",
              "      <td>1</td>\n",
              "      <td>-1</td>\n",
              "    </tr>\n",
              "    <tr>\n",
              "      <th>134855</th>\n",
              "      <td>18392725</td>\n",
              "      <td>Tamasha</td>\n",
              "      <td>['Lounge']</td>\n",
              "      <td>https://www.zomato.com/mumbai/tamasha-lower-pa...</td>\n",
              "      <td>Ground Floor, Victoria House, E.B Marg, Lower ...</td>\n",
              "      <td>Mumbai</td>\n",
              "      <td>3</td>\n",
              "      <td>Lower Parel</td>\n",
              "      <td>19.006060</td>\n",
              "      <td>72.827496</td>\n",
              "      <td>...</td>\n",
              "      <td>4</td>\n",
              "      <td>Rs.</td>\n",
              "      <td>['Dinner', 'Cash', 'Takeaway Available', 'Cred...</td>\n",
              "      <td>4.7</td>\n",
              "      <td>Excellent</td>\n",
              "      <td>4979</td>\n",
              "      <td>16595</td>\n",
              "      <td>0.0</td>\n",
              "      <td>-1</td>\n",
              "      <td>-1</td>\n",
              "    </tr>\n",
              "    <tr>\n",
              "      <th>134856</th>\n",
              "      <td>18962112</td>\n",
              "      <td>Bayroute</td>\n",
              "      <td>['Fine Dining']</td>\n",
              "      <td>https://www.zomato.com/mumbai/bayroute-juhu?ut...</td>\n",
              "      <td>14, Silver Beach Estate, A.B. Nair Road, Oppos...</td>\n",
              "      <td>Mumbai</td>\n",
              "      <td>3</td>\n",
              "      <td>Juhu</td>\n",
              "      <td>19.110684</td>\n",
              "      <td>72.825368</td>\n",
              "      <td>...</td>\n",
              "      <td>4</td>\n",
              "      <td>Rs.</td>\n",
              "      <td>['Dinner', 'Cash', 'Takeaway Available', 'Debi...</td>\n",
              "      <td>4.9</td>\n",
              "      <td>Excellent</td>\n",
              "      <td>706</td>\n",
              "      <td>2484</td>\n",
              "      <td>0.0</td>\n",
              "      <td>-1</td>\n",
              "      <td>-1</td>\n",
              "    </tr>\n",
              "    <tr>\n",
              "      <th>...</th>\n",
              "      <td>...</td>\n",
              "      <td>...</td>\n",
              "      <td>...</td>\n",
              "      <td>...</td>\n",
              "      <td>...</td>\n",
              "      <td>...</td>\n",
              "      <td>...</td>\n",
              "      <td>...</td>\n",
              "      <td>...</td>\n",
              "      <td>...</td>\n",
              "      <td>...</td>\n",
              "      <td>...</td>\n",
              "      <td>...</td>\n",
              "      <td>...</td>\n",
              "      <td>...</td>\n",
              "      <td>...</td>\n",
              "      <td>...</td>\n",
              "      <td>...</td>\n",
              "      <td>...</td>\n",
              "      <td>...</td>\n",
              "      <td>...</td>\n",
              "    </tr>\n",
              "    <tr>\n",
              "      <th>142348</th>\n",
              "      <td>46792</td>\n",
              "      <td>BOX8- Desi Meals</td>\n",
              "      <td>[]</td>\n",
              "      <td>https://www.zomato.com/mumbai/box8-desi-meals-...</td>\n",
              "      <td>102, Bhavani Industrial Estate, Opposite IIT B...</td>\n",
              "      <td>Mumbai</td>\n",
              "      <td>3</td>\n",
              "      <td>Powai</td>\n",
              "      <td>19.124284</td>\n",
              "      <td>72.914877</td>\n",
              "      <td>...</td>\n",
              "      <td>1</td>\n",
              "      <td>Rs.</td>\n",
              "      <td>['Cash', 'Debit Card', 'Takeaway Available', '...</td>\n",
              "      <td>4.0</td>\n",
              "      <td>Very Good</td>\n",
              "      <td>726</td>\n",
              "      <td>703</td>\n",
              "      <td>0.0</td>\n",
              "      <td>1</td>\n",
              "      <td>-1</td>\n",
              "    </tr>\n",
              "    <tr>\n",
              "      <th>142349</th>\n",
              "      <td>37750</td>\n",
              "      <td>Faasos</td>\n",
              "      <td>['Quick Bites']</td>\n",
              "      <td>https://www.zomato.com/mumbai/faasos-veera-des...</td>\n",
              "      <td>Shop 06, Building 2, Pramukh Park Rehab CHS Li...</td>\n",
              "      <td>Mumbai</td>\n",
              "      <td>3</td>\n",
              "      <td>Veera Desai Area</td>\n",
              "      <td>19.139601</td>\n",
              "      <td>72.833119</td>\n",
              "      <td>...</td>\n",
              "      <td>1</td>\n",
              "      <td>Rs.</td>\n",
              "      <td>['Dinner', 'Cash', 'Takeaway Available', 'Debi...</td>\n",
              "      <td>3.9</td>\n",
              "      <td>Good</td>\n",
              "      <td>510</td>\n",
              "      <td>251</td>\n",
              "      <td>0.0</td>\n",
              "      <td>1</td>\n",
              "      <td>-1</td>\n",
              "    </tr>\n",
              "    <tr>\n",
              "      <th>142350</th>\n",
              "      <td>18165909</td>\n",
              "      <td>Charcoal Eats Express</td>\n",
              "      <td>['Quick Bites']</td>\n",
              "      <td>https://www.zomato.com/mumbai/charcoal-eats-ex...</td>\n",
              "      <td>Opposite Kamala Mills, Lower Parel, Mumbai</td>\n",
              "      <td>Mumbai</td>\n",
              "      <td>3</td>\n",
              "      <td>Lower Parel</td>\n",
              "      <td>19.002537</td>\n",
              "      <td>72.829391</td>\n",
              "      <td>...</td>\n",
              "      <td>2</td>\n",
              "      <td>Rs.</td>\n",
              "      <td>['Lunch', 'Cash', 'Credit Card', 'Dinner', 'St...</td>\n",
              "      <td>4.0</td>\n",
              "      <td>Very Good</td>\n",
              "      <td>491</td>\n",
              "      <td>344</td>\n",
              "      <td>0.0</td>\n",
              "      <td>-1</td>\n",
              "      <td>-1</td>\n",
              "    </tr>\n",
              "    <tr>\n",
              "      <th>142351</th>\n",
              "      <td>18306481</td>\n",
              "      <td>Wok Express</td>\n",
              "      <td>['Food Court']</td>\n",
              "      <td>https://www.zomato.com/mumbai/wok-express-1-an...</td>\n",
              "      <td>Food Court, 2nd Floor, Infinity Mall, Unit 215...</td>\n",
              "      <td>Mumbai</td>\n",
              "      <td>3</td>\n",
              "      <td>Infiniti Mall, Andheri Lokhandwala, Andheri West</td>\n",
              "      <td>19.141117</td>\n",
              "      <td>72.831181</td>\n",
              "      <td>...</td>\n",
              "      <td>2</td>\n",
              "      <td>Rs.</td>\n",
              "      <td>['No Alcohol Available', 'Dinner', 'Mall Parki...</td>\n",
              "      <td>3.7</td>\n",
              "      <td>Good</td>\n",
              "      <td>515</td>\n",
              "      <td>490</td>\n",
              "      <td>0.0</td>\n",
              "      <td>-1</td>\n",
              "      <td>-1</td>\n",
              "    </tr>\n",
              "    <tr>\n",
              "      <th>142352</th>\n",
              "      <td>18140577</td>\n",
              "      <td>Rasoi Thali</td>\n",
              "      <td>['Quick Bites']</td>\n",
              "      <td>https://www.zomato.com/mumbai/rasoi-thali-mulu...</td>\n",
              "      <td>Shop 5, Bhodke Building, Near Hanuman Mandir, ...</td>\n",
              "      <td>Mumbai</td>\n",
              "      <td>3</td>\n",
              "      <td>Mulund West</td>\n",
              "      <td>19.172657</td>\n",
              "      <td>72.956466</td>\n",
              "      <td>...</td>\n",
              "      <td>1</td>\n",
              "      <td>Rs.</td>\n",
              "      <td>['Lunch', 'Cash', 'Debit Card', 'Dinner', 'Tak...</td>\n",
              "      <td>3.9</td>\n",
              "      <td>Good</td>\n",
              "      <td>142</td>\n",
              "      <td>34</td>\n",
              "      <td>0.0</td>\n",
              "      <td>-1</td>\n",
              "      <td>-1</td>\n",
              "    </tr>\n",
              "  </tbody>\n",
              "</table>\n",
              "<p>6497 rows × 26 columns</p>\n",
              "</div>\n",
              "      <button class=\"colab-df-convert\" onclick=\"convertToInteractive('df-1e73fa1e-87c5-4bd2-980e-d13441423edb')\"\n",
              "              title=\"Convert this dataframe to an interactive table.\"\n",
              "              style=\"display:none;\">\n",
              "        \n",
              "  <svg xmlns=\"http://www.w3.org/2000/svg\" height=\"24px\"viewBox=\"0 0 24 24\"\n",
              "       width=\"24px\">\n",
              "    <path d=\"M0 0h24v24H0V0z\" fill=\"none\"/>\n",
              "    <path d=\"M18.56 5.44l.94 2.06.94-2.06 2.06-.94-2.06-.94-.94-2.06-.94 2.06-2.06.94zm-11 1L8.5 8.5l.94-2.06 2.06-.94-2.06-.94L8.5 2.5l-.94 2.06-2.06.94zm10 10l.94 2.06.94-2.06 2.06-.94-2.06-.94-.94-2.06-.94 2.06-2.06.94z\"/><path d=\"M17.41 7.96l-1.37-1.37c-.4-.4-.92-.59-1.43-.59-.52 0-1.04.2-1.43.59L10.3 9.45l-7.72 7.72c-.78.78-.78 2.05 0 2.83L4 21.41c.39.39.9.59 1.41.59.51 0 1.02-.2 1.41-.59l7.78-7.78 2.81-2.81c.8-.78.8-2.07 0-2.86zM5.41 20L4 18.59l7.72-7.72 1.47 1.35L5.41 20z\"/>\n",
              "  </svg>\n",
              "      </button>\n",
              "      \n",
              "  <style>\n",
              "    .colab-df-container {\n",
              "      display:flex;\n",
              "      flex-wrap:wrap;\n",
              "      gap: 12px;\n",
              "    }\n",
              "\n",
              "    .colab-df-convert {\n",
              "      background-color: #E8F0FE;\n",
              "      border: none;\n",
              "      border-radius: 50%;\n",
              "      cursor: pointer;\n",
              "      display: none;\n",
              "      fill: #1967D2;\n",
              "      height: 32px;\n",
              "      padding: 0 0 0 0;\n",
              "      width: 32px;\n",
              "    }\n",
              "\n",
              "    .colab-df-convert:hover {\n",
              "      background-color: #E2EBFA;\n",
              "      box-shadow: 0px 1px 2px rgba(60, 64, 67, 0.3), 0px 1px 3px 1px rgba(60, 64, 67, 0.15);\n",
              "      fill: #174EA6;\n",
              "    }\n",
              "\n",
              "    [theme=dark] .colab-df-convert {\n",
              "      background-color: #3B4455;\n",
              "      fill: #D2E3FC;\n",
              "    }\n",
              "\n",
              "    [theme=dark] .colab-df-convert:hover {\n",
              "      background-color: #434B5C;\n",
              "      box-shadow: 0px 1px 3px 1px rgba(0, 0, 0, 0.15);\n",
              "      filter: drop-shadow(0px 1px 2px rgba(0, 0, 0, 0.3));\n",
              "      fill: #FFFFFF;\n",
              "    }\n",
              "  </style>\n",
              "\n",
              "      <script>\n",
              "        const buttonEl =\n",
              "          document.querySelector('#df-1e73fa1e-87c5-4bd2-980e-d13441423edb button.colab-df-convert');\n",
              "        buttonEl.style.display =\n",
              "          google.colab.kernel.accessAllowed ? 'block' : 'none';\n",
              "\n",
              "        async function convertToInteractive(key) {\n",
              "          const element = document.querySelector('#df-1e73fa1e-87c5-4bd2-980e-d13441423edb');\n",
              "          const dataTable =\n",
              "            await google.colab.kernel.invokeFunction('convertToInteractive',\n",
              "                                                     [key], {});\n",
              "          if (!dataTable) return;\n",
              "\n",
              "          const docLinkHtml = 'Like what you see? Visit the ' +\n",
              "            '<a target=\"_blank\" href=https://colab.research.google.com/notebooks/data_table.ipynb>data table notebook</a>'\n",
              "            + ' to learn more about interactive tables.';\n",
              "          element.innerHTML = '';\n",
              "          dataTable['output_type'] = 'display_data';\n",
              "          await google.colab.output.renderOutput(dataTable, element);\n",
              "          const docLink = document.createElement('div');\n",
              "          docLink.innerHTML = docLinkHtml;\n",
              "          element.appendChild(docLink);\n",
              "        }\n",
              "      </script>\n",
              "    </div>\n",
              "  </div>\n",
              "  "
            ]
          },
          "metadata": {},
          "execution_count": 58
        }
      ]
    },
    {
      "cell_type": "code",
      "source": [
        "data[data['city']=='Pune']"
      ],
      "metadata": {
        "colab": {
          "base_uri": "https://localhost:8080/",
          "height": 1000
        },
        "id": "i2EnQ6kOpmaU",
        "outputId": "81f1ae99-74f4-4d7e-c456-f63ca8876ee9"
      },
      "execution_count": null,
      "outputs": [
        {
          "output_type": "execute_result",
          "data": {
            "text/plain": [
              "          res_id                                     name      establishment  \\\n",
              "164447     11283                   Harajuku - The O Hotel    ['Fine Dining']   \n",
              "164448     10663                      Mix@36 - The Westin         ['Lounge']   \n",
              "164449     10743                      Kangan - The Westin    ['Fine Dining']   \n",
              "164450  18938162                     Palette - The Westin    ['Fine Dining']   \n",
              "164451  18310167          Coriander Kitchen - Conrad Pune    ['Fine Dining']   \n",
              "...          ...                                      ...                ...   \n",
              "168659     13061  Lonavla Restaurant & Bar- Hotel Lonavla  ['Casual Dining']   \n",
              "168660  18555341                                   Utopia  ['Casual Dining']   \n",
              "168661  18767059                             Mapro Garden  ['Casual Dining']   \n",
              "168662   6503906                         Hotel Chandralok  ['Casual Dining']   \n",
              "168663  18711838                            Lion's Dhaaba  ['Casual Dining']   \n",
              "\n",
              "                                                      url  \\\n",
              "164447  https://www.zomato.com/pune/harajuku-the-o-hot...   \n",
              "164448  https://www.zomato.com/pune/mix@36-the-westin-...   \n",
              "164449  https://www.zomato.com/pune/kangan-the-westin-...   \n",
              "164450  https://www.zomato.com/pune/palette-the-westin...   \n",
              "164451  https://www.zomato.com/pune/coriander-kitchen-...   \n",
              "...                                                   ...   \n",
              "168659  https://www.zomato.com/pune/lonavla-restaurant...   \n",
              "168660  https://www.zomato.com/pune/utopia-lonavala?ut...   \n",
              "168661  https://www.zomato.com/pune/mapro-garden-lonav...   \n",
              "168662  https://www.zomato.com/pune/hotel-chandralok-l...   \n",
              "168663  https://www.zomato.com/pune/lions-dhaaba-6-lon...   \n",
              "\n",
              "                                                  address  city  city_id  \\\n",
              "164447  The O Hotel, North Main Road, Koregaon Park, Pune  Pune        5   \n",
              "164448  The Westin, Survey 36/3B, KP Annexe Mundhwa Ro...  Pune        5   \n",
              "164449  The Westin, 36/3B, KP Annexe, Mundhwa Road, Mu...  Pune        5   \n",
              "164450  The Westin, 36/3B, KP Annexe, Mundhwa Road, Mu...  Pune        5   \n",
              "164451     Conrad, Mangaldas Road, Bund Garden Road, Pune  Pune        5   \n",
              "...                                                   ...   ...      ...   \n",
              "168659     Gawlinaka, Mumbai-Pune Highway, Lonavala, Pune  Pune        5   \n",
              "168660      CTS 159, Old Mumbai-Pune Road, Lonavala, Pune  Pune        5   \n",
              "168661  3 & 4, Old Mumbai - Pune Highway, Valvan, Lona...  Pune        5   \n",
              "168662  Near Bus Stand & Post Office, Opposite Mumbai-...  Pune        5   \n",
              "168663  Besides Lion's Point, Ambey Valley, Atvan, Lon...  Pune        5   \n",
              "\n",
              "                             locality   latitude  longitude  ... price_range  \\\n",
              "164447     The O Hotel, Koregaon Park  18.540239  73.887518  ...           4   \n",
              "164448            The Westin, Mundhwa  18.540040  73.905910  ...           4   \n",
              "164449            The Westin, Mundhwa  18.539455  73.906040  ...           4   \n",
              "164450            The Westin, Mundhwa  18.539430  73.906009  ...           4   \n",
              "164451  Conrad Pune, Bund Garden Road  18.535409  73.883592  ...           4   \n",
              "...                               ...        ...        ...  ...         ...   \n",
              "168659                       Lonavala  18.754747  73.405682  ...           3   \n",
              "168660                       Lonavala  18.754342  73.402737  ...           3   \n",
              "168661                       Lonavala  18.760234  73.419775  ...           2   \n",
              "168662                       Lonavala  18.753223  73.405655  ...           2   \n",
              "168663                       Lonavala  18.687172  73.393627  ...           3   \n",
              "\n",
              "        currency                                         highlights  \\\n",
              "164447       Rs.  ['Cash', 'Debit Card', 'Lunch', 'Credit Card',...   \n",
              "164448       Rs.  ['Cash', 'Debit Card', 'Serves Alcohol', 'Take...   \n",
              "164449       Rs.  ['Serves Alcohol', 'Cash', 'Debit Card', 'Take...   \n",
              "164450       Rs.  ['Serves Alcohol', 'Credit Card', 'Lunch', 'Ca...   \n",
              "164451       Rs.  ['Lunch', 'Serves Alcohol', 'Takeaway Availabl...   \n",
              "...          ...                                                ...   \n",
              "168659       Rs.  ['Dinner', 'Cash', 'Takeaway Available', 'Debi...   \n",
              "168660       Rs.  ['Dinner', 'Cash', 'Takeaway Available', 'Debi...   \n",
              "168661       Rs.  ['Dinner', 'Takeaway Available', 'No Alcohol A...   \n",
              "168662       Rs.  ['No Alcohol Available', 'Dinner', 'Takeaway A...   \n",
              "168663       Rs.  ['Lunch', 'Takeaway Available', 'Dinner', 'Cas...   \n",
              "\n",
              "       aggregate_rating rating_text  votes  photo_count opentable_support  \\\n",
              "164447              3.7        Good     96           38               0.0   \n",
              "164448              4.0   Very Good    682           78               0.0   \n",
              "164449              4.0   Very Good    310          285               0.0   \n",
              "164450              3.3     Average      9           31               0.0   \n",
              "164451              4.4   Very Good    500         1116               0.0   \n",
              "...                 ...         ...    ...          ...               ...   \n",
              "168659              4.3   Very Good    474           81               0.0   \n",
              "168660              3.9        Good    336          204               0.0   \n",
              "168661              4.3   Very Good    143          227               0.0   \n",
              "168662              4.3   Very Good    317           86               0.0   \n",
              "168663              3.9        Good     67          171               0.0   \n",
              "\n",
              "       delivery  takeaway  \n",
              "164447       -1        -1  \n",
              "164448       -1        -1  \n",
              "164449       -1        -1  \n",
              "164450       -1        -1  \n",
              "164451       -1        -1  \n",
              "...         ...       ...  \n",
              "168659       -1        -1  \n",
              "168660       -1        -1  \n",
              "168661       -1        -1  \n",
              "168662       -1        -1  \n",
              "168663       -1        -1  \n",
              "\n",
              "[4217 rows x 26 columns]"
            ],
            "text/html": [
              "\n",
              "  <div id=\"df-f5940109-0638-43d9-8b68-7ed7ec7887fa\">\n",
              "    <div class=\"colab-df-container\">\n",
              "      <div>\n",
              "<style scoped>\n",
              "    .dataframe tbody tr th:only-of-type {\n",
              "        vertical-align: middle;\n",
              "    }\n",
              "\n",
              "    .dataframe tbody tr th {\n",
              "        vertical-align: top;\n",
              "    }\n",
              "\n",
              "    .dataframe thead th {\n",
              "        text-align: right;\n",
              "    }\n",
              "</style>\n",
              "<table border=\"1\" class=\"dataframe\">\n",
              "  <thead>\n",
              "    <tr style=\"text-align: right;\">\n",
              "      <th></th>\n",
              "      <th>res_id</th>\n",
              "      <th>name</th>\n",
              "      <th>establishment</th>\n",
              "      <th>url</th>\n",
              "      <th>address</th>\n",
              "      <th>city</th>\n",
              "      <th>city_id</th>\n",
              "      <th>locality</th>\n",
              "      <th>latitude</th>\n",
              "      <th>longitude</th>\n",
              "      <th>...</th>\n",
              "      <th>price_range</th>\n",
              "      <th>currency</th>\n",
              "      <th>highlights</th>\n",
              "      <th>aggregate_rating</th>\n",
              "      <th>rating_text</th>\n",
              "      <th>votes</th>\n",
              "      <th>photo_count</th>\n",
              "      <th>opentable_support</th>\n",
              "      <th>delivery</th>\n",
              "      <th>takeaway</th>\n",
              "    </tr>\n",
              "  </thead>\n",
              "  <tbody>\n",
              "    <tr>\n",
              "      <th>164447</th>\n",
              "      <td>11283</td>\n",
              "      <td>Harajuku - The O Hotel</td>\n",
              "      <td>['Fine Dining']</td>\n",
              "      <td>https://www.zomato.com/pune/harajuku-the-o-hot...</td>\n",
              "      <td>The O Hotel, North Main Road, Koregaon Park, Pune</td>\n",
              "      <td>Pune</td>\n",
              "      <td>5</td>\n",
              "      <td>The O Hotel, Koregaon Park</td>\n",
              "      <td>18.540239</td>\n",
              "      <td>73.887518</td>\n",
              "      <td>...</td>\n",
              "      <td>4</td>\n",
              "      <td>Rs.</td>\n",
              "      <td>['Cash', 'Debit Card', 'Lunch', 'Credit Card',...</td>\n",
              "      <td>3.7</td>\n",
              "      <td>Good</td>\n",
              "      <td>96</td>\n",
              "      <td>38</td>\n",
              "      <td>0.0</td>\n",
              "      <td>-1</td>\n",
              "      <td>-1</td>\n",
              "    </tr>\n",
              "    <tr>\n",
              "      <th>164448</th>\n",
              "      <td>10663</td>\n",
              "      <td>Mix@36 - The Westin</td>\n",
              "      <td>['Lounge']</td>\n",
              "      <td>https://www.zomato.com/pune/mix@36-the-westin-...</td>\n",
              "      <td>The Westin, Survey 36/3B, KP Annexe Mundhwa Ro...</td>\n",
              "      <td>Pune</td>\n",
              "      <td>5</td>\n",
              "      <td>The Westin, Mundhwa</td>\n",
              "      <td>18.540040</td>\n",
              "      <td>73.905910</td>\n",
              "      <td>...</td>\n",
              "      <td>4</td>\n",
              "      <td>Rs.</td>\n",
              "      <td>['Cash', 'Debit Card', 'Serves Alcohol', 'Take...</td>\n",
              "      <td>4.0</td>\n",
              "      <td>Very Good</td>\n",
              "      <td>682</td>\n",
              "      <td>78</td>\n",
              "      <td>0.0</td>\n",
              "      <td>-1</td>\n",
              "      <td>-1</td>\n",
              "    </tr>\n",
              "    <tr>\n",
              "      <th>164449</th>\n",
              "      <td>10743</td>\n",
              "      <td>Kangan - The Westin</td>\n",
              "      <td>['Fine Dining']</td>\n",
              "      <td>https://www.zomato.com/pune/kangan-the-westin-...</td>\n",
              "      <td>The Westin, 36/3B, KP Annexe, Mundhwa Road, Mu...</td>\n",
              "      <td>Pune</td>\n",
              "      <td>5</td>\n",
              "      <td>The Westin, Mundhwa</td>\n",
              "      <td>18.539455</td>\n",
              "      <td>73.906040</td>\n",
              "      <td>...</td>\n",
              "      <td>4</td>\n",
              "      <td>Rs.</td>\n",
              "      <td>['Serves Alcohol', 'Cash', 'Debit Card', 'Take...</td>\n",
              "      <td>4.0</td>\n",
              "      <td>Very Good</td>\n",
              "      <td>310</td>\n",
              "      <td>285</td>\n",
              "      <td>0.0</td>\n",
              "      <td>-1</td>\n",
              "      <td>-1</td>\n",
              "    </tr>\n",
              "    <tr>\n",
              "      <th>164450</th>\n",
              "      <td>18938162</td>\n",
              "      <td>Palette - The Westin</td>\n",
              "      <td>['Fine Dining']</td>\n",
              "      <td>https://www.zomato.com/pune/palette-the-westin...</td>\n",
              "      <td>The Westin, 36/3B, KP Annexe, Mundhwa Road, Mu...</td>\n",
              "      <td>Pune</td>\n",
              "      <td>5</td>\n",
              "      <td>The Westin, Mundhwa</td>\n",
              "      <td>18.539430</td>\n",
              "      <td>73.906009</td>\n",
              "      <td>...</td>\n",
              "      <td>4</td>\n",
              "      <td>Rs.</td>\n",
              "      <td>['Serves Alcohol', 'Credit Card', 'Lunch', 'Ca...</td>\n",
              "      <td>3.3</td>\n",
              "      <td>Average</td>\n",
              "      <td>9</td>\n",
              "      <td>31</td>\n",
              "      <td>0.0</td>\n",
              "      <td>-1</td>\n",
              "      <td>-1</td>\n",
              "    </tr>\n",
              "    <tr>\n",
              "      <th>164451</th>\n",
              "      <td>18310167</td>\n",
              "      <td>Coriander Kitchen - Conrad Pune</td>\n",
              "      <td>['Fine Dining']</td>\n",
              "      <td>https://www.zomato.com/pune/coriander-kitchen-...</td>\n",
              "      <td>Conrad, Mangaldas Road, Bund Garden Road, Pune</td>\n",
              "      <td>Pune</td>\n",
              "      <td>5</td>\n",
              "      <td>Conrad Pune, Bund Garden Road</td>\n",
              "      <td>18.535409</td>\n",
              "      <td>73.883592</td>\n",
              "      <td>...</td>\n",
              "      <td>4</td>\n",
              "      <td>Rs.</td>\n",
              "      <td>['Lunch', 'Serves Alcohol', 'Takeaway Availabl...</td>\n",
              "      <td>4.4</td>\n",
              "      <td>Very Good</td>\n",
              "      <td>500</td>\n",
              "      <td>1116</td>\n",
              "      <td>0.0</td>\n",
              "      <td>-1</td>\n",
              "      <td>-1</td>\n",
              "    </tr>\n",
              "    <tr>\n",
              "      <th>...</th>\n",
              "      <td>...</td>\n",
              "      <td>...</td>\n",
              "      <td>...</td>\n",
              "      <td>...</td>\n",
              "      <td>...</td>\n",
              "      <td>...</td>\n",
              "      <td>...</td>\n",
              "      <td>...</td>\n",
              "      <td>...</td>\n",
              "      <td>...</td>\n",
              "      <td>...</td>\n",
              "      <td>...</td>\n",
              "      <td>...</td>\n",
              "      <td>...</td>\n",
              "      <td>...</td>\n",
              "      <td>...</td>\n",
              "      <td>...</td>\n",
              "      <td>...</td>\n",
              "      <td>...</td>\n",
              "      <td>...</td>\n",
              "      <td>...</td>\n",
              "    </tr>\n",
              "    <tr>\n",
              "      <th>168659</th>\n",
              "      <td>13061</td>\n",
              "      <td>Lonavla Restaurant &amp; Bar- Hotel Lonavla</td>\n",
              "      <td>['Casual Dining']</td>\n",
              "      <td>https://www.zomato.com/pune/lonavla-restaurant...</td>\n",
              "      <td>Gawlinaka, Mumbai-Pune Highway, Lonavala, Pune</td>\n",
              "      <td>Pune</td>\n",
              "      <td>5</td>\n",
              "      <td>Lonavala</td>\n",
              "      <td>18.754747</td>\n",
              "      <td>73.405682</td>\n",
              "      <td>...</td>\n",
              "      <td>3</td>\n",
              "      <td>Rs.</td>\n",
              "      <td>['Dinner', 'Cash', 'Takeaway Available', 'Debi...</td>\n",
              "      <td>4.3</td>\n",
              "      <td>Very Good</td>\n",
              "      <td>474</td>\n",
              "      <td>81</td>\n",
              "      <td>0.0</td>\n",
              "      <td>-1</td>\n",
              "      <td>-1</td>\n",
              "    </tr>\n",
              "    <tr>\n",
              "      <th>168660</th>\n",
              "      <td>18555341</td>\n",
              "      <td>Utopia</td>\n",
              "      <td>['Casual Dining']</td>\n",
              "      <td>https://www.zomato.com/pune/utopia-lonavala?ut...</td>\n",
              "      <td>CTS 159, Old Mumbai-Pune Road, Lonavala, Pune</td>\n",
              "      <td>Pune</td>\n",
              "      <td>5</td>\n",
              "      <td>Lonavala</td>\n",
              "      <td>18.754342</td>\n",
              "      <td>73.402737</td>\n",
              "      <td>...</td>\n",
              "      <td>3</td>\n",
              "      <td>Rs.</td>\n",
              "      <td>['Dinner', 'Cash', 'Takeaway Available', 'Debi...</td>\n",
              "      <td>3.9</td>\n",
              "      <td>Good</td>\n",
              "      <td>336</td>\n",
              "      <td>204</td>\n",
              "      <td>0.0</td>\n",
              "      <td>-1</td>\n",
              "      <td>-1</td>\n",
              "    </tr>\n",
              "    <tr>\n",
              "      <th>168661</th>\n",
              "      <td>18767059</td>\n",
              "      <td>Mapro Garden</td>\n",
              "      <td>['Casual Dining']</td>\n",
              "      <td>https://www.zomato.com/pune/mapro-garden-lonav...</td>\n",
              "      <td>3 &amp; 4, Old Mumbai - Pune Highway, Valvan, Lona...</td>\n",
              "      <td>Pune</td>\n",
              "      <td>5</td>\n",
              "      <td>Lonavala</td>\n",
              "      <td>18.760234</td>\n",
              "      <td>73.419775</td>\n",
              "      <td>...</td>\n",
              "      <td>2</td>\n",
              "      <td>Rs.</td>\n",
              "      <td>['Dinner', 'Takeaway Available', 'No Alcohol A...</td>\n",
              "      <td>4.3</td>\n",
              "      <td>Very Good</td>\n",
              "      <td>143</td>\n",
              "      <td>227</td>\n",
              "      <td>0.0</td>\n",
              "      <td>-1</td>\n",
              "      <td>-1</td>\n",
              "    </tr>\n",
              "    <tr>\n",
              "      <th>168662</th>\n",
              "      <td>6503906</td>\n",
              "      <td>Hotel Chandralok</td>\n",
              "      <td>['Casual Dining']</td>\n",
              "      <td>https://www.zomato.com/pune/hotel-chandralok-l...</td>\n",
              "      <td>Near Bus Stand &amp; Post Office, Opposite Mumbai-...</td>\n",
              "      <td>Pune</td>\n",
              "      <td>5</td>\n",
              "      <td>Lonavala</td>\n",
              "      <td>18.753223</td>\n",
              "      <td>73.405655</td>\n",
              "      <td>...</td>\n",
              "      <td>2</td>\n",
              "      <td>Rs.</td>\n",
              "      <td>['No Alcohol Available', 'Dinner', 'Takeaway A...</td>\n",
              "      <td>4.3</td>\n",
              "      <td>Very Good</td>\n",
              "      <td>317</td>\n",
              "      <td>86</td>\n",
              "      <td>0.0</td>\n",
              "      <td>-1</td>\n",
              "      <td>-1</td>\n",
              "    </tr>\n",
              "    <tr>\n",
              "      <th>168663</th>\n",
              "      <td>18711838</td>\n",
              "      <td>Lion's Dhaaba</td>\n",
              "      <td>['Casual Dining']</td>\n",
              "      <td>https://www.zomato.com/pune/lions-dhaaba-6-lon...</td>\n",
              "      <td>Besides Lion's Point, Ambey Valley, Atvan, Lon...</td>\n",
              "      <td>Pune</td>\n",
              "      <td>5</td>\n",
              "      <td>Lonavala</td>\n",
              "      <td>18.687172</td>\n",
              "      <td>73.393627</td>\n",
              "      <td>...</td>\n",
              "      <td>3</td>\n",
              "      <td>Rs.</td>\n",
              "      <td>['Lunch', 'Takeaway Available', 'Dinner', 'Cas...</td>\n",
              "      <td>3.9</td>\n",
              "      <td>Good</td>\n",
              "      <td>67</td>\n",
              "      <td>171</td>\n",
              "      <td>0.0</td>\n",
              "      <td>-1</td>\n",
              "      <td>-1</td>\n",
              "    </tr>\n",
              "  </tbody>\n",
              "</table>\n",
              "<p>4217 rows × 26 columns</p>\n",
              "</div>\n",
              "      <button class=\"colab-df-convert\" onclick=\"convertToInteractive('df-f5940109-0638-43d9-8b68-7ed7ec7887fa')\"\n",
              "              title=\"Convert this dataframe to an interactive table.\"\n",
              "              style=\"display:none;\">\n",
              "        \n",
              "  <svg xmlns=\"http://www.w3.org/2000/svg\" height=\"24px\"viewBox=\"0 0 24 24\"\n",
              "       width=\"24px\">\n",
              "    <path d=\"M0 0h24v24H0V0z\" fill=\"none\"/>\n",
              "    <path d=\"M18.56 5.44l.94 2.06.94-2.06 2.06-.94-2.06-.94-.94-2.06-.94 2.06-2.06.94zm-11 1L8.5 8.5l.94-2.06 2.06-.94-2.06-.94L8.5 2.5l-.94 2.06-2.06.94zm10 10l.94 2.06.94-2.06 2.06-.94-2.06-.94-.94-2.06-.94 2.06-2.06.94z\"/><path d=\"M17.41 7.96l-1.37-1.37c-.4-.4-.92-.59-1.43-.59-.52 0-1.04.2-1.43.59L10.3 9.45l-7.72 7.72c-.78.78-.78 2.05 0 2.83L4 21.41c.39.39.9.59 1.41.59.51 0 1.02-.2 1.41-.59l7.78-7.78 2.81-2.81c.8-.78.8-2.07 0-2.86zM5.41 20L4 18.59l7.72-7.72 1.47 1.35L5.41 20z\"/>\n",
              "  </svg>\n",
              "      </button>\n",
              "      \n",
              "  <style>\n",
              "    .colab-df-container {\n",
              "      display:flex;\n",
              "      flex-wrap:wrap;\n",
              "      gap: 12px;\n",
              "    }\n",
              "\n",
              "    .colab-df-convert {\n",
              "      background-color: #E8F0FE;\n",
              "      border: none;\n",
              "      border-radius: 50%;\n",
              "      cursor: pointer;\n",
              "      display: none;\n",
              "      fill: #1967D2;\n",
              "      height: 32px;\n",
              "      padding: 0 0 0 0;\n",
              "      width: 32px;\n",
              "    }\n",
              "\n",
              "    .colab-df-convert:hover {\n",
              "      background-color: #E2EBFA;\n",
              "      box-shadow: 0px 1px 2px rgba(60, 64, 67, 0.3), 0px 1px 3px 1px rgba(60, 64, 67, 0.15);\n",
              "      fill: #174EA6;\n",
              "    }\n",
              "\n",
              "    [theme=dark] .colab-df-convert {\n",
              "      background-color: #3B4455;\n",
              "      fill: #D2E3FC;\n",
              "    }\n",
              "\n",
              "    [theme=dark] .colab-df-convert:hover {\n",
              "      background-color: #434B5C;\n",
              "      box-shadow: 0px 1px 3px 1px rgba(0, 0, 0, 0.15);\n",
              "      filter: drop-shadow(0px 1px 2px rgba(0, 0, 0, 0.3));\n",
              "      fill: #FFFFFF;\n",
              "    }\n",
              "  </style>\n",
              "\n",
              "      <script>\n",
              "        const buttonEl =\n",
              "          document.querySelector('#df-f5940109-0638-43d9-8b68-7ed7ec7887fa button.colab-df-convert');\n",
              "        buttonEl.style.display =\n",
              "          google.colab.kernel.accessAllowed ? 'block' : 'none';\n",
              "\n",
              "        async function convertToInteractive(key) {\n",
              "          const element = document.querySelector('#df-f5940109-0638-43d9-8b68-7ed7ec7887fa');\n",
              "          const dataTable =\n",
              "            await google.colab.kernel.invokeFunction('convertToInteractive',\n",
              "                                                     [key], {});\n",
              "          if (!dataTable) return;\n",
              "\n",
              "          const docLinkHtml = 'Like what you see? Visit the ' +\n",
              "            '<a target=\"_blank\" href=https://colab.research.google.com/notebooks/data_table.ipynb>data table notebook</a>'\n",
              "            + ' to learn more about interactive tables.';\n",
              "          element.innerHTML = '';\n",
              "          dataTable['output_type'] = 'display_data';\n",
              "          await google.colab.output.renderOutput(dataTable, element);\n",
              "          const docLink = document.createElement('div');\n",
              "          docLink.innerHTML = docLinkHtml;\n",
              "          element.appendChild(docLink);\n",
              "        }\n",
              "      </script>\n",
              "    </div>\n",
              "  </div>\n",
              "  "
            ]
          },
          "metadata": {},
          "execution_count": 60
        }
      ]
    },
    {
      "cell_type": "code",
      "source": [
        "data[data['city']=='New Delhi']"
      ],
      "metadata": {
        "colab": {
          "base_uri": "https://localhost:8080/",
          "height": 1000
        },
        "id": "3RrGLoY9pptc",
        "outputId": "bb9348c8-5bb9-4447-8627-191d4364345a"
      },
      "execution_count": null,
      "outputs": [
        {
          "output_type": "execute_result",
          "data": {
            "text/plain": [
              "         res_id                     name      establishment  \\\n",
              "53884  18895645       Plum By Bent Chair  ['Casual Dining']   \n",
              "53885  18429148                 Pa Pa Ya    ['Fine Dining']   \n",
              "53886  18418277         Ministry Of Beer         ['Lounge']   \n",
              "53887  18625812                  Detroit            ['Bar']   \n",
              "53888  18423151  The Darzi Bar & Kitchen  ['Casual Dining']   \n",
              "...         ...                      ...                ...   \n",
              "59842  18372693    Three Tuns Cafe & Bar  ['Casual Dining']   \n",
              "59843  18523131               Too Indian  ['Casual Dining']   \n",
              "59844    307060   The Beer Cafe - BIGGIE            ['Bar']   \n",
              "59845  18500611           Sixth Empirica  ['Casual Dining']   \n",
              "59846  18128893          Lavaash By Saby  ['Casual Dining']   \n",
              "\n",
              "                                                     url  \\\n",
              "53884  https://www.zomato.com/ncr/plum-by-bent-chair-...   \n",
              "53885  https://www.zomato.com/ncr/pa-pa-ya-saket-new-...   \n",
              "53886  https://www.zomato.com/ncr/ministry-of-beer-co...   \n",
              "53887  https://www.zomato.com/ncr/detroit-connaught-p...   \n",
              "53888  https://www.zomato.com/TheDarziBar?utm_source=...   \n",
              "...                                                  ...   \n",
              "59842  https://www.zomato.com/ncr/three-tuns-cafe-bar...   \n",
              "59843  https://www.zomato.com/ncr/too-indian-rajouri-...   \n",
              "59844  https://www.zomato.com/ncr/the-beer-cafe-biggi...   \n",
              "59845  https://www.zomato.com/ncr/sixth-empirica-punj...   \n",
              "59846  https://www.zomato.com/ncr/lavaash-by-saby-meh...   \n",
              "\n",
              "                                                 address       city  city_id  \\\n",
              "53884         The Walk, Worldmark 2, Aerocity, New Delhi  New Delhi        1   \n",
              "53885  Dome, Level 4, Select Citywalk, A-3, District ...  New Delhi        1   \n",
              "53886     M 44, Outer Circle, Connaught Place, New Delhi  New Delhi        1   \n",
              "53887  F40, 2nd Floor, Inner Circle, \\nConnaught Plac...  New Delhi        1   \n",
              "53888  H 55, 1st Floor, Outer Circle, Connaught Place...  New Delhi        1   \n",
              "...                                                  ...        ...      ...   \n",
              "59842  2nd Floor, Unity One Mall, Near Janak Puri Wes...  New Delhi        1   \n",
              "59843    A 39, Vishal Enclave, Rajouri Garden, New Delhi  New Delhi        1   \n",
              "59844      D-2, Inner Circle, Connaught Place, New Delhi  New Delhi        1   \n",
              "59845  Building 6, 2nd & 3rd Floor, NWA, Punjabi Bagh...  New Delhi        1   \n",
              "59846  H-5/1, Ambawatta One, Kalkadass Marg, Mehrauli...  New Delhi        1   \n",
              "\n",
              "                          locality   latitude  longitude  ... price_range  \\\n",
              "53884                     Aerocity  28.551540  77.122704  ...           1   \n",
              "53885  Select Citywalk Mall, Saket  28.528391  77.218611  ...           4   \n",
              "53886              Connaught Place  28.633286  77.222787  ...           3   \n",
              "53887              Connaught Place  28.631357  77.220251  ...           3   \n",
              "53888              Connaught Place  28.635508  77.219096  ...           3   \n",
              "...                            ...        ...        ...  ...         ...   \n",
              "59842    Unity One Mall, Janakpuri  28.628702  77.076617  ...           3   \n",
              "59843               Rajouri Garden  28.650466  77.120146  ...           3   \n",
              "59844              Connaught Place  28.633842  77.220804  ...           3   \n",
              "59845                 Punjabi Bagh  28.666524  77.123032  ...           3   \n",
              "59846                     Mehrauli  28.526504  77.185070  ...           4   \n",
              "\n",
              "       currency                                         highlights  \\\n",
              "53884       Rs.  ['Debit Card', 'Dinner', 'Cash', 'Credit Card'...   \n",
              "53885       Rs.  ['Credit Card', 'Debit Card', 'Lunch', 'Serves...   \n",
              "53886       Rs.  ['Lunch', 'Credit Card', 'Dinner', 'Cash', 'De...   \n",
              "53887       Rs.  ['Lunch', 'Serves Alcohol', 'Takeaway Availabl...   \n",
              "53888       Rs.  ['Lunch', 'Serves Alcohol', 'Cash', 'Credit Ca...   \n",
              "...         ...                                                ...   \n",
              "59842       Rs.  ['Debit Card', 'Takeaway Available', 'Dinner',...   \n",
              "59843       Rs.  ['Lunch', 'Delivery', 'Credit Card', 'Dinner',...   \n",
              "59844       Rs.  ['Lunch', 'Serves Alcohol', 'Credit Card', 'Di...   \n",
              "59845       Rs.  ['Lunch', 'Debit Card', 'Dinner', 'Cash', 'Cre...   \n",
              "59846       Rs.  ['Delivery', 'Dinner', 'Cash', 'Credit Card', ...   \n",
              "\n",
              "      aggregate_rating rating_text  votes  photo_count opentable_support  \\\n",
              "53884              4.9   Excellent   1545         4321               0.0   \n",
              "53885              4.7   Excellent   3234         8344               0.0   \n",
              "53886              4.5   Excellent   3043         9984               0.0   \n",
              "53887              4.6   Excellent   1327         3255               0.0   \n",
              "53888              4.3   Very Good   3211         9618               0.0   \n",
              "...                ...         ...    ...          ...               ...   \n",
              "59842              4.4   Very Good    975         3139               0.0   \n",
              "59843              4.0   Very Good   2037         7311               0.0   \n",
              "59844              4.1   Very Good   1609         1120               0.0   \n",
              "59845              4.2   Very Good   1559         2791               0.0   \n",
              "59846              4.1   Very Good   1362         2524               0.0   \n",
              "\n",
              "      delivery  takeaway  \n",
              "53884       -1        -1  \n",
              "53885       -1        -1  \n",
              "53886       -1        -1  \n",
              "53887       -1        -1  \n",
              "53888       -1        -1  \n",
              "...        ...       ...  \n",
              "59842       -1        -1  \n",
              "59843       -1        -1  \n",
              "59844       -1        -1  \n",
              "59845       -1        -1  \n",
              "59846       -1        -1  \n",
              "\n",
              "[3918 rows x 26 columns]"
            ],
            "text/html": [
              "\n",
              "  <div id=\"df-bde23506-f2ca-428e-984a-a4a71a353819\">\n",
              "    <div class=\"colab-df-container\">\n",
              "      <div>\n",
              "<style scoped>\n",
              "    .dataframe tbody tr th:only-of-type {\n",
              "        vertical-align: middle;\n",
              "    }\n",
              "\n",
              "    .dataframe tbody tr th {\n",
              "        vertical-align: top;\n",
              "    }\n",
              "\n",
              "    .dataframe thead th {\n",
              "        text-align: right;\n",
              "    }\n",
              "</style>\n",
              "<table border=\"1\" class=\"dataframe\">\n",
              "  <thead>\n",
              "    <tr style=\"text-align: right;\">\n",
              "      <th></th>\n",
              "      <th>res_id</th>\n",
              "      <th>name</th>\n",
              "      <th>establishment</th>\n",
              "      <th>url</th>\n",
              "      <th>address</th>\n",
              "      <th>city</th>\n",
              "      <th>city_id</th>\n",
              "      <th>locality</th>\n",
              "      <th>latitude</th>\n",
              "      <th>longitude</th>\n",
              "      <th>...</th>\n",
              "      <th>price_range</th>\n",
              "      <th>currency</th>\n",
              "      <th>highlights</th>\n",
              "      <th>aggregate_rating</th>\n",
              "      <th>rating_text</th>\n",
              "      <th>votes</th>\n",
              "      <th>photo_count</th>\n",
              "      <th>opentable_support</th>\n",
              "      <th>delivery</th>\n",
              "      <th>takeaway</th>\n",
              "    </tr>\n",
              "  </thead>\n",
              "  <tbody>\n",
              "    <tr>\n",
              "      <th>53884</th>\n",
              "      <td>18895645</td>\n",
              "      <td>Plum By Bent Chair</td>\n",
              "      <td>['Casual Dining']</td>\n",
              "      <td>https://www.zomato.com/ncr/plum-by-bent-chair-...</td>\n",
              "      <td>The Walk, Worldmark 2, Aerocity, New Delhi</td>\n",
              "      <td>New Delhi</td>\n",
              "      <td>1</td>\n",
              "      <td>Aerocity</td>\n",
              "      <td>28.551540</td>\n",
              "      <td>77.122704</td>\n",
              "      <td>...</td>\n",
              "      <td>1</td>\n",
              "      <td>Rs.</td>\n",
              "      <td>['Debit Card', 'Dinner', 'Cash', 'Credit Card'...</td>\n",
              "      <td>4.9</td>\n",
              "      <td>Excellent</td>\n",
              "      <td>1545</td>\n",
              "      <td>4321</td>\n",
              "      <td>0.0</td>\n",
              "      <td>-1</td>\n",
              "      <td>-1</td>\n",
              "    </tr>\n",
              "    <tr>\n",
              "      <th>53885</th>\n",
              "      <td>18429148</td>\n",
              "      <td>Pa Pa Ya</td>\n",
              "      <td>['Fine Dining']</td>\n",
              "      <td>https://www.zomato.com/ncr/pa-pa-ya-saket-new-...</td>\n",
              "      <td>Dome, Level 4, Select Citywalk, A-3, District ...</td>\n",
              "      <td>New Delhi</td>\n",
              "      <td>1</td>\n",
              "      <td>Select Citywalk Mall, Saket</td>\n",
              "      <td>28.528391</td>\n",
              "      <td>77.218611</td>\n",
              "      <td>...</td>\n",
              "      <td>4</td>\n",
              "      <td>Rs.</td>\n",
              "      <td>['Credit Card', 'Debit Card', 'Lunch', 'Serves...</td>\n",
              "      <td>4.7</td>\n",
              "      <td>Excellent</td>\n",
              "      <td>3234</td>\n",
              "      <td>8344</td>\n",
              "      <td>0.0</td>\n",
              "      <td>-1</td>\n",
              "      <td>-1</td>\n",
              "    </tr>\n",
              "    <tr>\n",
              "      <th>53886</th>\n",
              "      <td>18418277</td>\n",
              "      <td>Ministry Of Beer</td>\n",
              "      <td>['Lounge']</td>\n",
              "      <td>https://www.zomato.com/ncr/ministry-of-beer-co...</td>\n",
              "      <td>M 44, Outer Circle, Connaught Place, New Delhi</td>\n",
              "      <td>New Delhi</td>\n",
              "      <td>1</td>\n",
              "      <td>Connaught Place</td>\n",
              "      <td>28.633286</td>\n",
              "      <td>77.222787</td>\n",
              "      <td>...</td>\n",
              "      <td>3</td>\n",
              "      <td>Rs.</td>\n",
              "      <td>['Lunch', 'Credit Card', 'Dinner', 'Cash', 'De...</td>\n",
              "      <td>4.5</td>\n",
              "      <td>Excellent</td>\n",
              "      <td>3043</td>\n",
              "      <td>9984</td>\n",
              "      <td>0.0</td>\n",
              "      <td>-1</td>\n",
              "      <td>-1</td>\n",
              "    </tr>\n",
              "    <tr>\n",
              "      <th>53887</th>\n",
              "      <td>18625812</td>\n",
              "      <td>Detroit</td>\n",
              "      <td>['Bar']</td>\n",
              "      <td>https://www.zomato.com/ncr/detroit-connaught-p...</td>\n",
              "      <td>F40, 2nd Floor, Inner Circle, \\nConnaught Plac...</td>\n",
              "      <td>New Delhi</td>\n",
              "      <td>1</td>\n",
              "      <td>Connaught Place</td>\n",
              "      <td>28.631357</td>\n",
              "      <td>77.220251</td>\n",
              "      <td>...</td>\n",
              "      <td>3</td>\n",
              "      <td>Rs.</td>\n",
              "      <td>['Lunch', 'Serves Alcohol', 'Takeaway Availabl...</td>\n",
              "      <td>4.6</td>\n",
              "      <td>Excellent</td>\n",
              "      <td>1327</td>\n",
              "      <td>3255</td>\n",
              "      <td>0.0</td>\n",
              "      <td>-1</td>\n",
              "      <td>-1</td>\n",
              "    </tr>\n",
              "    <tr>\n",
              "      <th>53888</th>\n",
              "      <td>18423151</td>\n",
              "      <td>The Darzi Bar &amp; Kitchen</td>\n",
              "      <td>['Casual Dining']</td>\n",
              "      <td>https://www.zomato.com/TheDarziBar?utm_source=...</td>\n",
              "      <td>H 55, 1st Floor, Outer Circle, Connaught Place...</td>\n",
              "      <td>New Delhi</td>\n",
              "      <td>1</td>\n",
              "      <td>Connaught Place</td>\n",
              "      <td>28.635508</td>\n",
              "      <td>77.219096</td>\n",
              "      <td>...</td>\n",
              "      <td>3</td>\n",
              "      <td>Rs.</td>\n",
              "      <td>['Lunch', 'Serves Alcohol', 'Cash', 'Credit Ca...</td>\n",
              "      <td>4.3</td>\n",
              "      <td>Very Good</td>\n",
              "      <td>3211</td>\n",
              "      <td>9618</td>\n",
              "      <td>0.0</td>\n",
              "      <td>-1</td>\n",
              "      <td>-1</td>\n",
              "    </tr>\n",
              "    <tr>\n",
              "      <th>...</th>\n",
              "      <td>...</td>\n",
              "      <td>...</td>\n",
              "      <td>...</td>\n",
              "      <td>...</td>\n",
              "      <td>...</td>\n",
              "      <td>...</td>\n",
              "      <td>...</td>\n",
              "      <td>...</td>\n",
              "      <td>...</td>\n",
              "      <td>...</td>\n",
              "      <td>...</td>\n",
              "      <td>...</td>\n",
              "      <td>...</td>\n",
              "      <td>...</td>\n",
              "      <td>...</td>\n",
              "      <td>...</td>\n",
              "      <td>...</td>\n",
              "      <td>...</td>\n",
              "      <td>...</td>\n",
              "      <td>...</td>\n",
              "      <td>...</td>\n",
              "    </tr>\n",
              "    <tr>\n",
              "      <th>59842</th>\n",
              "      <td>18372693</td>\n",
              "      <td>Three Tuns Cafe &amp; Bar</td>\n",
              "      <td>['Casual Dining']</td>\n",
              "      <td>https://www.zomato.com/ncr/three-tuns-cafe-bar...</td>\n",
              "      <td>2nd Floor, Unity One Mall, Near Janak Puri Wes...</td>\n",
              "      <td>New Delhi</td>\n",
              "      <td>1</td>\n",
              "      <td>Unity One Mall, Janakpuri</td>\n",
              "      <td>28.628702</td>\n",
              "      <td>77.076617</td>\n",
              "      <td>...</td>\n",
              "      <td>3</td>\n",
              "      <td>Rs.</td>\n",
              "      <td>['Debit Card', 'Takeaway Available', 'Dinner',...</td>\n",
              "      <td>4.4</td>\n",
              "      <td>Very Good</td>\n",
              "      <td>975</td>\n",
              "      <td>3139</td>\n",
              "      <td>0.0</td>\n",
              "      <td>-1</td>\n",
              "      <td>-1</td>\n",
              "    </tr>\n",
              "    <tr>\n",
              "      <th>59843</th>\n",
              "      <td>18523131</td>\n",
              "      <td>Too Indian</td>\n",
              "      <td>['Casual Dining']</td>\n",
              "      <td>https://www.zomato.com/ncr/too-indian-rajouri-...</td>\n",
              "      <td>A 39, Vishal Enclave, Rajouri Garden, New Delhi</td>\n",
              "      <td>New Delhi</td>\n",
              "      <td>1</td>\n",
              "      <td>Rajouri Garden</td>\n",
              "      <td>28.650466</td>\n",
              "      <td>77.120146</td>\n",
              "      <td>...</td>\n",
              "      <td>3</td>\n",
              "      <td>Rs.</td>\n",
              "      <td>['Lunch', 'Delivery', 'Credit Card', 'Dinner',...</td>\n",
              "      <td>4.0</td>\n",
              "      <td>Very Good</td>\n",
              "      <td>2037</td>\n",
              "      <td>7311</td>\n",
              "      <td>0.0</td>\n",
              "      <td>-1</td>\n",
              "      <td>-1</td>\n",
              "    </tr>\n",
              "    <tr>\n",
              "      <th>59844</th>\n",
              "      <td>307060</td>\n",
              "      <td>The Beer Cafe - BIGGIE</td>\n",
              "      <td>['Bar']</td>\n",
              "      <td>https://www.zomato.com/ncr/the-beer-cafe-biggi...</td>\n",
              "      <td>D-2, Inner Circle, Connaught Place, New Delhi</td>\n",
              "      <td>New Delhi</td>\n",
              "      <td>1</td>\n",
              "      <td>Connaught Place</td>\n",
              "      <td>28.633842</td>\n",
              "      <td>77.220804</td>\n",
              "      <td>...</td>\n",
              "      <td>3</td>\n",
              "      <td>Rs.</td>\n",
              "      <td>['Lunch', 'Serves Alcohol', 'Credit Card', 'Di...</td>\n",
              "      <td>4.1</td>\n",
              "      <td>Very Good</td>\n",
              "      <td>1609</td>\n",
              "      <td>1120</td>\n",
              "      <td>0.0</td>\n",
              "      <td>-1</td>\n",
              "      <td>-1</td>\n",
              "    </tr>\n",
              "    <tr>\n",
              "      <th>59845</th>\n",
              "      <td>18500611</td>\n",
              "      <td>Sixth Empirica</td>\n",
              "      <td>['Casual Dining']</td>\n",
              "      <td>https://www.zomato.com/ncr/sixth-empirica-punj...</td>\n",
              "      <td>Building 6, 2nd &amp; 3rd Floor, NWA, Punjabi Bagh...</td>\n",
              "      <td>New Delhi</td>\n",
              "      <td>1</td>\n",
              "      <td>Punjabi Bagh</td>\n",
              "      <td>28.666524</td>\n",
              "      <td>77.123032</td>\n",
              "      <td>...</td>\n",
              "      <td>3</td>\n",
              "      <td>Rs.</td>\n",
              "      <td>['Lunch', 'Debit Card', 'Dinner', 'Cash', 'Cre...</td>\n",
              "      <td>4.2</td>\n",
              "      <td>Very Good</td>\n",
              "      <td>1559</td>\n",
              "      <td>2791</td>\n",
              "      <td>0.0</td>\n",
              "      <td>-1</td>\n",
              "      <td>-1</td>\n",
              "    </tr>\n",
              "    <tr>\n",
              "      <th>59846</th>\n",
              "      <td>18128893</td>\n",
              "      <td>Lavaash By Saby</td>\n",
              "      <td>['Casual Dining']</td>\n",
              "      <td>https://www.zomato.com/ncr/lavaash-by-saby-meh...</td>\n",
              "      <td>H-5/1, Ambawatta One, Kalkadass Marg, Mehrauli...</td>\n",
              "      <td>New Delhi</td>\n",
              "      <td>1</td>\n",
              "      <td>Mehrauli</td>\n",
              "      <td>28.526504</td>\n",
              "      <td>77.185070</td>\n",
              "      <td>...</td>\n",
              "      <td>4</td>\n",
              "      <td>Rs.</td>\n",
              "      <td>['Delivery', 'Dinner', 'Cash', 'Credit Card', ...</td>\n",
              "      <td>4.1</td>\n",
              "      <td>Very Good</td>\n",
              "      <td>1362</td>\n",
              "      <td>2524</td>\n",
              "      <td>0.0</td>\n",
              "      <td>-1</td>\n",
              "      <td>-1</td>\n",
              "    </tr>\n",
              "  </tbody>\n",
              "</table>\n",
              "<p>3918 rows × 26 columns</p>\n",
              "</div>\n",
              "      <button class=\"colab-df-convert\" onclick=\"convertToInteractive('df-bde23506-f2ca-428e-984a-a4a71a353819')\"\n",
              "              title=\"Convert this dataframe to an interactive table.\"\n",
              "              style=\"display:none;\">\n",
              "        \n",
              "  <svg xmlns=\"http://www.w3.org/2000/svg\" height=\"24px\"viewBox=\"0 0 24 24\"\n",
              "       width=\"24px\">\n",
              "    <path d=\"M0 0h24v24H0V0z\" fill=\"none\"/>\n",
              "    <path d=\"M18.56 5.44l.94 2.06.94-2.06 2.06-.94-2.06-.94-.94-2.06-.94 2.06-2.06.94zm-11 1L8.5 8.5l.94-2.06 2.06-.94-2.06-.94L8.5 2.5l-.94 2.06-2.06.94zm10 10l.94 2.06.94-2.06 2.06-.94-2.06-.94-.94-2.06-.94 2.06-2.06.94z\"/><path d=\"M17.41 7.96l-1.37-1.37c-.4-.4-.92-.59-1.43-.59-.52 0-1.04.2-1.43.59L10.3 9.45l-7.72 7.72c-.78.78-.78 2.05 0 2.83L4 21.41c.39.39.9.59 1.41.59.51 0 1.02-.2 1.41-.59l7.78-7.78 2.81-2.81c.8-.78.8-2.07 0-2.86zM5.41 20L4 18.59l7.72-7.72 1.47 1.35L5.41 20z\"/>\n",
              "  </svg>\n",
              "      </button>\n",
              "      \n",
              "  <style>\n",
              "    .colab-df-container {\n",
              "      display:flex;\n",
              "      flex-wrap:wrap;\n",
              "      gap: 12px;\n",
              "    }\n",
              "\n",
              "    .colab-df-convert {\n",
              "      background-color: #E8F0FE;\n",
              "      border: none;\n",
              "      border-radius: 50%;\n",
              "      cursor: pointer;\n",
              "      display: none;\n",
              "      fill: #1967D2;\n",
              "      height: 32px;\n",
              "      padding: 0 0 0 0;\n",
              "      width: 32px;\n",
              "    }\n",
              "\n",
              "    .colab-df-convert:hover {\n",
              "      background-color: #E2EBFA;\n",
              "      box-shadow: 0px 1px 2px rgba(60, 64, 67, 0.3), 0px 1px 3px 1px rgba(60, 64, 67, 0.15);\n",
              "      fill: #174EA6;\n",
              "    }\n",
              "\n",
              "    [theme=dark] .colab-df-convert {\n",
              "      background-color: #3B4455;\n",
              "      fill: #D2E3FC;\n",
              "    }\n",
              "\n",
              "    [theme=dark] .colab-df-convert:hover {\n",
              "      background-color: #434B5C;\n",
              "      box-shadow: 0px 1px 3px 1px rgba(0, 0, 0, 0.15);\n",
              "      filter: drop-shadow(0px 1px 2px rgba(0, 0, 0, 0.3));\n",
              "      fill: #FFFFFF;\n",
              "    }\n",
              "  </style>\n",
              "\n",
              "      <script>\n",
              "        const buttonEl =\n",
              "          document.querySelector('#df-bde23506-f2ca-428e-984a-a4a71a353819 button.colab-df-convert');\n",
              "        buttonEl.style.display =\n",
              "          google.colab.kernel.accessAllowed ? 'block' : 'none';\n",
              "\n",
              "        async function convertToInteractive(key) {\n",
              "          const element = document.querySelector('#df-bde23506-f2ca-428e-984a-a4a71a353819');\n",
              "          const dataTable =\n",
              "            await google.colab.kernel.invokeFunction('convertToInteractive',\n",
              "                                                     [key], {});\n",
              "          if (!dataTable) return;\n",
              "\n",
              "          const docLinkHtml = 'Like what you see? Visit the ' +\n",
              "            '<a target=\"_blank\" href=https://colab.research.google.com/notebooks/data_table.ipynb>data table notebook</a>'\n",
              "            + ' to learn more about interactive tables.';\n",
              "          element.innerHTML = '';\n",
              "          dataTable['output_type'] = 'display_data';\n",
              "          await google.colab.output.renderOutput(dataTable, element);\n",
              "          const docLink = document.createElement('div');\n",
              "          docLink.innerHTML = docLinkHtml;\n",
              "          element.appendChild(docLink);\n",
              "        }\n",
              "      </script>\n",
              "    </div>\n",
              "  </div>\n",
              "  "
            ]
          },
          "metadata": {},
          "execution_count": 61
        }
      ]
    },
    {
      "cell_type": "code",
      "source": [
        "data.shape"
      ],
      "metadata": {
        "colab": {
          "base_uri": "https://localhost:8080/"
        },
        "id": "x4rPQYrJpvx7",
        "outputId": "20cd0a67-b2a2-4492-895d-6a490d1d430a"
      },
      "execution_count": null,
      "outputs": [
        {
          "output_type": "execute_result",
          "data": {
            "text/plain": [
              "(211944, 26)"
            ]
          },
          "metadata": {},
          "execution_count": 62
        }
      ]
    },
    {
      "cell_type": "code",
      "source": [
        "data.info()"
      ],
      "metadata": {
        "colab": {
          "base_uri": "https://localhost:8080/"
        },
        "id": "G4eSKXmbpylw",
        "outputId": "d8ba62a1-75c1-44bd-a5d7-0782cfacbd9e"
      },
      "execution_count": null,
      "outputs": [
        {
          "output_type": "stream",
          "name": "stdout",
          "text": [
            "<class 'pandas.core.frame.DataFrame'>\n",
            "RangeIndex: 211944 entries, 0 to 211943\n",
            "Data columns (total 26 columns):\n",
            " #   Column                Non-Null Count   Dtype  \n",
            "---  ------                --------------   -----  \n",
            " 0   res_id                211944 non-null  int64  \n",
            " 1   name                  211944 non-null  object \n",
            " 2   establishment         211944 non-null  object \n",
            " 3   url                   211944 non-null  object \n",
            " 4   address               211810 non-null  object \n",
            " 5   city                  211944 non-null  object \n",
            " 6   city_id               211944 non-null  int64  \n",
            " 7   locality              211944 non-null  object \n",
            " 8   latitude              211944 non-null  float64\n",
            " 9   longitude             211944 non-null  float64\n",
            " 10  zipcode               48757 non-null   object \n",
            " 11  country_id            211944 non-null  int64  \n",
            " 12  locality_verbose      211944 non-null  object \n",
            " 13  cuisines              210553 non-null  object \n",
            " 14  timings               208070 non-null  object \n",
            " 15  average_cost_for_two  211944 non-null  int64  \n",
            " 16  price_range           211944 non-null  int64  \n",
            " 17  currency              211944 non-null  object \n",
            " 18  highlights            211944 non-null  object \n",
            " 19  aggregate_rating      211944 non-null  float64\n",
            " 20  rating_text           211944 non-null  object \n",
            " 21  votes                 211944 non-null  int64  \n",
            " 22  photo_count           211944 non-null  int64  \n",
            " 23  opentable_support     211896 non-null  float64\n",
            " 24  delivery              211944 non-null  int64  \n",
            " 25  takeaway              211944 non-null  int64  \n",
            "dtypes: float64(4), int64(9), object(13)\n",
            "memory usage: 42.0+ MB\n"
          ]
        }
      ]
    },
    {
      "cell_type": "code",
      "source": [
        "data.describe()"
      ],
      "metadata": {
        "colab": {
          "base_uri": "https://localhost:8080/",
          "height": 364
        },
        "id": "Z0pm37KLpznb",
        "outputId": "442d4dcb-628b-4650-bd4a-e75c6789a7be"
      },
      "execution_count": null,
      "outputs": [
        {
          "output_type": "execute_result",
          "data": {
            "text/plain": [
              "             res_id        city_id       latitude      longitude  country_id  \\\n",
              "count  2.119440e+05  211944.000000  211944.000000  211944.000000    211944.0   \n",
              "mean   1.349411e+07    4746.785434      21.499758      77.615276         1.0   \n",
              "std    7.883722e+06    5568.766386      22.781331       7.500104         0.0   \n",
              "min    5.000000e+01       1.000000       0.000000       0.000000         1.0   \n",
              "25%    3.301027e+06      11.000000      15.496071      74.877961         1.0   \n",
              "50%    1.869573e+07      34.000000      22.514494      77.425971         1.0   \n",
              "75%    1.881297e+07   11306.000000      26.841667      80.219323         1.0   \n",
              "max    1.915979e+07   11354.000000   10000.000000      91.832769         1.0   \n",
              "\n",
              "       average_cost_for_two    price_range  aggregate_rating          votes  \\\n",
              "count         211944.000000  211944.000000     211944.000000  211944.000000   \n",
              "mean             595.812229       1.882535          3.395937     378.001864   \n",
              "std              606.239363       0.892989          1.283642     925.333370   \n",
              "min                0.000000       1.000000          0.000000     -18.000000   \n",
              "25%              250.000000       1.000000          3.300000      16.000000   \n",
              "50%              400.000000       2.000000          3.800000     100.000000   \n",
              "75%              700.000000       2.000000          4.100000     362.000000   \n",
              "max            30000.000000       4.000000          4.900000   42539.000000   \n",
              "\n",
              "         photo_count  opentable_support       delivery  takeaway  \n",
              "count  211944.000000           211896.0  211944.000000  211944.0  \n",
              "mean      256.971224                0.0      -0.255907      -1.0  \n",
              "std       867.668940                0.0       0.964172       0.0  \n",
              "min         0.000000                0.0      -1.000000      -1.0  \n",
              "25%         3.000000                0.0      -1.000000      -1.0  \n",
              "50%        18.000000                0.0      -1.000000      -1.0  \n",
              "75%       128.000000                0.0       1.000000      -1.0  \n",
              "max     17702.000000                0.0       1.000000      -1.0  "
            ],
            "text/html": [
              "\n",
              "  <div id=\"df-15c28bca-7473-4abb-93c9-82fedaef0f22\">\n",
              "    <div class=\"colab-df-container\">\n",
              "      <div>\n",
              "<style scoped>\n",
              "    .dataframe tbody tr th:only-of-type {\n",
              "        vertical-align: middle;\n",
              "    }\n",
              "\n",
              "    .dataframe tbody tr th {\n",
              "        vertical-align: top;\n",
              "    }\n",
              "\n",
              "    .dataframe thead th {\n",
              "        text-align: right;\n",
              "    }\n",
              "</style>\n",
              "<table border=\"1\" class=\"dataframe\">\n",
              "  <thead>\n",
              "    <tr style=\"text-align: right;\">\n",
              "      <th></th>\n",
              "      <th>res_id</th>\n",
              "      <th>city_id</th>\n",
              "      <th>latitude</th>\n",
              "      <th>longitude</th>\n",
              "      <th>country_id</th>\n",
              "      <th>average_cost_for_two</th>\n",
              "      <th>price_range</th>\n",
              "      <th>aggregate_rating</th>\n",
              "      <th>votes</th>\n",
              "      <th>photo_count</th>\n",
              "      <th>opentable_support</th>\n",
              "      <th>delivery</th>\n",
              "      <th>takeaway</th>\n",
              "    </tr>\n",
              "  </thead>\n",
              "  <tbody>\n",
              "    <tr>\n",
              "      <th>count</th>\n",
              "      <td>2.119440e+05</td>\n",
              "      <td>211944.000000</td>\n",
              "      <td>211944.000000</td>\n",
              "      <td>211944.000000</td>\n",
              "      <td>211944.0</td>\n",
              "      <td>211944.000000</td>\n",
              "      <td>211944.000000</td>\n",
              "      <td>211944.000000</td>\n",
              "      <td>211944.000000</td>\n",
              "      <td>211944.000000</td>\n",
              "      <td>211896.0</td>\n",
              "      <td>211944.000000</td>\n",
              "      <td>211944.0</td>\n",
              "    </tr>\n",
              "    <tr>\n",
              "      <th>mean</th>\n",
              "      <td>1.349411e+07</td>\n",
              "      <td>4746.785434</td>\n",
              "      <td>21.499758</td>\n",
              "      <td>77.615276</td>\n",
              "      <td>1.0</td>\n",
              "      <td>595.812229</td>\n",
              "      <td>1.882535</td>\n",
              "      <td>3.395937</td>\n",
              "      <td>378.001864</td>\n",
              "      <td>256.971224</td>\n",
              "      <td>0.0</td>\n",
              "      <td>-0.255907</td>\n",
              "      <td>-1.0</td>\n",
              "    </tr>\n",
              "    <tr>\n",
              "      <th>std</th>\n",
              "      <td>7.883722e+06</td>\n",
              "      <td>5568.766386</td>\n",
              "      <td>22.781331</td>\n",
              "      <td>7.500104</td>\n",
              "      <td>0.0</td>\n",
              "      <td>606.239363</td>\n",
              "      <td>0.892989</td>\n",
              "      <td>1.283642</td>\n",
              "      <td>925.333370</td>\n",
              "      <td>867.668940</td>\n",
              "      <td>0.0</td>\n",
              "      <td>0.964172</td>\n",
              "      <td>0.0</td>\n",
              "    </tr>\n",
              "    <tr>\n",
              "      <th>min</th>\n",
              "      <td>5.000000e+01</td>\n",
              "      <td>1.000000</td>\n",
              "      <td>0.000000</td>\n",
              "      <td>0.000000</td>\n",
              "      <td>1.0</td>\n",
              "      <td>0.000000</td>\n",
              "      <td>1.000000</td>\n",
              "      <td>0.000000</td>\n",
              "      <td>-18.000000</td>\n",
              "      <td>0.000000</td>\n",
              "      <td>0.0</td>\n",
              "      <td>-1.000000</td>\n",
              "      <td>-1.0</td>\n",
              "    </tr>\n",
              "    <tr>\n",
              "      <th>25%</th>\n",
              "      <td>3.301027e+06</td>\n",
              "      <td>11.000000</td>\n",
              "      <td>15.496071</td>\n",
              "      <td>74.877961</td>\n",
              "      <td>1.0</td>\n",
              "      <td>250.000000</td>\n",
              "      <td>1.000000</td>\n",
              "      <td>3.300000</td>\n",
              "      <td>16.000000</td>\n",
              "      <td>3.000000</td>\n",
              "      <td>0.0</td>\n",
              "      <td>-1.000000</td>\n",
              "      <td>-1.0</td>\n",
              "    </tr>\n",
              "    <tr>\n",
              "      <th>50%</th>\n",
              "      <td>1.869573e+07</td>\n",
              "      <td>34.000000</td>\n",
              "      <td>22.514494</td>\n",
              "      <td>77.425971</td>\n",
              "      <td>1.0</td>\n",
              "      <td>400.000000</td>\n",
              "      <td>2.000000</td>\n",
              "      <td>3.800000</td>\n",
              "      <td>100.000000</td>\n",
              "      <td>18.000000</td>\n",
              "      <td>0.0</td>\n",
              "      <td>-1.000000</td>\n",
              "      <td>-1.0</td>\n",
              "    </tr>\n",
              "    <tr>\n",
              "      <th>75%</th>\n",
              "      <td>1.881297e+07</td>\n",
              "      <td>11306.000000</td>\n",
              "      <td>26.841667</td>\n",
              "      <td>80.219323</td>\n",
              "      <td>1.0</td>\n",
              "      <td>700.000000</td>\n",
              "      <td>2.000000</td>\n",
              "      <td>4.100000</td>\n",
              "      <td>362.000000</td>\n",
              "      <td>128.000000</td>\n",
              "      <td>0.0</td>\n",
              "      <td>1.000000</td>\n",
              "      <td>-1.0</td>\n",
              "    </tr>\n",
              "    <tr>\n",
              "      <th>max</th>\n",
              "      <td>1.915979e+07</td>\n",
              "      <td>11354.000000</td>\n",
              "      <td>10000.000000</td>\n",
              "      <td>91.832769</td>\n",
              "      <td>1.0</td>\n",
              "      <td>30000.000000</td>\n",
              "      <td>4.000000</td>\n",
              "      <td>4.900000</td>\n",
              "      <td>42539.000000</td>\n",
              "      <td>17702.000000</td>\n",
              "      <td>0.0</td>\n",
              "      <td>1.000000</td>\n",
              "      <td>-1.0</td>\n",
              "    </tr>\n",
              "  </tbody>\n",
              "</table>\n",
              "</div>\n",
              "      <button class=\"colab-df-convert\" onclick=\"convertToInteractive('df-15c28bca-7473-4abb-93c9-82fedaef0f22')\"\n",
              "              title=\"Convert this dataframe to an interactive table.\"\n",
              "              style=\"display:none;\">\n",
              "        \n",
              "  <svg xmlns=\"http://www.w3.org/2000/svg\" height=\"24px\"viewBox=\"0 0 24 24\"\n",
              "       width=\"24px\">\n",
              "    <path d=\"M0 0h24v24H0V0z\" fill=\"none\"/>\n",
              "    <path d=\"M18.56 5.44l.94 2.06.94-2.06 2.06-.94-2.06-.94-.94-2.06-.94 2.06-2.06.94zm-11 1L8.5 8.5l.94-2.06 2.06-.94-2.06-.94L8.5 2.5l-.94 2.06-2.06.94zm10 10l.94 2.06.94-2.06 2.06-.94-2.06-.94-.94-2.06-.94 2.06-2.06.94z\"/><path d=\"M17.41 7.96l-1.37-1.37c-.4-.4-.92-.59-1.43-.59-.52 0-1.04.2-1.43.59L10.3 9.45l-7.72 7.72c-.78.78-.78 2.05 0 2.83L4 21.41c.39.39.9.59 1.41.59.51 0 1.02-.2 1.41-.59l7.78-7.78 2.81-2.81c.8-.78.8-2.07 0-2.86zM5.41 20L4 18.59l7.72-7.72 1.47 1.35L5.41 20z\"/>\n",
              "  </svg>\n",
              "      </button>\n",
              "      \n",
              "  <style>\n",
              "    .colab-df-container {\n",
              "      display:flex;\n",
              "      flex-wrap:wrap;\n",
              "      gap: 12px;\n",
              "    }\n",
              "\n",
              "    .colab-df-convert {\n",
              "      background-color: #E8F0FE;\n",
              "      border: none;\n",
              "      border-radius: 50%;\n",
              "      cursor: pointer;\n",
              "      display: none;\n",
              "      fill: #1967D2;\n",
              "      height: 32px;\n",
              "      padding: 0 0 0 0;\n",
              "      width: 32px;\n",
              "    }\n",
              "\n",
              "    .colab-df-convert:hover {\n",
              "      background-color: #E2EBFA;\n",
              "      box-shadow: 0px 1px 2px rgba(60, 64, 67, 0.3), 0px 1px 3px 1px rgba(60, 64, 67, 0.15);\n",
              "      fill: #174EA6;\n",
              "    }\n",
              "\n",
              "    [theme=dark] .colab-df-convert {\n",
              "      background-color: #3B4455;\n",
              "      fill: #D2E3FC;\n",
              "    }\n",
              "\n",
              "    [theme=dark] .colab-df-convert:hover {\n",
              "      background-color: #434B5C;\n",
              "      box-shadow: 0px 1px 3px 1px rgba(0, 0, 0, 0.15);\n",
              "      filter: drop-shadow(0px 1px 2px rgba(0, 0, 0, 0.3));\n",
              "      fill: #FFFFFF;\n",
              "    }\n",
              "  </style>\n",
              "\n",
              "      <script>\n",
              "        const buttonEl =\n",
              "          document.querySelector('#df-15c28bca-7473-4abb-93c9-82fedaef0f22 button.colab-df-convert');\n",
              "        buttonEl.style.display =\n",
              "          google.colab.kernel.accessAllowed ? 'block' : 'none';\n",
              "\n",
              "        async function convertToInteractive(key) {\n",
              "          const element = document.querySelector('#df-15c28bca-7473-4abb-93c9-82fedaef0f22');\n",
              "          const dataTable =\n",
              "            await google.colab.kernel.invokeFunction('convertToInteractive',\n",
              "                                                     [key], {});\n",
              "          if (!dataTable) return;\n",
              "\n",
              "          const docLinkHtml = 'Like what you see? Visit the ' +\n",
              "            '<a target=\"_blank\" href=https://colab.research.google.com/notebooks/data_table.ipynb>data table notebook</a>'\n",
              "            + ' to learn more about interactive tables.';\n",
              "          element.innerHTML = '';\n",
              "          dataTable['output_type'] = 'display_data';\n",
              "          await google.colab.output.renderOutput(dataTable, element);\n",
              "          const docLink = document.createElement('div');\n",
              "          docLink.innerHTML = docLinkHtml;\n",
              "          element.appendChild(docLink);\n",
              "        }\n",
              "      </script>\n",
              "    </div>\n",
              "  </div>\n",
              "  "
            ]
          },
          "metadata": {},
          "execution_count": 65
        }
      ]
    },
    {
      "cell_type": "code",
      "source": [
        "data[data['average_cost_for_two']==30000]"
      ],
      "metadata": {
        "colab": {
          "base_uri": "https://localhost:8080/",
          "height": 601
        },
        "id": "RCFQY9r7p8Pn",
        "outputId": "b151373a-574c-4002-d74c-731f30970214"
      },
      "execution_count": null,
      "outputs": [
        {
          "output_type": "execute_result",
          "data": {
            "text/plain": [
              "        res_id                                           name  \\\n",
              "136240   38489  Ocean - The Private Dining Room - Sahara Star   \n",
              "136740   38489  Ocean - The Private Dining Room - Sahara Star   \n",
              "137240   38489  Ocean - The Private Dining Room - Sahara Star   \n",
              "\n",
              "          establishment                                                url  \\\n",
              "136240  ['Fine Dining']  https://www.zomato.com/mumbai/ocean-the-privat...   \n",
              "136740  ['Fine Dining']  https://www.zomato.com/mumbai/ocean-the-privat...   \n",
              "137240  ['Fine Dining']  https://www.zomato.com/mumbai/ocean-the-privat...   \n",
              "\n",
              "                                                  address    city  city_id  \\\n",
              "136240  Hotel Sahara Star, Opposite Domestic Airport, ...  Mumbai        3   \n",
              "136740  Hotel Sahara Star, Opposite Domestic Airport, ...  Mumbai        3   \n",
              "137240  Hotel Sahara Star, Opposite Domestic Airport, ...  Mumbai        3   \n",
              "\n",
              "                            locality   latitude  longitude  ... price_range  \\\n",
              "136240  Sahara Star, Vile Parle East  19.094752  72.854226  ...           4   \n",
              "136740  Sahara Star, Vile Parle East  19.094752  72.854226  ...           4   \n",
              "137240  Sahara Star, Vile Parle East  19.094752  72.854226  ...           4   \n",
              "\n",
              "        currency                                         highlights  \\\n",
              "136240       Rs.  ['Dinner', 'Serves Alcohol', 'Debit Card', 'Ca...   \n",
              "136740       Rs.  ['Dinner', 'Serves Alcohol', 'Debit Card', 'Ca...   \n",
              "137240       Rs.  ['Dinner', 'Serves Alcohol', 'Debit Card', 'Ca...   \n",
              "\n",
              "       aggregate_rating rating_text  votes  photo_count opentable_support  \\\n",
              "136240              3.6        Good     91           31               0.0   \n",
              "136740              3.6        Good     91           31               0.0   \n",
              "137240              3.6        Good     91           31               0.0   \n",
              "\n",
              "       delivery  takeaway  \n",
              "136240       -1        -1  \n",
              "136740       -1        -1  \n",
              "137240       -1        -1  \n",
              "\n",
              "[3 rows x 26 columns]"
            ],
            "text/html": [
              "\n",
              "  <div id=\"df-17dd2212-72c9-4a0f-adb7-8f256eb1d0bd\">\n",
              "    <div class=\"colab-df-container\">\n",
              "      <div>\n",
              "<style scoped>\n",
              "    .dataframe tbody tr th:only-of-type {\n",
              "        vertical-align: middle;\n",
              "    }\n",
              "\n",
              "    .dataframe tbody tr th {\n",
              "        vertical-align: top;\n",
              "    }\n",
              "\n",
              "    .dataframe thead th {\n",
              "        text-align: right;\n",
              "    }\n",
              "</style>\n",
              "<table border=\"1\" class=\"dataframe\">\n",
              "  <thead>\n",
              "    <tr style=\"text-align: right;\">\n",
              "      <th></th>\n",
              "      <th>res_id</th>\n",
              "      <th>name</th>\n",
              "      <th>establishment</th>\n",
              "      <th>url</th>\n",
              "      <th>address</th>\n",
              "      <th>city</th>\n",
              "      <th>city_id</th>\n",
              "      <th>locality</th>\n",
              "      <th>latitude</th>\n",
              "      <th>longitude</th>\n",
              "      <th>...</th>\n",
              "      <th>price_range</th>\n",
              "      <th>currency</th>\n",
              "      <th>highlights</th>\n",
              "      <th>aggregate_rating</th>\n",
              "      <th>rating_text</th>\n",
              "      <th>votes</th>\n",
              "      <th>photo_count</th>\n",
              "      <th>opentable_support</th>\n",
              "      <th>delivery</th>\n",
              "      <th>takeaway</th>\n",
              "    </tr>\n",
              "  </thead>\n",
              "  <tbody>\n",
              "    <tr>\n",
              "      <th>136240</th>\n",
              "      <td>38489</td>\n",
              "      <td>Ocean - The Private Dining Room - Sahara Star</td>\n",
              "      <td>['Fine Dining']</td>\n",
              "      <td>https://www.zomato.com/mumbai/ocean-the-privat...</td>\n",
              "      <td>Hotel Sahara Star, Opposite Domestic Airport, ...</td>\n",
              "      <td>Mumbai</td>\n",
              "      <td>3</td>\n",
              "      <td>Sahara Star, Vile Parle East</td>\n",
              "      <td>19.094752</td>\n",
              "      <td>72.854226</td>\n",
              "      <td>...</td>\n",
              "      <td>4</td>\n",
              "      <td>Rs.</td>\n",
              "      <td>['Dinner', 'Serves Alcohol', 'Debit Card', 'Ca...</td>\n",
              "      <td>3.6</td>\n",
              "      <td>Good</td>\n",
              "      <td>91</td>\n",
              "      <td>31</td>\n",
              "      <td>0.0</td>\n",
              "      <td>-1</td>\n",
              "      <td>-1</td>\n",
              "    </tr>\n",
              "    <tr>\n",
              "      <th>136740</th>\n",
              "      <td>38489</td>\n",
              "      <td>Ocean - The Private Dining Room - Sahara Star</td>\n",
              "      <td>['Fine Dining']</td>\n",
              "      <td>https://www.zomato.com/mumbai/ocean-the-privat...</td>\n",
              "      <td>Hotel Sahara Star, Opposite Domestic Airport, ...</td>\n",
              "      <td>Mumbai</td>\n",
              "      <td>3</td>\n",
              "      <td>Sahara Star, Vile Parle East</td>\n",
              "      <td>19.094752</td>\n",
              "      <td>72.854226</td>\n",
              "      <td>...</td>\n",
              "      <td>4</td>\n",
              "      <td>Rs.</td>\n",
              "      <td>['Dinner', 'Serves Alcohol', 'Debit Card', 'Ca...</td>\n",
              "      <td>3.6</td>\n",
              "      <td>Good</td>\n",
              "      <td>91</td>\n",
              "      <td>31</td>\n",
              "      <td>0.0</td>\n",
              "      <td>-1</td>\n",
              "      <td>-1</td>\n",
              "    </tr>\n",
              "    <tr>\n",
              "      <th>137240</th>\n",
              "      <td>38489</td>\n",
              "      <td>Ocean - The Private Dining Room - Sahara Star</td>\n",
              "      <td>['Fine Dining']</td>\n",
              "      <td>https://www.zomato.com/mumbai/ocean-the-privat...</td>\n",
              "      <td>Hotel Sahara Star, Opposite Domestic Airport, ...</td>\n",
              "      <td>Mumbai</td>\n",
              "      <td>3</td>\n",
              "      <td>Sahara Star, Vile Parle East</td>\n",
              "      <td>19.094752</td>\n",
              "      <td>72.854226</td>\n",
              "      <td>...</td>\n",
              "      <td>4</td>\n",
              "      <td>Rs.</td>\n",
              "      <td>['Dinner', 'Serves Alcohol', 'Debit Card', 'Ca...</td>\n",
              "      <td>3.6</td>\n",
              "      <td>Good</td>\n",
              "      <td>91</td>\n",
              "      <td>31</td>\n",
              "      <td>0.0</td>\n",
              "      <td>-1</td>\n",
              "      <td>-1</td>\n",
              "    </tr>\n",
              "  </tbody>\n",
              "</table>\n",
              "<p>3 rows × 26 columns</p>\n",
              "</div>\n",
              "      <button class=\"colab-df-convert\" onclick=\"convertToInteractive('df-17dd2212-72c9-4a0f-adb7-8f256eb1d0bd')\"\n",
              "              title=\"Convert this dataframe to an interactive table.\"\n",
              "              style=\"display:none;\">\n",
              "        \n",
              "  <svg xmlns=\"http://www.w3.org/2000/svg\" height=\"24px\"viewBox=\"0 0 24 24\"\n",
              "       width=\"24px\">\n",
              "    <path d=\"M0 0h24v24H0V0z\" fill=\"none\"/>\n",
              "    <path d=\"M18.56 5.44l.94 2.06.94-2.06 2.06-.94-2.06-.94-.94-2.06-.94 2.06-2.06.94zm-11 1L8.5 8.5l.94-2.06 2.06-.94-2.06-.94L8.5 2.5l-.94 2.06-2.06.94zm10 10l.94 2.06.94-2.06 2.06-.94-2.06-.94-.94-2.06-.94 2.06-2.06.94z\"/><path d=\"M17.41 7.96l-1.37-1.37c-.4-.4-.92-.59-1.43-.59-.52 0-1.04.2-1.43.59L10.3 9.45l-7.72 7.72c-.78.78-.78 2.05 0 2.83L4 21.41c.39.39.9.59 1.41.59.51 0 1.02-.2 1.41-.59l7.78-7.78 2.81-2.81c.8-.78.8-2.07 0-2.86zM5.41 20L4 18.59l7.72-7.72 1.47 1.35L5.41 20z\"/>\n",
              "  </svg>\n",
              "      </button>\n",
              "      \n",
              "  <style>\n",
              "    .colab-df-container {\n",
              "      display:flex;\n",
              "      flex-wrap:wrap;\n",
              "      gap: 12px;\n",
              "    }\n",
              "\n",
              "    .colab-df-convert {\n",
              "      background-color: #E8F0FE;\n",
              "      border: none;\n",
              "      border-radius: 50%;\n",
              "      cursor: pointer;\n",
              "      display: none;\n",
              "      fill: #1967D2;\n",
              "      height: 32px;\n",
              "      padding: 0 0 0 0;\n",
              "      width: 32px;\n",
              "    }\n",
              "\n",
              "    .colab-df-convert:hover {\n",
              "      background-color: #E2EBFA;\n",
              "      box-shadow: 0px 1px 2px rgba(60, 64, 67, 0.3), 0px 1px 3px 1px rgba(60, 64, 67, 0.15);\n",
              "      fill: #174EA6;\n",
              "    }\n",
              "\n",
              "    [theme=dark] .colab-df-convert {\n",
              "      background-color: #3B4455;\n",
              "      fill: #D2E3FC;\n",
              "    }\n",
              "\n",
              "    [theme=dark] .colab-df-convert:hover {\n",
              "      background-color: #434B5C;\n",
              "      box-shadow: 0px 1px 3px 1px rgba(0, 0, 0, 0.15);\n",
              "      filter: drop-shadow(0px 1px 2px rgba(0, 0, 0, 0.3));\n",
              "      fill: #FFFFFF;\n",
              "    }\n",
              "  </style>\n",
              "\n",
              "      <script>\n",
              "        const buttonEl =\n",
              "          document.querySelector('#df-17dd2212-72c9-4a0f-adb7-8f256eb1d0bd button.colab-df-convert');\n",
              "        buttonEl.style.display =\n",
              "          google.colab.kernel.accessAllowed ? 'block' : 'none';\n",
              "\n",
              "        async function convertToInteractive(key) {\n",
              "          const element = document.querySelector('#df-17dd2212-72c9-4a0f-adb7-8f256eb1d0bd');\n",
              "          const dataTable =\n",
              "            await google.colab.kernel.invokeFunction('convertToInteractive',\n",
              "                                                     [key], {});\n",
              "          if (!dataTable) return;\n",
              "\n",
              "          const docLinkHtml = 'Like what you see? Visit the ' +\n",
              "            '<a target=\"_blank\" href=https://colab.research.google.com/notebooks/data_table.ipynb>data table notebook</a>'\n",
              "            + ' to learn more about interactive tables.';\n",
              "          element.innerHTML = '';\n",
              "          dataTable['output_type'] = 'display_data';\n",
              "          await google.colab.output.renderOutput(dataTable, element);\n",
              "          const docLink = document.createElement('div');\n",
              "          docLink.innerHTML = docLinkHtml;\n",
              "          element.appendChild(docLink);\n",
              "        }\n",
              "      </script>\n",
              "    </div>\n",
              "  </div>\n",
              "  "
            ]
          },
          "metadata": {},
          "execution_count": 66
        }
      ]
    },
    {
      "cell_type": "code",
      "source": [
        "data.drop_duplicates(['res_id'],keep='first',inplace=True)"
      ],
      "metadata": {
        "id": "VELRglNHqHQV"
      },
      "execution_count": null,
      "outputs": []
    },
    {
      "cell_type": "code",
      "source": [
        "data.shape"
      ],
      "metadata": {
        "colab": {
          "base_uri": "https://localhost:8080/"
        },
        "id": "d-rrBoY9qQwO",
        "outputId": "b8398b34-8411-485b-c709-8185a15ca1ce"
      },
      "execution_count": null,
      "outputs": [
        {
          "output_type": "execute_result",
          "data": {
            "text/plain": [
              "(55568, 26)"
            ]
          },
          "metadata": {},
          "execution_count": 70
        }
      ]
    },
    {
      "cell_type": "code",
      "source": [
        "data.isnull().sum()"
      ],
      "metadata": {
        "colab": {
          "base_uri": "https://localhost:8080/"
        },
        "id": "PWvP9m4BqZRv",
        "outputId": "50ec12e2-e6a8-4e72-df2c-b08c92528f48"
      },
      "execution_count": null,
      "outputs": [
        {
          "output_type": "execute_result",
          "data": {
            "text/plain": [
              "res_id                      0\n",
              "name                        0\n",
              "establishment               0\n",
              "url                         0\n",
              "address                    18\n",
              "city                        0\n",
              "city_id                     0\n",
              "locality                    0\n",
              "latitude                    0\n",
              "longitude                   0\n",
              "zipcode                 44623\n",
              "country_id                  0\n",
              "locality_verbose            0\n",
              "cuisines                  470\n",
              "timings                  1003\n",
              "average_cost_for_two        0\n",
              "price_range                 0\n",
              "currency                    0\n",
              "highlights                  0\n",
              "aggregate_rating            0\n",
              "rating_text                 0\n",
              "votes                       0\n",
              "photo_count                 0\n",
              "opentable_support          12\n",
              "delivery                    0\n",
              "takeaway                    0\n",
              "dtype: int64"
            ]
          },
          "metadata": {},
          "execution_count": 71
        }
      ]
    },
    {
      "cell_type": "code",
      "source": [
        "data['establishment'].unique()"
      ],
      "metadata": {
        "colab": {
          "base_uri": "https://localhost:8080/"
        },
        "id": "xKA85mlQqdbV",
        "outputId": "78bb88d1-e22c-4bb4-d0c9-ba72501cb761"
      },
      "execution_count": null,
      "outputs": [
        {
          "output_type": "execute_result",
          "data": {
            "text/plain": [
              "array([\"['Quick Bites']\", \"['Casual Dining']\", \"['Bakery']\", \"['Café']\",\n",
              "       \"['Dhaba']\", \"['Bhojanalya']\", \"['Bar']\", \"['Sweet Shop']\",\n",
              "       \"['Fine Dining']\", \"['Food Truck']\", \"['Dessert Parlour']\",\n",
              "       \"['Lounge']\", \"['Pub']\", \"['Beverage Shop']\", \"['Kiosk']\",\n",
              "       \"['Paan Shop']\", \"['Confectionery']\", '[]', \"['Shack']\",\n",
              "       \"['Club']\", \"['Food Court']\", \"['Mess']\", \"['Butcher Shop']\",\n",
              "       \"['Microbrewery']\", \"['Cocktail Bar']\", \"['Pop up']\",\n",
              "       \"['Irani Cafe']\"], dtype=object)"
            ]
          },
          "metadata": {},
          "execution_count": 73
        }
      ]
    },
    {
      "cell_type": "code",
      "source": [
        "data['establishment'].unique()[0]"
      ],
      "metadata": {
        "colab": {
          "base_uri": "https://localhost:8080/",
          "height": 36
        },
        "id": "zl8UNS33qhqh",
        "outputId": "28bc7cb7-1b55-4ad0-cf78-d3bed1cdfe23"
      },
      "execution_count": null,
      "outputs": [
        {
          "output_type": "execute_result",
          "data": {
            "text/plain": [
              "\"['Quick Bites']\""
            ],
            "application/vnd.google.colaboratory.intrinsic+json": {
              "type": "string"
            }
          },
          "metadata": {},
          "execution_count": 74
        }
      ]
    },
    {
      "cell_type": "code",
      "source": [
        "type(data['establishment'].unique()[0])"
      ],
      "metadata": {
        "colab": {
          "base_uri": "https://localhost:8080/"
        },
        "id": "MQOTSYXsqpi_",
        "outputId": "4c4ca108-0d08-40d5-d3f6-ce831af95d65"
      },
      "execution_count": null,
      "outputs": [
        {
          "output_type": "execute_result",
          "data": {
            "text/plain": [
              "str"
            ]
          },
          "metadata": {},
          "execution_count": 75
        }
      ]
    },
    {
      "cell_type": "code",
      "source": [
        "data['establishment'].unique()[0]\n",
        "data['establishment']=data['establishment'].apply(lambda x:x[2:-2])\n",
        "data['establishment'].unique()[0]"
      ],
      "metadata": {
        "colab": {
          "base_uri": "https://localhost:8080/",
          "height": 36
        },
        "id": "iJR2ARnAqtEf",
        "outputId": "f8b7a43a-016b-497e-e2bd-5841cc1acf2a"
      },
      "execution_count": null,
      "outputs": [
        {
          "output_type": "execute_result",
          "data": {
            "text/plain": [
              "'Quick Bites'"
            ],
            "application/vnd.google.colaboratory.intrinsic+json": {
              "type": "string"
            }
          },
          "metadata": {},
          "execution_count": 76
        }
      ]
    },
    {
      "cell_type": "code",
      "source": [
        "data['establishment'].unique()"
      ],
      "metadata": {
        "colab": {
          "base_uri": "https://localhost:8080/"
        },
        "id": "ngYYzLK2q_QB",
        "outputId": "6cc856e6-3f8f-4504-d8b5-da68559f76d8"
      },
      "execution_count": null,
      "outputs": [
        {
          "output_type": "execute_result",
          "data": {
            "text/plain": [
              "array(['Quick Bites', 'Casual Dining', 'Bakery', 'Café', 'Dhaba',\n",
              "       'Bhojanalya', 'Bar', 'Sweet Shop', 'Fine Dining', 'Food Truck',\n",
              "       'Dessert Parlour', 'Lounge', 'Pub', 'Beverage Shop', 'Kiosk',\n",
              "       'Paan Shop', 'Confectionery', '', 'Shack', 'Club', 'Food Court',\n",
              "       'Mess', 'Butcher Shop', 'Microbrewery', 'Cocktail Bar', 'Pop up',\n",
              "       'Irani Cafe'], dtype=object)"
            ]
          },
          "metadata": {},
          "execution_count": 77
        }
      ]
    },
    {
      "cell_type": "code",
      "source": [
        "data['establishment']=data['establishment'].apply(lambda x: np.where(x==\"\",'NA',x))\n",
        "data['establishment'].unique()"
      ],
      "metadata": {
        "colab": {
          "base_uri": "https://localhost:8080/"
        },
        "id": "Z9mcQ4TfrKzT",
        "outputId": "b6f2e415-8f20-46ba-ad13-baa4263dc98c"
      },
      "execution_count": null,
      "outputs": [
        {
          "output_type": "execute_result",
          "data": {
            "text/plain": [
              "array(['Quick Bites', 'Casual Dining', 'Bakery', 'Café', 'Dhaba',\n",
              "       'Bhojanalya', 'Bar', 'Sweet Shop', 'Fine Dining', 'Food Truck',\n",
              "       'Dessert Parlour', 'Lounge', 'Pub', 'Beverage Shop', 'Kiosk',\n",
              "       'Paan Shop', 'Confectionery', 'NA', 'Shack', 'Club', 'Food Court',\n",
              "       'Mess', 'Butcher Shop', 'Microbrewery', 'Cocktail Bar', 'Pop up',\n",
              "       'Irani Cafe'], dtype=object)"
            ]
          },
          "metadata": {},
          "execution_count": 78
        }
      ]
    },
    {
      "cell_type": "code",
      "source": [
        "len(data[data['city']==\"Shimla\"])"
      ],
      "metadata": {
        "colab": {
          "base_uri": "https://localhost:8080/"
        },
        "id": "a9ylDanZrmxX",
        "outputId": "553c908e-42fb-451c-892d-5c820bd9a002"
      },
      "execution_count": null,
      "outputs": [
        {
          "output_type": "execute_result",
          "data": {
            "text/plain": [
              "218"
            ]
          },
          "metadata": {},
          "execution_count": 80
        }
      ]
    },
    {
      "cell_type": "code",
      "source": [
        "len(data[data['city']=='Agra'])"
      ],
      "metadata": {
        "colab": {
          "base_uri": "https://localhost:8080/"
        },
        "id": "1sACS8CXrvqF",
        "outputId": "316c027f-2b46-401b-dea7-fba07e6de626"
      },
      "execution_count": null,
      "outputs": [
        {
          "output_type": "execute_result",
          "data": {
            "text/plain": [
              "833"
            ]
          },
          "metadata": {},
          "execution_count": 82
        }
      ]
    },
    {
      "cell_type": "code",
      "source": [
        "data['city'].unique()"
      ],
      "metadata": {
        "colab": {
          "base_uri": "https://localhost:8080/"
        },
        "id": "hz3Aybvlr_3E",
        "outputId": "a076ccb9-bf1b-419c-be55-b0db721dc9a9"
      },
      "execution_count": null,
      "outputs": [
        {
          "output_type": "execute_result",
          "data": {
            "text/plain": [
              "array(['Agra', 'Ahmedabad', 'Gandhinagar', 'Ajmer', 'Alappuzha',\n",
              "       'Allahabad', 'Amravati', 'Amritsar', 'Aurangabad', 'Bangalore',\n",
              "       'Bhopal', 'Bhubaneshwar', 'Chandigarh', 'Mohali', 'Panchkula',\n",
              "       'Zirakpur', 'Nayagaon', 'Chennai', 'Coimbatore', 'Cuttack',\n",
              "       'Darjeeling', 'Dehradun', 'New Delhi', 'Gurgaon', 'Noida',\n",
              "       'Faridabad', 'Ghaziabad', 'Greater Noida', 'Dharamshala',\n",
              "       'Gangtok', 'Goa', 'Gorakhpur', 'Guntur', 'Guwahati', 'Gwalior',\n",
              "       'Haridwar', 'Hyderabad', 'Secunderabad', 'Indore', 'Jabalpur',\n",
              "       'Jaipur', 'Jalandhar', 'Jammu', 'Jamnagar', 'Jamshedpur', 'Jhansi',\n",
              "       'Jodhpur', 'Junagadh', 'Kanpur', 'Kharagpur', 'Kochi', 'Kolhapur',\n",
              "       'Kolkata', 'Howrah', 'Kota', 'Lucknow', 'Ludhiana', 'Madurai',\n",
              "       'Manali', 'Mangalore', 'Manipal', 'Udupi', 'Meerut', 'Mumbai',\n",
              "       'Thane', 'Navi Mumbai', 'Mussoorie', 'Mysore', 'Nagpur',\n",
              "       'Nainital', 'Nasik', 'Nashik', 'Neemrana', 'Ooty', 'Palakkad',\n",
              "       'Patiala', 'Patna', 'Puducherry', 'Pune', 'Pushkar', 'Raipur',\n",
              "       'Rajkot', 'Ranchi', 'Rishikesh', 'Salem', 'Shimla', 'Siliguri',\n",
              "       'Srinagar', 'Surat', 'Thrissur', 'Tirupati', 'Trichy',\n",
              "       'Trivandrum', 'Udaipur', 'Varanasi', 'Vellore', 'Vijayawada',\n",
              "       'Vizag', 'Vadodara'], dtype=object)"
            ]
          },
          "metadata": {},
          "execution_count": 83
        }
      ]
    },
    {
      "cell_type": "code",
      "source": [
        "len(data['city'].unique())"
      ],
      "metadata": {
        "colab": {
          "base_uri": "https://localhost:8080/"
        },
        "id": "fjyCTSXssGMg",
        "outputId": "6a6f7031-93a8-4536-ac82-5851207efd35"
      },
      "execution_count": null,
      "outputs": [
        {
          "output_type": "execute_result",
          "data": {
            "text/plain": [
              "99"
            ]
          },
          "metadata": {},
          "execution_count": 85
        }
      ]
    },
    {
      "cell_type": "code",
      "source": [
        "data[data['city']==\"Jabalpur\"]"
      ],
      "metadata": {
        "colab": {
          "base_uri": "https://localhost:8080/",
          "height": 1000
        },
        "id": "l4ir6CXCsMav",
        "outputId": "eba69091-fa85-4f7f-a2a8-c6555a1606fb"
      },
      "execution_count": null,
      "outputs": [
        {
          "output_type": "execute_result",
          "data": {
            "text/plain": [
              "         res_id                                name  establishment  \\\n",
              "82579  18746666                    RH Chicken Point    Quick Bites   \n",
              "82580  18745503  Naidu's Dilli Ki Gali Parathe Wali    Quick Bites   \n",
              "82581  18815413                  Riyaz Hotel - 1953    Quick Bites   \n",
              "82582  18746285                   Badkul Restaurant  Casual Dining   \n",
              "82583  18825615        Popular Fresh Momos And More    Quick Bites   \n",
              "...         ...                                 ...            ...   \n",
              "85087  18890729            Muskan Family Restaurant  Casual Dining   \n",
              "85088  18859783  Pawar's South Indian & Chines Food  Casual Dining   \n",
              "85090  18859976                  Swastik Restaurant  Casual Dining   \n",
              "85091  18860323             Munna Yadav Bhojanalaya  Casual Dining   \n",
              "85092  18860522                 Sai Chinese & Momos  Casual Dining   \n",
              "\n",
              "                                                     url  \\\n",
              "82579  https://www.zomato.com/jabalpur/rh-chicken-poi...   \n",
              "82580  https://www.zomato.com/jabalpur/naidus-dilli-k...   \n",
              "82581  https://www.zomato.com/jabalpur/riyaz-hotel-19...   \n",
              "82582  https://www.zomato.com/jabalpur/badkul-restaur...   \n",
              "82583  https://www.zomato.com/jabalpur/popular-fresh-...   \n",
              "...                                                  ...   \n",
              "85087  https://www.zomato.com/jabalpur/muskan-family-...   \n",
              "85088  https://www.zomato.com/jabalpur/pawars-south-i...   \n",
              "85090  https://www.zomato.com/jabalpur/swastik-restau...   \n",
              "85091  https://www.zomato.com/jabalpur/munna-yadav-bh...   \n",
              "85092  https://www.zomato.com/jabalpur/sai-chinese-mo...   \n",
              "\n",
              "                                                 address      city  city_id  \\\n",
              "82579           Main Road, Sadar Bazaar, Cantt, Jabalpur  Jabalpur    11336   \n",
              "82580  Near Mahakaushal Chamber Bhawan, Marhathal, Ci...  Jabalpur    11336   \n",
              "82581              993, Badi Omti, Napier Town, Jabalpur  Jabalpur    11336   \n",
              "82582  103-105, Deendayal Chowk, Opposite ISBT, ITI R...  Jabalpur    11336   \n",
              "82583   Home Science College Road, Napier Town, Jabalpur  Jabalpur    11336   \n",
              "...                                                  ...       ...      ...   \n",
              "85087  Civic Center, Near Bata Showroom, Marhataal, C...  Jabalpur    11336   \n",
              "85088  Shop No. 34, Ganjipura Chowk, Ganjipura, Jabal...  Jabalpur    11336   \n",
              "85090  C/O Hotel Swastik, Building No 333, Napier Tow...  Jabalpur    11336   \n",
              "85091  In Front Of Hotel Ankit, South, Civil Lines, J...  Jabalpur    11336   \n",
              "85092  Jabalpur - 482001, Opposite Samdariya Mall, Ne...  Jabalpur    11336   \n",
              "\n",
              "          locality   latitude  longitude  ... price_range  currency  \\\n",
              "82579        Cantt  23.154664  79.951015  ...           2       Rs.   \n",
              "82580  Napier Town  23.169057  79.933869  ...           1       Rs.   \n",
              "82581  Napier Town  23.170673  79.937920  ...           2       Rs.   \n",
              "82582  Vijay Nagar  23.193550  79.913353  ...           2       Rs.   \n",
              "82583  Wright Town  23.160413  79.925240  ...           2       Rs.   \n",
              "...            ...        ...        ...  ...         ...       ...   \n",
              "85087  Civil Lines  23.167616  79.932721  ...           1       Rs.   \n",
              "85088        Cantt  23.173200  79.931319  ...           1       Rs.   \n",
              "85090        Cantt  23.162786  79.936645  ...           1       Rs.   \n",
              "85091        Cantt  23.161508  79.948811  ...           1       Rs.   \n",
              "85092        Cantt  23.168537  79.933708  ...           1       Rs.   \n",
              "\n",
              "                                              highlights aggregate_rating  \\\n",
              "82579  ['Lunch', 'Delivery', 'Credit Card', 'No Alcoh...              4.5   \n",
              "82580  ['Lunch', 'Cash', 'Takeaway Available', 'No Al...              4.7   \n",
              "82581  ['Lunch', 'Takeaway Available', 'No Alcohol Av...              4.2   \n",
              "82582  ['No Alcohol Available', 'Dinner', 'Cash', 'Ta...              4.0   \n",
              "82583  ['Lunch', 'Cash', 'Takeaway Available', 'No Al...              4.1   \n",
              "...                                                  ...              ...   \n",
              "85087  ['Dinner', 'Cash', 'Lunch', 'Takeaway Availabl...              0.0   \n",
              "85088                                           ['Cash']              0.0   \n",
              "85090              ['Cash', 'Credit Card', 'Debit Card']              0.0   \n",
              "85091                                           ['Cash']              0.0   \n",
              "85092                                           ['Cash']              0.0   \n",
              "\n",
              "      rating_text  votes  photo_count opentable_support delivery  takeaway  \n",
              "82579   Excellent    680           24               0.0       -1        -1  \n",
              "82580   Excellent    355           14               0.0        1        -1  \n",
              "82581   Very Good    542            9               0.0       -1        -1  \n",
              "82582   Very Good    451           19               0.0        1        -1  \n",
              "82583   Very Good    249           43               0.0       -1        -1  \n",
              "...           ...    ...          ...               ...      ...       ...  \n",
              "85087   Not rated      3            0               0.0       -1        -1  \n",
              "85088   Not rated      2            0               0.0       -1        -1  \n",
              "85090   Not rated      3            0               0.0       -1        -1  \n",
              "85091   Not rated      2            0               0.0       -1        -1  \n",
              "85092   Not rated      2            0               0.0       -1        -1  \n",
              "\n",
              "[534 rows x 26 columns]"
            ],
            "text/html": [
              "\n",
              "  <div id=\"df-42bc349b-8176-4fee-b534-8b22cbe9efae\">\n",
              "    <div class=\"colab-df-container\">\n",
              "      <div>\n",
              "<style scoped>\n",
              "    .dataframe tbody tr th:only-of-type {\n",
              "        vertical-align: middle;\n",
              "    }\n",
              "\n",
              "    .dataframe tbody tr th {\n",
              "        vertical-align: top;\n",
              "    }\n",
              "\n",
              "    .dataframe thead th {\n",
              "        text-align: right;\n",
              "    }\n",
              "</style>\n",
              "<table border=\"1\" class=\"dataframe\">\n",
              "  <thead>\n",
              "    <tr style=\"text-align: right;\">\n",
              "      <th></th>\n",
              "      <th>res_id</th>\n",
              "      <th>name</th>\n",
              "      <th>establishment</th>\n",
              "      <th>url</th>\n",
              "      <th>address</th>\n",
              "      <th>city</th>\n",
              "      <th>city_id</th>\n",
              "      <th>locality</th>\n",
              "      <th>latitude</th>\n",
              "      <th>longitude</th>\n",
              "      <th>...</th>\n",
              "      <th>price_range</th>\n",
              "      <th>currency</th>\n",
              "      <th>highlights</th>\n",
              "      <th>aggregate_rating</th>\n",
              "      <th>rating_text</th>\n",
              "      <th>votes</th>\n",
              "      <th>photo_count</th>\n",
              "      <th>opentable_support</th>\n",
              "      <th>delivery</th>\n",
              "      <th>takeaway</th>\n",
              "    </tr>\n",
              "  </thead>\n",
              "  <tbody>\n",
              "    <tr>\n",
              "      <th>82579</th>\n",
              "      <td>18746666</td>\n",
              "      <td>RH Chicken Point</td>\n",
              "      <td>Quick Bites</td>\n",
              "      <td>https://www.zomato.com/jabalpur/rh-chicken-poi...</td>\n",
              "      <td>Main Road, Sadar Bazaar, Cantt, Jabalpur</td>\n",
              "      <td>Jabalpur</td>\n",
              "      <td>11336</td>\n",
              "      <td>Cantt</td>\n",
              "      <td>23.154664</td>\n",
              "      <td>79.951015</td>\n",
              "      <td>...</td>\n",
              "      <td>2</td>\n",
              "      <td>Rs.</td>\n",
              "      <td>['Lunch', 'Delivery', 'Credit Card', 'No Alcoh...</td>\n",
              "      <td>4.5</td>\n",
              "      <td>Excellent</td>\n",
              "      <td>680</td>\n",
              "      <td>24</td>\n",
              "      <td>0.0</td>\n",
              "      <td>-1</td>\n",
              "      <td>-1</td>\n",
              "    </tr>\n",
              "    <tr>\n",
              "      <th>82580</th>\n",
              "      <td>18745503</td>\n",
              "      <td>Naidu's Dilli Ki Gali Parathe Wali</td>\n",
              "      <td>Quick Bites</td>\n",
              "      <td>https://www.zomato.com/jabalpur/naidus-dilli-k...</td>\n",
              "      <td>Near Mahakaushal Chamber Bhawan, Marhathal, Ci...</td>\n",
              "      <td>Jabalpur</td>\n",
              "      <td>11336</td>\n",
              "      <td>Napier Town</td>\n",
              "      <td>23.169057</td>\n",
              "      <td>79.933869</td>\n",
              "      <td>...</td>\n",
              "      <td>1</td>\n",
              "      <td>Rs.</td>\n",
              "      <td>['Lunch', 'Cash', 'Takeaway Available', 'No Al...</td>\n",
              "      <td>4.7</td>\n",
              "      <td>Excellent</td>\n",
              "      <td>355</td>\n",
              "      <td>14</td>\n",
              "      <td>0.0</td>\n",
              "      <td>1</td>\n",
              "      <td>-1</td>\n",
              "    </tr>\n",
              "    <tr>\n",
              "      <th>82581</th>\n",
              "      <td>18815413</td>\n",
              "      <td>Riyaz Hotel - 1953</td>\n",
              "      <td>Quick Bites</td>\n",
              "      <td>https://www.zomato.com/jabalpur/riyaz-hotel-19...</td>\n",
              "      <td>993, Badi Omti, Napier Town, Jabalpur</td>\n",
              "      <td>Jabalpur</td>\n",
              "      <td>11336</td>\n",
              "      <td>Napier Town</td>\n",
              "      <td>23.170673</td>\n",
              "      <td>79.937920</td>\n",
              "      <td>...</td>\n",
              "      <td>2</td>\n",
              "      <td>Rs.</td>\n",
              "      <td>['Lunch', 'Takeaway Available', 'No Alcohol Av...</td>\n",
              "      <td>4.2</td>\n",
              "      <td>Very Good</td>\n",
              "      <td>542</td>\n",
              "      <td>9</td>\n",
              "      <td>0.0</td>\n",
              "      <td>-1</td>\n",
              "      <td>-1</td>\n",
              "    </tr>\n",
              "    <tr>\n",
              "      <th>82582</th>\n",
              "      <td>18746285</td>\n",
              "      <td>Badkul Restaurant</td>\n",
              "      <td>Casual Dining</td>\n",
              "      <td>https://www.zomato.com/jabalpur/badkul-restaur...</td>\n",
              "      <td>103-105, Deendayal Chowk, Opposite ISBT, ITI R...</td>\n",
              "      <td>Jabalpur</td>\n",
              "      <td>11336</td>\n",
              "      <td>Vijay Nagar</td>\n",
              "      <td>23.193550</td>\n",
              "      <td>79.913353</td>\n",
              "      <td>...</td>\n",
              "      <td>2</td>\n",
              "      <td>Rs.</td>\n",
              "      <td>['No Alcohol Available', 'Dinner', 'Cash', 'Ta...</td>\n",
              "      <td>4.0</td>\n",
              "      <td>Very Good</td>\n",
              "      <td>451</td>\n",
              "      <td>19</td>\n",
              "      <td>0.0</td>\n",
              "      <td>1</td>\n",
              "      <td>-1</td>\n",
              "    </tr>\n",
              "    <tr>\n",
              "      <th>82583</th>\n",
              "      <td>18825615</td>\n",
              "      <td>Popular Fresh Momos And More</td>\n",
              "      <td>Quick Bites</td>\n",
              "      <td>https://www.zomato.com/jabalpur/popular-fresh-...</td>\n",
              "      <td>Home Science College Road, Napier Town, Jabalpur</td>\n",
              "      <td>Jabalpur</td>\n",
              "      <td>11336</td>\n",
              "      <td>Wright Town</td>\n",
              "      <td>23.160413</td>\n",
              "      <td>79.925240</td>\n",
              "      <td>...</td>\n",
              "      <td>2</td>\n",
              "      <td>Rs.</td>\n",
              "      <td>['Lunch', 'Cash', 'Takeaway Available', 'No Al...</td>\n",
              "      <td>4.1</td>\n",
              "      <td>Very Good</td>\n",
              "      <td>249</td>\n",
              "      <td>43</td>\n",
              "      <td>0.0</td>\n",
              "      <td>-1</td>\n",
              "      <td>-1</td>\n",
              "    </tr>\n",
              "    <tr>\n",
              "      <th>...</th>\n",
              "      <td>...</td>\n",
              "      <td>...</td>\n",
              "      <td>...</td>\n",
              "      <td>...</td>\n",
              "      <td>...</td>\n",
              "      <td>...</td>\n",
              "      <td>...</td>\n",
              "      <td>...</td>\n",
              "      <td>...</td>\n",
              "      <td>...</td>\n",
              "      <td>...</td>\n",
              "      <td>...</td>\n",
              "      <td>...</td>\n",
              "      <td>...</td>\n",
              "      <td>...</td>\n",
              "      <td>...</td>\n",
              "      <td>...</td>\n",
              "      <td>...</td>\n",
              "      <td>...</td>\n",
              "      <td>...</td>\n",
              "      <td>...</td>\n",
              "    </tr>\n",
              "    <tr>\n",
              "      <th>85087</th>\n",
              "      <td>18890729</td>\n",
              "      <td>Muskan Family Restaurant</td>\n",
              "      <td>Casual Dining</td>\n",
              "      <td>https://www.zomato.com/jabalpur/muskan-family-...</td>\n",
              "      <td>Civic Center, Near Bata Showroom, Marhataal, C...</td>\n",
              "      <td>Jabalpur</td>\n",
              "      <td>11336</td>\n",
              "      <td>Civil Lines</td>\n",
              "      <td>23.167616</td>\n",
              "      <td>79.932721</td>\n",
              "      <td>...</td>\n",
              "      <td>1</td>\n",
              "      <td>Rs.</td>\n",
              "      <td>['Dinner', 'Cash', 'Lunch', 'Takeaway Availabl...</td>\n",
              "      <td>0.0</td>\n",
              "      <td>Not rated</td>\n",
              "      <td>3</td>\n",
              "      <td>0</td>\n",
              "      <td>0.0</td>\n",
              "      <td>-1</td>\n",
              "      <td>-1</td>\n",
              "    </tr>\n",
              "    <tr>\n",
              "      <th>85088</th>\n",
              "      <td>18859783</td>\n",
              "      <td>Pawar's South Indian &amp; Chines Food</td>\n",
              "      <td>Casual Dining</td>\n",
              "      <td>https://www.zomato.com/jabalpur/pawars-south-i...</td>\n",
              "      <td>Shop No. 34, Ganjipura Chowk, Ganjipura, Jabal...</td>\n",
              "      <td>Jabalpur</td>\n",
              "      <td>11336</td>\n",
              "      <td>Cantt</td>\n",
              "      <td>23.173200</td>\n",
              "      <td>79.931319</td>\n",
              "      <td>...</td>\n",
              "      <td>1</td>\n",
              "      <td>Rs.</td>\n",
              "      <td>['Cash']</td>\n",
              "      <td>0.0</td>\n",
              "      <td>Not rated</td>\n",
              "      <td>2</td>\n",
              "      <td>0</td>\n",
              "      <td>0.0</td>\n",
              "      <td>-1</td>\n",
              "      <td>-1</td>\n",
              "    </tr>\n",
              "    <tr>\n",
              "      <th>85090</th>\n",
              "      <td>18859976</td>\n",
              "      <td>Swastik Restaurant</td>\n",
              "      <td>Casual Dining</td>\n",
              "      <td>https://www.zomato.com/jabalpur/swastik-restau...</td>\n",
              "      <td>C/O Hotel Swastik, Building No 333, Napier Tow...</td>\n",
              "      <td>Jabalpur</td>\n",
              "      <td>11336</td>\n",
              "      <td>Cantt</td>\n",
              "      <td>23.162786</td>\n",
              "      <td>79.936645</td>\n",
              "      <td>...</td>\n",
              "      <td>1</td>\n",
              "      <td>Rs.</td>\n",
              "      <td>['Cash', 'Credit Card', 'Debit Card']</td>\n",
              "      <td>0.0</td>\n",
              "      <td>Not rated</td>\n",
              "      <td>3</td>\n",
              "      <td>0</td>\n",
              "      <td>0.0</td>\n",
              "      <td>-1</td>\n",
              "      <td>-1</td>\n",
              "    </tr>\n",
              "    <tr>\n",
              "      <th>85091</th>\n",
              "      <td>18860323</td>\n",
              "      <td>Munna Yadav Bhojanalaya</td>\n",
              "      <td>Casual Dining</td>\n",
              "      <td>https://www.zomato.com/jabalpur/munna-yadav-bh...</td>\n",
              "      <td>In Front Of Hotel Ankit, South, Civil Lines, J...</td>\n",
              "      <td>Jabalpur</td>\n",
              "      <td>11336</td>\n",
              "      <td>Cantt</td>\n",
              "      <td>23.161508</td>\n",
              "      <td>79.948811</td>\n",
              "      <td>...</td>\n",
              "      <td>1</td>\n",
              "      <td>Rs.</td>\n",
              "      <td>['Cash']</td>\n",
              "      <td>0.0</td>\n",
              "      <td>Not rated</td>\n",
              "      <td>2</td>\n",
              "      <td>0</td>\n",
              "      <td>0.0</td>\n",
              "      <td>-1</td>\n",
              "      <td>-1</td>\n",
              "    </tr>\n",
              "    <tr>\n",
              "      <th>85092</th>\n",
              "      <td>18860522</td>\n",
              "      <td>Sai Chinese &amp; Momos</td>\n",
              "      <td>Casual Dining</td>\n",
              "      <td>https://www.zomato.com/jabalpur/sai-chinese-mo...</td>\n",
              "      <td>Jabalpur - 482001, Opposite Samdariya Mall, Ne...</td>\n",
              "      <td>Jabalpur</td>\n",
              "      <td>11336</td>\n",
              "      <td>Cantt</td>\n",
              "      <td>23.168537</td>\n",
              "      <td>79.933708</td>\n",
              "      <td>...</td>\n",
              "      <td>1</td>\n",
              "      <td>Rs.</td>\n",
              "      <td>['Cash']</td>\n",
              "      <td>0.0</td>\n",
              "      <td>Not rated</td>\n",
              "      <td>2</td>\n",
              "      <td>0</td>\n",
              "      <td>0.0</td>\n",
              "      <td>-1</td>\n",
              "      <td>-1</td>\n",
              "    </tr>\n",
              "  </tbody>\n",
              "</table>\n",
              "<p>534 rows × 26 columns</p>\n",
              "</div>\n",
              "      <button class=\"colab-df-convert\" onclick=\"convertToInteractive('df-42bc349b-8176-4fee-b534-8b22cbe9efae')\"\n",
              "              title=\"Convert this dataframe to an interactive table.\"\n",
              "              style=\"display:none;\">\n",
              "        \n",
              "  <svg xmlns=\"http://www.w3.org/2000/svg\" height=\"24px\"viewBox=\"0 0 24 24\"\n",
              "       width=\"24px\">\n",
              "    <path d=\"M0 0h24v24H0V0z\" fill=\"none\"/>\n",
              "    <path d=\"M18.56 5.44l.94 2.06.94-2.06 2.06-.94-2.06-.94-.94-2.06-.94 2.06-2.06.94zm-11 1L8.5 8.5l.94-2.06 2.06-.94-2.06-.94L8.5 2.5l-.94 2.06-2.06.94zm10 10l.94 2.06.94-2.06 2.06-.94-2.06-.94-.94-2.06-.94 2.06-2.06.94z\"/><path d=\"M17.41 7.96l-1.37-1.37c-.4-.4-.92-.59-1.43-.59-.52 0-1.04.2-1.43.59L10.3 9.45l-7.72 7.72c-.78.78-.78 2.05 0 2.83L4 21.41c.39.39.9.59 1.41.59.51 0 1.02-.2 1.41-.59l7.78-7.78 2.81-2.81c.8-.78.8-2.07 0-2.86zM5.41 20L4 18.59l7.72-7.72 1.47 1.35L5.41 20z\"/>\n",
              "  </svg>\n",
              "      </button>\n",
              "      \n",
              "  <style>\n",
              "    .colab-df-container {\n",
              "      display:flex;\n",
              "      flex-wrap:wrap;\n",
              "      gap: 12px;\n",
              "    }\n",
              "\n",
              "    .colab-df-convert {\n",
              "      background-color: #E8F0FE;\n",
              "      border: none;\n",
              "      border-radius: 50%;\n",
              "      cursor: pointer;\n",
              "      display: none;\n",
              "      fill: #1967D2;\n",
              "      height: 32px;\n",
              "      padding: 0 0 0 0;\n",
              "      width: 32px;\n",
              "    }\n",
              "\n",
              "    .colab-df-convert:hover {\n",
              "      background-color: #E2EBFA;\n",
              "      box-shadow: 0px 1px 2px rgba(60, 64, 67, 0.3), 0px 1px 3px 1px rgba(60, 64, 67, 0.15);\n",
              "      fill: #174EA6;\n",
              "    }\n",
              "\n",
              "    [theme=dark] .colab-df-convert {\n",
              "      background-color: #3B4455;\n",
              "      fill: #D2E3FC;\n",
              "    }\n",
              "\n",
              "    [theme=dark] .colab-df-convert:hover {\n",
              "      background-color: #434B5C;\n",
              "      box-shadow: 0px 1px 3px 1px rgba(0, 0, 0, 0.15);\n",
              "      filter: drop-shadow(0px 1px 2px rgba(0, 0, 0, 0.3));\n",
              "      fill: #FFFFFF;\n",
              "    }\n",
              "  </style>\n",
              "\n",
              "      <script>\n",
              "        const buttonEl =\n",
              "          document.querySelector('#df-42bc349b-8176-4fee-b534-8b22cbe9efae button.colab-df-convert');\n",
              "        buttonEl.style.display =\n",
              "          google.colab.kernel.accessAllowed ? 'block' : 'none';\n",
              "\n",
              "        async function convertToInteractive(key) {\n",
              "          const element = document.querySelector('#df-42bc349b-8176-4fee-b534-8b22cbe9efae');\n",
              "          const dataTable =\n",
              "            await google.colab.kernel.invokeFunction('convertToInteractive',\n",
              "                                                     [key], {});\n",
              "          if (!dataTable) return;\n",
              "\n",
              "          const docLinkHtml = 'Like what you see? Visit the ' +\n",
              "            '<a target=\"_blank\" href=https://colab.research.google.com/notebooks/data_table.ipynb>data table notebook</a>'\n",
              "            + ' to learn more about interactive tables.';\n",
              "          element.innerHTML = '';\n",
              "          dataTable['output_type'] = 'display_data';\n",
              "          await google.colab.output.renderOutput(dataTable, element);\n",
              "          const docLink = document.createElement('div');\n",
              "          docLink.innerHTML = docLinkHtml;\n",
              "          element.appendChild(docLink);\n",
              "        }\n",
              "      </script>\n",
              "    </div>\n",
              "  </div>\n",
              "  "
            ]
          },
          "metadata": {},
          "execution_count": 87
        }
      ]
    },
    {
      "cell_type": "code",
      "source": [
        "data['locality'].nunique()"
      ],
      "metadata": {
        "colab": {
          "base_uri": "https://localhost:8080/"
        },
        "id": "_0_NXVRlsYha",
        "outputId": "c7535f2c-646a-4235-b9a5-09c0b3f2fff7"
      },
      "execution_count": null,
      "outputs": [
        {
          "output_type": "execute_result",
          "data": {
            "text/plain": [
              "3731"
            ]
          },
          "metadata": {},
          "execution_count": 89
        }
      ]
    },
    {
      "cell_type": "code",
      "source": [
        "# since this dataset is of indian so, just one country_id here\n",
        "# lets's check\n",
        "data['country_id'].nunique()"
      ],
      "metadata": {
        "colab": {
          "base_uri": "https://localhost:8080/"
        },
        "id": "LIbyolL6soni",
        "outputId": "19797f57-3f04-4755-82c8-e88dd7603c77"
      },
      "execution_count": null,
      "outputs": [
        {
          "output_type": "execute_result",
          "data": {
            "text/plain": [
              "1"
            ]
          },
          "metadata": {},
          "execution_count": 90
        }
      ]
    },
    {
      "cell_type": "code",
      "source": [
        "data['locality_verbose'].nunique()"
      ],
      "metadata": {
        "colab": {
          "base_uri": "https://localhost:8080/"
        },
        "id": "wMbj6b8Bs-Hh",
        "outputId": "84d5537a-f415-4989-829e-85f3ff45e21b"
      },
      "execution_count": null,
      "outputs": [
        {
          "output_type": "execute_result",
          "data": {
            "text/plain": [
              "3910"
            ]
          },
          "metadata": {},
          "execution_count": 91
        }
      ]
    },
    {
      "cell_type": "code",
      "source": [
        "data['cuisines'].nunique()\n",
        "data['cuisines'].unique()"
      ],
      "metadata": {
        "colab": {
          "base_uri": "https://localhost:8080/"
        },
        "id": "0rZZXL0tszH4",
        "outputId": "55f10a25-a078-4a8e-e152-509a7bf236f6"
      },
      "execution_count": null,
      "outputs": [
        {
          "output_type": "execute_result",
          "data": {
            "text/plain": [
              "array(['North Indian, South Indian, Mithai, Street Food, Desserts',\n",
              "       'North Indian, Mughlai, Rolls, Chinese, Fast Food, Street Food',\n",
              "       'Fast Food, Mithai', ...,\n",
              "       'Street Food, Biryani, Chinese, Fast Food, North Indian, Mughlai',\n",
              "       'North Indian, Chinese, Mexican, Italian, Thai, Continental',\n",
              "       'North Indian, Lucknowi, Chinese'], dtype=object)"
            ]
          },
          "metadata": {},
          "execution_count": 92
        }
      ]
    },
    {
      "cell_type": "code",
      "source": [
        "data['cuisines']=data['cuisines'].fillna('No cuisine')"
      ],
      "metadata": {
        "id": "ooqPMjvNtN4a"
      },
      "execution_count": null,
      "outputs": []
    },
    {
      "cell_type": "code",
      "source": [
        "data['cuisines'].unique()"
      ],
      "metadata": {
        "colab": {
          "base_uri": "https://localhost:8080/"
        },
        "id": "PMmhqdzrtcel",
        "outputId": "718478dc-1a66-497d-fe3c-086e7dafa623"
      },
      "execution_count": null,
      "outputs": [
        {
          "output_type": "execute_result",
          "data": {
            "text/plain": [
              "array(['North Indian, South Indian, Mithai, Street Food, Desserts',\n",
              "       'North Indian, Mughlai, Rolls, Chinese, Fast Food, Street Food',\n",
              "       'Fast Food, Mithai', ...,\n",
              "       'Street Food, Biryani, Chinese, Fast Food, North Indian, Mughlai',\n",
              "       'North Indian, Chinese, Mexican, Italian, Thai, Continental',\n",
              "       'North Indian, Lucknowi, Chinese'], dtype=object)"
            ]
          },
          "metadata": {},
          "execution_count": 94
        }
      ]
    },
    {
      "cell_type": "code",
      "source": [
        "cuisines=[]\n",
        "data['cuisines'].apply(lambda x: cuisines.extend(x.split(\", \")))\n",
        "cuisines=pd.Series(cuisines)\n",
        "print(\"Total number of unique cuisines = \",cuisines.nunique())"
      ],
      "metadata": {
        "colab": {
          "base_uri": "https://localhost:8080/"
        },
        "id": "n-125TC1tg-Z",
        "outputId": "e5df2274-1b1f-4313-f55b-f0eb755825cc"
      },
      "execution_count": null,
      "outputs": [
        {
          "output_type": "stream",
          "name": "stdout",
          "text": [
            "Total number of unique cuisines =  134\n"
          ]
        }
      ]
    },
    {
      "cell_type": "code",
      "source": [
        "data['timings'].unique()"
      ],
      "metadata": {
        "colab": {
          "base_uri": "https://localhost:8080/"
        },
        "id": "JcNIh10bt7J7",
        "outputId": "b5069fa6-8267-4c14-b1ca-7c65a766f68d"
      },
      "execution_count": null,
      "outputs": [
        {
          "output_type": "execute_result",
          "data": {
            "text/plain": [
              "array(['8:30am – 10:30pm (Mon-Sun)',\n",
              "       '12:30PM to 12Midnight (Mon, Wed, Thu, Fri, Sat, Sun), 1PM to 12Midnight (Tue)',\n",
              "       '9:30 AM to 11 PM', ..., '8am – 2:30pm, 5pm – 10pm (Mon-Sun)',\n",
              "       '8am – 3pm, 6:30pm – 11pm (Mon-Sun)',\n",
              "       '4pm – 11pm (Mon, Tue, Wed, Fri, Sat, Sun), 4pm – 11:30pm (Thu)'],\n",
              "      dtype=object)"
            ]
          },
          "metadata": {},
          "execution_count": 97
        }
      ]
    },
    {
      "cell_type": "code",
      "source": [
        "data['timings'].nunique()"
      ],
      "metadata": {
        "colab": {
          "base_uri": "https://localhost:8080/"
        },
        "id": "KxcvhBJMuNlw",
        "outputId": "7701a927-0728-427b-fbbb-1e4972f3beda"
      },
      "execution_count": null,
      "outputs": [
        {
          "output_type": "execute_result",
          "data": {
            "text/plain": [
              "7740"
            ]
          },
          "metadata": {},
          "execution_count": 99
        }
      ]
    },
    {
      "cell_type": "code",
      "source": [
        "data['average_cost_for_two'].nunique()"
      ],
      "metadata": {
        "colab": {
          "base_uri": "https://localhost:8080/"
        },
        "id": "qh0FuB32uPa1",
        "outputId": "938e2b2a-3357-4e1e-a1e5-5a5ef06a7f70"
      },
      "execution_count": null,
      "outputs": [
        {
          "output_type": "execute_result",
          "data": {
            "text/plain": [
              "145"
            ]
          },
          "metadata": {},
          "execution_count": 100
        }
      ]
    },
    {
      "cell_type": "code",
      "source": [
        "data['price_range'].unique()"
      ],
      "metadata": {
        "colab": {
          "base_uri": "https://localhost:8080/"
        },
        "id": "ygCx0lmZuW1r",
        "outputId": "c4e00abd-33b2-43c1-83f5-9e5ad535b97c"
      },
      "execution_count": null,
      "outputs": [
        {
          "output_type": "execute_result",
          "data": {
            "text/plain": [
              "array([2, 1, 3, 4])"
            ]
          },
          "metadata": {},
          "execution_count": 102
        }
      ]
    },
    {
      "cell_type": "code",
      "source": [
        "data['currency'].unique()"
      ],
      "metadata": {
        "colab": {
          "base_uri": "https://localhost:8080/"
        },
        "id": "JWP9m-OaufPi",
        "outputId": "70e03288-b6e5-411b-9a0f-dc43e65e9835"
      },
      "execution_count": null,
      "outputs": [
        {
          "output_type": "execute_result",
          "data": {
            "text/plain": [
              "array(['Rs.'], dtype=object)"
            ]
          },
          "metadata": {},
          "execution_count": 103
        }
      ]
    },
    {
      "cell_type": "code",
      "source": [
        "data['highlights'].unique()"
      ],
      "metadata": {
        "colab": {
          "base_uri": "https://localhost:8080/"
        },
        "id": "72bG-XZgukfX",
        "outputId": "f1e2bf27-6325-4e8e-d212-9e9e92ad6114"
      },
      "execution_count": null,
      "outputs": [
        {
          "output_type": "execute_result",
          "data": {
            "text/plain": [
              "array([\"['Lunch', 'Takeaway Available', 'Credit Card', 'Dinner', 'Cash', 'Air Conditioned', 'Indoor Seating', 'Pure Veg']\",\n",
              "       \"['Delivery', 'No Alcohol Available', 'Dinner', 'Takeaway Available', 'Lunch', 'Cash', 'Indoor Seating']\",\n",
              "       \"['No Alcohol Available', 'Dinner', 'Takeaway Available', 'Breakfast', 'Lunch', 'Cash', 'Delivery', 'Outdoor Seating', 'Air Conditioned', 'Self Service', 'Indoor Seating', 'Digital Payments Accepted', 'Pure Veg', 'Desserts and Bakes']\",\n",
              "       ...,\n",
              "       \"['Dinner', 'Delivery', 'Cash', 'Takeaway Available', 'Free Parking', 'Digital Payments Accepted', 'Pure Veg', 'Indoor Seating']\",\n",
              "       \"['Dinner', 'Cash', 'Takeaway Available', 'Lunch', 'Delivery', 'Free Parking', 'Indoor Seating', 'Air Conditioned', 'Outdoor Seating', 'Digital Payments Accepted', 'Catering Available', 'Pure Veg']\",\n",
              "       \"['Dinner', 'Cash', 'Takeaway Available', 'Debit Card', 'Delivery', 'Credit Card', 'Free Parking', 'Outdoor Seating']\"],\n",
              "      dtype=object)"
            ]
          },
          "metadata": {},
          "execution_count": 107
        }
      ]
    },
    {
      "cell_type": "code",
      "source": [
        "data['highlights'].nunique()"
      ],
      "metadata": {
        "colab": {
          "base_uri": "https://localhost:8080/"
        },
        "id": "Ha3tdBCtuqiM",
        "outputId": "f5ef0423-a7b2-4b69-a356-29a75ecc369b"
      },
      "execution_count": null,
      "outputs": [
        {
          "output_type": "execute_result",
          "data": {
            "text/plain": [
              "31228"
            ]
          },
          "metadata": {},
          "execution_count": 108
        }
      ]
    },
    {
      "cell_type": "code",
      "source": [
        "hl = []\n",
        "data[\"highlights\"].apply(lambda x : hl.extend(x[2:-2].split(\"', '\")))\n",
        "hl = pd.Series(hl)\n",
        "print(\"Total number of unique highlights = \", hl.nunique())"
      ],
      "metadata": {
        "colab": {
          "base_uri": "https://localhost:8080/"
        },
        "id": "bX4ngdCHu06l",
        "outputId": "db7d8377-586a-4436-d044-f6e42bd2b844"
      },
      "execution_count": null,
      "outputs": [
        {
          "output_type": "stream",
          "name": "stdout",
          "text": [
            "Total number of unique highlights =  104\n"
          ]
        }
      ]
    },
    {
      "cell_type": "code",
      "source": [
        "data[['aggregate_rating','votes','photo_count']].describe().loc[['mean','min','max']]"
      ],
      "metadata": {
        "colab": {
          "base_uri": "https://localhost:8080/",
          "height": 143
        },
        "id": "rfZ8p9AAzJcr",
        "outputId": "1aea00ed-27ae-4a27-e649-b9d85e8bcb37"
      },
      "execution_count": null,
      "outputs": [
        {
          "output_type": "execute_result",
          "data": {
            "text/plain": [
              "      aggregate_rating         votes  photo_count\n",
              "mean          2.958593    223.330352    160.97477\n",
              "min           0.000000    -18.000000      0.00000\n",
              "max           4.900000  42539.000000  17702.00000"
            ],
            "text/html": [
              "\n",
              "  <div id=\"df-94721e9f-6878-466d-b992-f26106a42bf0\">\n",
              "    <div class=\"colab-df-container\">\n",
              "      <div>\n",
              "<style scoped>\n",
              "    .dataframe tbody tr th:only-of-type {\n",
              "        vertical-align: middle;\n",
              "    }\n",
              "\n",
              "    .dataframe tbody tr th {\n",
              "        vertical-align: top;\n",
              "    }\n",
              "\n",
              "    .dataframe thead th {\n",
              "        text-align: right;\n",
              "    }\n",
              "</style>\n",
              "<table border=\"1\" class=\"dataframe\">\n",
              "  <thead>\n",
              "    <tr style=\"text-align: right;\">\n",
              "      <th></th>\n",
              "      <th>aggregate_rating</th>\n",
              "      <th>votes</th>\n",
              "      <th>photo_count</th>\n",
              "    </tr>\n",
              "  </thead>\n",
              "  <tbody>\n",
              "    <tr>\n",
              "      <th>mean</th>\n",
              "      <td>2.958593</td>\n",
              "      <td>223.330352</td>\n",
              "      <td>160.97477</td>\n",
              "    </tr>\n",
              "    <tr>\n",
              "      <th>min</th>\n",
              "      <td>0.000000</td>\n",
              "      <td>-18.000000</td>\n",
              "      <td>0.00000</td>\n",
              "    </tr>\n",
              "    <tr>\n",
              "      <th>max</th>\n",
              "      <td>4.900000</td>\n",
              "      <td>42539.000000</td>\n",
              "      <td>17702.00000</td>\n",
              "    </tr>\n",
              "  </tbody>\n",
              "</table>\n",
              "</div>\n",
              "      <button class=\"colab-df-convert\" onclick=\"convertToInteractive('df-94721e9f-6878-466d-b992-f26106a42bf0')\"\n",
              "              title=\"Convert this dataframe to an interactive table.\"\n",
              "              style=\"display:none;\">\n",
              "        \n",
              "  <svg xmlns=\"http://www.w3.org/2000/svg\" height=\"24px\"viewBox=\"0 0 24 24\"\n",
              "       width=\"24px\">\n",
              "    <path d=\"M0 0h24v24H0V0z\" fill=\"none\"/>\n",
              "    <path d=\"M18.56 5.44l.94 2.06.94-2.06 2.06-.94-2.06-.94-.94-2.06-.94 2.06-2.06.94zm-11 1L8.5 8.5l.94-2.06 2.06-.94-2.06-.94L8.5 2.5l-.94 2.06-2.06.94zm10 10l.94 2.06.94-2.06 2.06-.94-2.06-.94-.94-2.06-.94 2.06-2.06.94z\"/><path d=\"M17.41 7.96l-1.37-1.37c-.4-.4-.92-.59-1.43-.59-.52 0-1.04.2-1.43.59L10.3 9.45l-7.72 7.72c-.78.78-.78 2.05 0 2.83L4 21.41c.39.39.9.59 1.41.59.51 0 1.02-.2 1.41-.59l7.78-7.78 2.81-2.81c.8-.78.8-2.07 0-2.86zM5.41 20L4 18.59l7.72-7.72 1.47 1.35L5.41 20z\"/>\n",
              "  </svg>\n",
              "      </button>\n",
              "      \n",
              "  <style>\n",
              "    .colab-df-container {\n",
              "      display:flex;\n",
              "      flex-wrap:wrap;\n",
              "      gap: 12px;\n",
              "    }\n",
              "\n",
              "    .colab-df-convert {\n",
              "      background-color: #E8F0FE;\n",
              "      border: none;\n",
              "      border-radius: 50%;\n",
              "      cursor: pointer;\n",
              "      display: none;\n",
              "      fill: #1967D2;\n",
              "      height: 32px;\n",
              "      padding: 0 0 0 0;\n",
              "      width: 32px;\n",
              "    }\n",
              "\n",
              "    .colab-df-convert:hover {\n",
              "      background-color: #E2EBFA;\n",
              "      box-shadow: 0px 1px 2px rgba(60, 64, 67, 0.3), 0px 1px 3px 1px rgba(60, 64, 67, 0.15);\n",
              "      fill: #174EA6;\n",
              "    }\n",
              "\n",
              "    [theme=dark] .colab-df-convert {\n",
              "      background-color: #3B4455;\n",
              "      fill: #D2E3FC;\n",
              "    }\n",
              "\n",
              "    [theme=dark] .colab-df-convert:hover {\n",
              "      background-color: #434B5C;\n",
              "      box-shadow: 0px 1px 3px 1px rgba(0, 0, 0, 0.15);\n",
              "      filter: drop-shadow(0px 1px 2px rgba(0, 0, 0, 0.3));\n",
              "      fill: #FFFFFF;\n",
              "    }\n",
              "  </style>\n",
              "\n",
              "      <script>\n",
              "        const buttonEl =\n",
              "          document.querySelector('#df-94721e9f-6878-466d-b992-f26106a42bf0 button.colab-df-convert');\n",
              "        buttonEl.style.display =\n",
              "          google.colab.kernel.accessAllowed ? 'block' : 'none';\n",
              "\n",
              "        async function convertToInteractive(key) {\n",
              "          const element = document.querySelector('#df-94721e9f-6878-466d-b992-f26106a42bf0');\n",
              "          const dataTable =\n",
              "            await google.colab.kernel.invokeFunction('convertToInteractive',\n",
              "                                                     [key], {});\n",
              "          if (!dataTable) return;\n",
              "\n",
              "          const docLinkHtml = 'Like what you see? Visit the ' +\n",
              "            '<a target=\"_blank\" href=https://colab.research.google.com/notebooks/data_table.ipynb>data table notebook</a>'\n",
              "            + ' to learn more about interactive tables.';\n",
              "          element.innerHTML = '';\n",
              "          dataTable['output_type'] = 'display_data';\n",
              "          await google.colab.output.renderOutput(dataTable, element);\n",
              "          const docLink = document.createElement('div');\n",
              "          docLink.innerHTML = docLinkHtml;\n",
              "          element.appendChild(docLink);\n",
              "        }\n",
              "      </script>\n",
              "    </div>\n",
              "  </div>\n",
              "  "
            ]
          },
          "metadata": {},
          "execution_count": 111
        }
      ]
    },
    {
      "cell_type": "code",
      "source": [
        "data[\"opentable_support\"].unique()"
      ],
      "metadata": {
        "colab": {
          "base_uri": "https://localhost:8080/"
        },
        "id": "7Pi-5Y7WzuiW",
        "outputId": "075f4c09-23b3-434a-f8ab-461411592146"
      },
      "execution_count": null,
      "outputs": [
        {
          "output_type": "execute_result",
          "data": {
            "text/plain": [
              "array([ 0., nan])"
            ]
          },
          "metadata": {},
          "execution_count": 112
        }
      ]
    },
    {
      "cell_type": "code",
      "source": [
        "data[\"delivery\"].unique()"
      ],
      "metadata": {
        "colab": {
          "base_uri": "https://localhost:8080/"
        },
        "id": "-pnuLOz90UqY",
        "outputId": "0e767be0-46da-44e1-b0cd-3f6592858995"
      },
      "execution_count": null,
      "outputs": [
        {
          "output_type": "execute_result",
          "data": {
            "text/plain": [
              "array([-1,  1,  0])"
            ]
          },
          "metadata": {},
          "execution_count": 113
        }
      ]
    },
    {
      "cell_type": "code",
      "source": [
        "data[\"takeaway\"].unique()"
      ],
      "metadata": {
        "colab": {
          "base_uri": "https://localhost:8080/"
        },
        "id": "ouxh-GYj0bBi",
        "outputId": "90e4a2a3-bee7-4057-c070-74413d22a95d"
      },
      "execution_count": null,
      "outputs": [
        {
          "output_type": "execute_result",
          "data": {
            "text/plain": [
              "array([-1])"
            ]
          },
          "metadata": {},
          "execution_count": 114
        }
      ]
    },
    {
      "cell_type": "code",
      "source": [
        "outlets = data[\"name\"].value_counts()"
      ],
      "metadata": {
        "id": "6_FcJSMi0dfj"
      },
      "execution_count": null,
      "outputs": []
    },
    {
      "cell_type": "code",
      "source": [
        "outlets"
      ],
      "metadata": {
        "colab": {
          "base_uri": "https://localhost:8080/"
        },
        "id": "arAs21cr04FF",
        "outputId": "4493bec5-27e9-4f5d-a450-f658ab9efc93"
      },
      "execution_count": null,
      "outputs": [
        {
          "output_type": "execute_result",
          "data": {
            "text/plain": [
              "Domino's Pizza                           399\n",
              "Cafe Coffee Day                          315\n",
              "KFC                                      204\n",
              "Baskin Robbins                           202\n",
              "Keventers                                189\n",
              "                                        ... \n",
              "Boulevard 69                               1\n",
              "7-Eleven Restaurant                        1\n",
              "Food station                               1\n",
              "Silver Saloon - Taj Usha Kiran Palace      1\n",
              "Geeta lodge                                1\n",
              "Name: name, Length: 41100, dtype: int64"
            ]
          },
          "metadata": {},
          "execution_count": 116
        }
      ]
    },
    {
      "cell_type": "code",
      "source": [
        "chains = outlets[outlets >= 2]\n",
        "single = outlets[outlets == 1]"
      ],
      "metadata": {
        "id": "kPDCd7nz057z"
      },
      "execution_count": null,
      "outputs": []
    },
    {
      "cell_type": "code",
      "source": [
        "data.shape"
      ],
      "metadata": {
        "colab": {
          "base_uri": "https://localhost:8080/"
        },
        "id": "zlDFo-sl1GNJ",
        "outputId": "3bd7531e-bb08-4411-e1f5-b42909b16e11"
      },
      "execution_count": null,
      "outputs": [
        {
          "output_type": "execute_result",
          "data": {
            "text/plain": [
              "(55568, 26)"
            ]
          },
          "metadata": {},
          "execution_count": 118
        }
      ]
    },
    {
      "cell_type": "code",
      "source": [
        "chains"
      ],
      "metadata": {
        "colab": {
          "base_uri": "https://localhost:8080/"
        },
        "id": "0EsrnGf41H69",
        "outputId": "101760a6-12d5-4a31-a918-38f337affe0f"
      },
      "execution_count": null,
      "outputs": [
        {
          "output_type": "execute_result",
          "data": {
            "text/plain": [
              "Domino's Pizza              399\n",
              "Cafe Coffee Day             315\n",
              "KFC                         204\n",
              "Baskin Robbins              202\n",
              "Keventers                   189\n",
              "                           ... \n",
              "Santoor Restaurant            2\n",
              "The Ice House                 2\n",
              "Zaatar Arabic Restaurant      2\n",
              "Ashok & Ashok Meat Dhaba      2\n",
              "Hotel Tara                    2\n",
              "Name: name, Length: 4890, dtype: int64"
            ]
          },
          "metadata": {},
          "execution_count": 119
        }
      ]
    },
    {
      "cell_type": "code",
      "source": [
        "print(\"Total Restaurants = \", data.shape[0])\n",
        "print(\"Total Restaurants that are part of some chain = \", data.shape[0] - single.shape[0])\n",
        "print(\"Percentage of Restaurants that are part of a chain = \", np.round((data.shape[0] - single.shape[0]) / data.shape[0],2)*100, \"%\")"
      ],
      "metadata": {
        "colab": {
          "base_uri": "https://localhost:8080/"
        },
        "id": "YhhkpbEB1J9b",
        "outputId": "22e8a7e4-7b1b-41af-ff9d-af77f0510091"
      },
      "execution_count": null,
      "outputs": [
        {
          "output_type": "stream",
          "name": "stdout",
          "text": [
            "Total Restaurants =  55568\n",
            "Total Restaurants that are part of some chain =  19358\n",
            "Percentage of Restaurants that are part of a chain =  35.0 %\n"
          ]
        }
      ]
    },
    {
      "cell_type": "code",
      "source": [
        "chains.head(10)"
      ],
      "metadata": {
        "colab": {
          "base_uri": "https://localhost:8080/"
        },
        "id": "ZNARaSEL1POA",
        "outputId": "9b851b0a-e8f5-4c04-8937-1f1a9e2e1da5"
      },
      "execution_count": null,
      "outputs": [
        {
          "output_type": "execute_result",
          "data": {
            "text/plain": [
              "Domino's Pizza     399\n",
              "Cafe Coffee Day    315\n",
              "KFC                204\n",
              "Baskin Robbins     202\n",
              "Keventers          189\n",
              "Subway             178\n",
              "McDonald's         130\n",
              "Pizza Hut          125\n",
              "Barbeque Nation    112\n",
              "Burger King        110\n",
              "Name: name, dtype: int64"
            ]
          },
          "metadata": {},
          "execution_count": 121
        }
      ]
    },
    {
      "cell_type": "code",
      "source": [
        "top10_chains = data[\"name\"].value_counts()[:10].sort_values(ascending=True)"
      ],
      "metadata": {
        "id": "ruEPqzTr1giF"
      },
      "execution_count": null,
      "outputs": []
    },
    {
      "cell_type": "code",
      "source": [
        "height = top10_chains.values\n",
        "bars = top10_chains.index\n",
        "y_pos = np.arange(len(bars))\n",
        "\n",
        "fig = plt.figure(figsize=[11,7], frameon=False)\n",
        "ax = fig.gca()\n",
        "ax.spines[\"top\"].set_visible(\"#424242\")\n",
        "ax.spines[\"right\"].set_visible(False)\n",
        "ax.spines[\"left\"].set_color(\"#424242\")\n",
        "ax.spines[\"bottom\"].set_color(\"#424242\")\n",
        "\n",
        "#colors = [\"green\",\"blue\",\"magenta\",\"cyan\",\"gray\",\"yellow\",\"purple\",\"violet\",\"orange\",\"red\",\"maroon\"]\n",
        "#random.shuffle(colors)\n",
        "colors = [\"#f9cdac\",\"#f2a49f\",\"#ec7c92\",\"#e65586\",\"#bc438b\",\"#933291\",\"#692398\",\"#551c7b\",\"#41155e\",\"#2d0f41\"]\n",
        "plt.barh(y_pos, height, color=colors)\n",
        "\n",
        "plt.xticks(color=\"#424242\")\n",
        "\n",
        "plt.yticks(y_pos, bars, color=\"#424242\")\n",
        "plt.xlabel(\"Number of outlets in India\")\n",
        "\n",
        "for i, v in enumerate(height):\n",
        "    ax.text(v+3, i, str(v), color='#424242')\n",
        "plt.title(\"Top 10 Restaurant chain in India (by number of outlets)\")\n",
        "\n",
        "\n",
        "plt.show()"
      ],
      "metadata": {
        "colab": {
          "base_uri": "https://localhost:8080/",
          "height": 641
        },
        "id": "qqbPkTLk1nFT",
        "outputId": "7b29579f-6cae-4fd5-816a-c35f0ab7d904"
      },
      "execution_count": null,
      "outputs": [
        {
          "output_type": "display_data",
          "data": {
            "text/plain": [
              "<Figure size 1100x700 with 1 Axes>"
            ],
            "image/png": "[encoded data removed]"
          },
          "metadata": {}
        }
      ]
    },
    {
      "cell_type": "code",
      "source": [
        "outlets = data[\"name\"].value_counts()"
      ],
      "metadata": {
        "id": "3SoWEOmN1vfL"
      },
      "execution_count": null,
      "outputs": []
    },
    {
      "cell_type": "code",
      "source": [
        "atleast_5_outlets = outlets[outlets > 4]"
      ],
      "metadata": {
        "id": "InUVZR7o2jHw"
      },
      "execution_count": null,
      "outputs": []
    },
    {
      "cell_type": "code",
      "source": [
        "top10_chains2 = data[data[\"name\"].isin(atleast_5_outlets.index)].groupby(\"name\").mean()[\"aggregate_rating\"].sort_values(ascending=False)[:10].sort_values(ascending=True)"
      ],
      "metadata": {
        "colab": {
          "base_uri": "https://localhost:8080/"
        },
        "id": "66bpcRtU2kfL",
        "outputId": "4f10cf3d-d553-44e2-eae4-beb65da40943"
      },
      "execution_count": null,
      "outputs": [
        {
          "output_type": "stream",
          "name": "stderr",
          "text": [
            "<ipython-input-126-016da1725982>:1: FutureWarning: The default value of numeric_only in DataFrameGroupBy.mean is deprecated. In a future version, numeric_only will default to False. Either specify numeric_only or select only columns which should be valid for the function.\n",
            "  top10_chains2 = data[data[\"name\"].isin(atleast_5_outlets.index)].groupby(\"name\").mean()[\"aggregate_rating\"].sort_values(ascending=False)[:10].sort_values(ascending=True)\n"
          ]
        }
      ]
    },
    {
      "cell_type": "code",
      "source": [
        "height = pd.Series(top10_chains2.values).map(lambda x : np.round(x, 2))\n",
        "bars = top10_chains2.index\n",
        "y_pos = np.arange(len(bars))\n",
        "\n",
        "fig = plt.figure(figsize=[11,7], frameon=False)\n",
        "ax = fig.gca()\n",
        "ax.spines[\"top\"].set_visible(\"#424242\")\n",
        "ax.spines[\"right\"].set_visible(False)\n",
        "ax.spines[\"left\"].set_color(\"#424242\")\n",
        "ax.spines[\"bottom\"].set_color(\"#424242\")\n",
        "\n",
        "#colors = [\"green\",\"blue\",\"magenta\",\"cyan\",\"gray\",\"yellow\",\"purple\",\"violet\",\"orange\",\"red\",\"maroon\"]\n",
        "#random.shuffle(colors)\n",
        "colors = ['#fded86', '#fce36b', '#f7c65d', '#f1a84f', '#ec8c41', '#e76f34', '#e25328', '#b04829', '#7e3e2b', '#4c3430']\n",
        "plt.barh(y_pos, height, color=colors)\n",
        "\n",
        "plt.xlim(3)\n",
        "plt.xticks(color=\"#424242\")\n",
        "plt.yticks(y_pos, bars, color=\"#424242\")\n",
        "plt.xlabel(\"Number of outlets in India\")\n",
        "\n",
        "for i, v in enumerate(height):\n",
        "  ax.text(v + 0.01, i, str(v), color='#424242')\n",
        "plt.title(\"Top 10 Restaurant chain in India (by average Rating)\")\n",
        "\n",
        "\n",
        "plt.show()"
      ],
      "metadata": {
        "colab": {
          "base_uri": "https://localhost:8080/",
          "height": 641
        },
        "id": "At93vZNH2o24",
        "outputId": "895e2bed-d546-4fe8-eed9-407672c9829d"
      },
      "execution_count": null,
      "outputs": [
        {
          "output_type": "display_data",
          "data": {
            "text/plain": [
              "<Figure size 1100x700 with 1 Axes>"
            ],
            "image/png": "[encoded data removed]"
          },
          "metadata": {}
        }
      ]
    },
    {
      "cell_type": "code",
      "source": [
        "est_count = data.groupby(\"establishment\").count()[\"res_id\"].sort_values(ascending=False)[:5]\n",
        "\n",
        "fig = plt.figure(figsize=[8,5], frameon=False)\n",
        "ax = fig.gca()\n",
        "ax.spines[\"top\"].set_visible(False)\n",
        "ax.spines[\"right\"].set_visible(False)\n",
        "ax.spines[\"left\"].set_color(\"#424242\")\n",
        "ax.spines[\"bottom\"].set_color(\"#424242\")\n",
        "\n",
        "#colors = [\"green\",\"blue\",\"magenta\",\"cyan\",\"gray\",\"yellow\",\"purple\",\"violet\",\"orange\",\"red\",\"maroon\"]\n",
        "#random.shuffle(colors)\n",
        "colors = [\"#2d0f41\",'#933291',\"#e65586\",\"#f2a49f\",\"#f9cdac\"]\n",
        "plt.bar(est_count.index, est_count.values, color=colors)\n",
        "\n",
        "plt.xticks(range(0, 6), color=\"#424242\")\n",
        "plt.yticks(range(0, 25000, 5000), color=\"#424242\")\n",
        "plt.xlabel(\"Top 5 establishment types\")\n",
        "\n",
        "for i, v in enumerate(est_count):\n",
        "    ax.text(i-0.2, v+500, str(v), color='#424242')\n",
        "plt.title(\"Number of restaurants (by establishment type)\")\n",
        "\n",
        "\n",
        "plt.show()\n"
      ],
      "metadata": {
        "colab": {
          "base_uri": "https://localhost:8080/",
          "height": 487
        },
        "id": "aU1VgiCr2t17",
        "outputId": "e8ed3b19-651c-4d4b-e17e-b4f6d787e143"
      },
      "execution_count": null,
      "outputs": [
        {
          "output_type": "display_data",
          "data": {
            "text/plain": [
              "<Figure size 800x500 with 1 Axes>"
            ],
            "image/png": "[encoded data removed]"
          },
          "metadata": {}
        }
      ]
    },
    {
      "cell_type": "code",
      "source": [
        "rating_by_est = data.groupby(\"establishment\").mean()[\"aggregate_rating\"].sort_values(ascending=False)[:10]\n",
        "rating_by_est"
      ],
      "metadata": {
        "colab": {
          "base_uri": "https://localhost:8080/"
        },
        "id": "gglmA8Vj2xmd",
        "outputId": "d20d5ab3-19a2-4d44-ce36-70b3ac9fc5e3"
      },
      "execution_count": null,
      "outputs": [
        {
          "output_type": "stream",
          "name": "stderr",
          "text": [
            "<ipython-input-129-b366fe753645>:1: FutureWarning: The default value of numeric_only in DataFrameGroupBy.mean is deprecated. In a future version, numeric_only will default to False. Either specify numeric_only or select only columns which should be valid for the function.\n",
            "  rating_by_est = data.groupby(\"establishment\").mean()[\"aggregate_rating\"].sort_values(ascending=False)[:10]\n"
          ]
        },
        {
          "output_type": "execute_result",
          "data": {
            "text/plain": [
              "establishment\n",
              "Microbrewery     4.268182\n",
              "Pub              3.758263\n",
              "Cocktail Bar     3.531250\n",
              "Fine Dining      3.436547\n",
              "Lounge           3.436463\n",
              "Club             3.378571\n",
              "Irani Cafe       3.321429\n",
              "Casual Dining    3.238680\n",
              "Café             3.212345\n",
              "Butcher Shop     3.110390\n",
              "Name: aggregate_rating, dtype: float64"
            ]
          },
          "metadata": {},
          "execution_count": 129
        }
      ]
    },
    {
      "cell_type": "code",
      "source": [
        "# To check the number of outlets in each of the above establishment type, uncomment to following code\n",
        "\n",
        "#est_count = data.groupby(\"establishment\").count()[\"name\"].sort_values(ascending=False)\n",
        "#rating_by_est_map = est_count.index.isin(rating_by_est.index)\n",
        "#est_count = est_count[rating_by_est_map][rating_by_est.index]\n",
        "#est_count"
      ],
      "metadata": {
        "id": "WPOSejyj2zuY"
      },
      "execution_count": null,
      "outputs": []
    },
    {
      "cell_type": "code",
      "source": [
        "data.groupby(\"establishment\").mean()[\"votes\"].sort_values(ascending=False)[:10]"
      ],
      "metadata": {
        "colab": {
          "base_uri": "https://localhost:8080/"
        },
        "id": "IvPZhKRf22IV",
        "outputId": "c025d6ff-69d6-435a-cf06-447d2bb6b493"
      },
      "execution_count": null,
      "outputs": [
        {
          "output_type": "stream",
          "name": "stderr",
          "text": [
            "<ipython-input-131-ca49ccfa1c15>:1: FutureWarning: The default value of numeric_only in DataFrameGroupBy.mean is deprecated. In a future version, numeric_only will default to False. Either specify numeric_only or select only columns which should be valid for the function.\n",
            "  data.groupby(\"establishment\").mean()[\"votes\"].sort_values(ascending=False)[:10]\n"
          ]
        },
        {
          "output_type": "execute_result",
          "data": {
            "text/plain": [
              "establishment\n",
              "Microbrewery     1992.300000\n",
              "Pub               880.274510\n",
              "Bar               500.613295\n",
              "Lounge            494.509756\n",
              "Casual Dining     396.339935\n",
              "Cocktail Bar      309.625000\n",
              "Club              300.544643\n",
              "Fine Dining       293.126384\n",
              "Café              276.558574\n",
              "Irani Cafe        178.714286\n",
              "Name: votes, dtype: float64"
            ]
          },
          "metadata": {},
          "execution_count": 131
        }
      ]
    },
    {
      "cell_type": "code",
      "source": [
        "data.groupby(\"establishment\").mean()[\"photo_count\"].sort_values(ascending=False)[:10]"
      ],
      "metadata": {
        "colab": {
          "base_uri": "https://localhost:8080/"
        },
        "id": "QUPfJFlW2352",
        "outputId": "3251d360-71d2-476c-f21c-d95b529e4c7e"
      },
      "execution_count": null,
      "outputs": [
        {
          "output_type": "stream",
          "name": "stderr",
          "text": [
            "<ipython-input-132-16d67b36e595>:1: FutureWarning: The default value of numeric_only in DataFrameGroupBy.mean is deprecated. In a future version, numeric_only will default to False. Either specify numeric_only or select only columns which should be valid for the function.\n",
            "  data.groupby(\"establishment\").mean()[\"photo_count\"].sort_values(ascending=False)[:10]\n"
          ]
        },
        {
          "output_type": "execute_result",
          "data": {
            "text/plain": [
              "establishment\n",
              "Microbrewery     2042.054545\n",
              "Pub               652.955182\n",
              "Cocktail Bar      555.625000\n",
              "Lounge            514.687805\n",
              "Bar               513.321658\n",
              "Fine Dining       364.817590\n",
              "Café              331.935969\n",
              "Casual Dining     291.550448\n",
              "Irani Cafe        173.000000\n",
              "Club              107.089286\n",
              "Name: photo_count, dtype: float64"
            ]
          },
          "metadata": {},
          "execution_count": 132
        }
      ]
    },
    {
      "cell_type": "code",
      "source": [
        "city_counts = data.groupby(\"city\").count()[\"res_id\"].sort_values(ascending=True)[-10:]\n",
        "\n",
        "height = pd.Series(city_counts.values)\n",
        "bars = city_counts.index\n",
        "y_pos = np.arange(len(bars))\n",
        "\n",
        "fig = plt.figure(figsize=[11,7], frameon=False)\n",
        "ax = fig.gca()\n",
        "ax.spines[\"top\"].set_visible(\"#424242\")\n",
        "ax.spines[\"right\"].set_visible(False)\n",
        "ax.spines[\"left\"].set_color(\"#424242\")\n",
        "ax.spines[\"bottom\"].set_color(\"#424242\")\n",
        "\n",
        "#colors = [\"green\",\"blue\",\"magenta\",\"cyan\",\"gray\",\"yellow\",\"purple\",\"violet\",\"orange\",\"red\",\"maroon\"]\n",
        "#random.shuffle(colors)\n",
        "colors = ['#dcecc9', '#aadacc', '#78c6d0', '#48b3d3', '#3e94c0', '#3474ac', '#2a5599', '#203686', '#18216b', '#11174b']\n",
        "plt.barh(y_pos, height, color=colors)\n",
        "\n",
        "plt.xlim(3)\n",
        "plt.xticks(color=\"#424242\")\n",
        "plt.yticks(y_pos, bars, color=\"#424242\")\n",
        "plt.xlabel(\"Number of outlets\")\n",
        "\n",
        "for i, v in enumerate(height):\n",
        "    ax.text(v + 20, i, str(v), color='#424242')\n",
        "plt.title(\"Number of restaurants (by city)\")\n",
        "\n",
        "\n",
        "plt.show()\n"
      ],
      "metadata": {
        "colab": {
          "base_uri": "https://localhost:8080/",
          "height": 641
        },
        "id": "Wm0QxrMO26Pm",
        "outputId": "19d6b71e-5a33-4241-f021-99093fc3f213"
      },
      "execution_count": null,
      "outputs": [
        {
          "output_type": "display_data",
          "data": {
            "text/plain": [
              "<Figure size 1100x700 with 1 Axes>"
            ],
            "image/png": "[encoded data removed]"
          },
          "metadata": {}
        }
      ]
    },
    {
      "cell_type": "code",
      "source": [
        "rating_by_city = data.groupby(\"city\").mean()[\"aggregate_rating\"].sort_values(ascending=False)[:10]\n",
        "rating_by_city"
      ],
      "metadata": {
        "colab": {
          "base_uri": "https://localhost:8080/"
        },
        "id": "IxnLizdP3IyJ",
        "outputId": "89d62412-7de8-4e21-e273-39197d6eec74"
      },
      "execution_count": null,
      "outputs": [
        {
          "output_type": "stream",
          "name": "stderr",
          "text": [
            "<ipython-input-134-395813265c49>:1: FutureWarning: The default value of numeric_only in DataFrameGroupBy.mean is deprecated. In a future version, numeric_only will default to False. Either specify numeric_only or select only columns which should be valid for the function.\n",
            "  rating_by_city = data.groupby(\"city\").mean()[\"aggregate_rating\"].sort_values(ascending=False)[:10]\n"
          ]
        },
        {
          "output_type": "execute_result",
          "data": {
            "text/plain": [
              "city\n",
              "Gurgaon         3.828525\n",
              "Secunderabad    3.822222\n",
              "Hyderabad       3.755839\n",
              "Kolkata         3.751947\n",
              "New Delhi       3.727347\n",
              "Mumbai          3.709298\n",
              "Bangalore       3.698175\n",
              "Noida           3.620307\n",
              "Chennai         3.597701\n",
              "Pune            3.509224\n",
              "Name: aggregate_rating, dtype: float64"
            ]
          },
          "metadata": {},
          "execution_count": 134
        }
      ]
    },
    {
      "cell_type": "code",
      "source": [
        "data.groupby(\"city\").mean()[\"votes\"].sort_values(ascending=False)[:10]"
      ],
      "metadata": {
        "colab": {
          "base_uri": "https://localhost:8080/"
        },
        "id": "L_Wba4cF3KuX",
        "outputId": "2511bbe0-2444-4340-db09-a6b6c7b3c2d8"
      },
      "execution_count": null,
      "outputs": [
        {
          "output_type": "stream",
          "name": "stderr",
          "text": [
            "<ipython-input-135-ec2a7c3831fc>:1: FutureWarning: The default value of numeric_only in DataFrameGroupBy.mean is deprecated. In a future version, numeric_only will default to False. Either specify numeric_only or select only columns which should be valid for the function.\n",
            "  data.groupby(\"city\").mean()[\"votes\"].sort_values(ascending=False)[:10]\n"
          ]
        },
        {
          "output_type": "execute_result",
          "data": {
            "text/plain": [
              "city\n",
              "Hyderabad       955.549878\n",
              "Secunderabad    955.433333\n",
              "Mumbai          797.158259\n",
              "Bangalore       724.940365\n",
              "New Delhi       711.116197\n",
              "Kolkata         615.706833\n",
              "Gurgaon         613.180328\n",
              "Noida           515.570881\n",
              "Pune            475.715681\n",
              "Navi Mumbai     443.342995\n",
              "Name: votes, dtype: float64"
            ]
          },
          "metadata": {},
          "execution_count": 135
        }
      ]
    },
    {
      "cell_type": "code",
      "source": [
        "data.groupby(\"city\").mean()[\"photo_count\"].sort_values(ascending=False)[:10]"
      ],
      "metadata": {
        "colab": {
          "base_uri": "https://localhost:8080/"
        },
        "id": "8waX73W-3OXZ",
        "outputId": "ec9e3c02-bf92-4afb-95da-34068d1ceed2"
      },
      "execution_count": null,
      "outputs": [
        {
          "output_type": "stream",
          "name": "stderr",
          "text": [
            "<ipython-input-136-ba998bdd8cf7>:1: FutureWarning: The default value of numeric_only in DataFrameGroupBy.mean is deprecated. In a future version, numeric_only will default to False. Either specify numeric_only or select only columns which should be valid for the function.\n",
            "  data.groupby(\"city\").mean()[\"photo_count\"].sort_values(ascending=False)[:10]\n"
          ]
        },
        {
          "output_type": "execute_result",
          "data": {
            "text/plain": [
              "city\n",
              "Mumbai         882.273492\n",
              "New Delhi      764.258216\n",
              "Gurgaon        678.491803\n",
              "Kolkata        667.558413\n",
              "Navi Mumbai    547.323671\n",
              "Thane          514.963855\n",
              "Noida          492.291188\n",
              "Bangalore      462.287939\n",
              "Hyderabad      377.274939\n",
              "Pune           333.320130\n",
              "Name: photo_count, dtype: float64"
            ]
          },
          "metadata": {},
          "execution_count": 136
        }
      ]
    },
    {
      "cell_type": "code",
      "source": [
        "print(\"Total number of unique cuisines = \", cuisines.nunique())"
      ],
      "metadata": {
        "colab": {
          "base_uri": "https://localhost:8080/"
        },
        "id": "Pn53VFGa3QZh",
        "outputId": "b88fee35-3c10-4579-c726-eefe530088c0"
      },
      "execution_count": null,
      "outputs": [
        {
          "output_type": "stream",
          "name": "stdout",
          "text": [
            "Total number of unique cuisines =  134\n"
          ]
        }
      ]
    },
    {
      "cell_type": "code",
      "source": [
        "c_count = cuisines.value_counts()[:5]\n",
        "\n",
        "fig = plt.figure(figsize=[8,5], frameon=False)\n",
        "ax = fig.gca()\n",
        "ax.spines[\"top\"].set_visible(False)\n",
        "ax.spines[\"right\"].set_visible(False)\n",
        "ax.spines[\"left\"].set_color(\"#424242\")\n",
        "ax.spines[\"bottom\"].set_color(\"#424242\")\n",
        "\n",
        "#colors = [\"green\",\"blue\",\"magenta\",\"cyan\",\"gray\",\"yellow\",\"purple\",\"violet\",\"orange\",\"red\",\"maroon\"]\n",
        "#random.shuffle(colors)\n",
        "colors = ['#4c3430', '#b04829', '#ec8c41', '#f7c65d','#fded86']\n",
        "plt.bar(c_count.index, c_count.values, color=colors)\n",
        "\n",
        "plt.xticks(range(0, 6), color=\"#424242\")\n",
        "plt.yticks(range(0, 30000, 5000), color=\"#424242\")\n",
        "plt.xlabel(\"Top 5 cuisines\")\n",
        "\n",
        "for i, v in enumerate(c_count):\n",
        "    ax.text(i-0.2, v+500, str(v), color='#424242')\n",
        "plt.title(\"Number of restaurants (by cuisine type)\")\n",
        "plt.show()"
      ],
      "metadata": {
        "colab": {
          "base_uri": "https://localhost:8080/",
          "height": 487
        },
        "id": "53SDcX0t3SP3",
        "outputId": "d2f00fdc-df20-419f-f50c-de758b349e54"
      },
      "execution_count": null,
      "outputs": [
        {
          "output_type": "display_data",
          "data": {
            "text/plain": [
              "<Figure size 800x500 with 1 Axes>"
            ],
            "image/png": "[encoded data removed]"
          },
          "metadata": {}
        }
      ]
    },
    {
      "cell_type": "code",
      "source": [
        "data[\"cuisines2\"] = data['cuisines'].apply(lambda x : x.split(\", \"))\n",
        "\n",
        "cuisines_list = cuisines.unique().tolist()\n",
        "zeros = np.zeros(shape=(len(cuisines_list),2))\n",
        "c_and_r = pd.DataFrame(zeros, index=cuisines_list, columns=[\"Sum\",\"Total\"])\n",
        "\n",
        "for i, x in data.iterrows():\n",
        "    for j in x[\"cuisines2\"]:\n",
        "        c_and_r.loc[j][\"Sum\"] += x[\"aggregate_rating\"]\n",
        "        c_and_r.loc[j][\"Total\"] += 1\n",
        "c_and_r[\"Mean\"] = c_and_r[\"Sum\"] / c_and_r[\"Total\"]\n",
        "c_and_r"
      ],
      "metadata": {
        "colab": {
          "base_uri": "https://localhost:8080/",
          "height": 423
        },
        "id": "JlGijrAM3VdF",
        "outputId": "e813a936-3f37-4765-bf34-13981c43c154"
      },
      "execution_count": null,
      "outputs": [
        {
          "output_type": "execute_result",
          "data": {
            "text/plain": [
              "                  Sum    Total      Mean\n",
              "North Indian  60055.2  19226.0  3.123645\n",
              "South Indian  18635.3   6381.0  2.920436\n",
              "Mithai         8545.7   3144.0  2.718098\n",
              "Street Food   10794.6   3715.0  2.905680\n",
              "Desserts      22723.9   7064.0  3.216860\n",
              "...               ...      ...       ...\n",
              "Swedish           3.6      1.0  3.600000\n",
              "Cake              6.4      2.0  3.200000\n",
              "Garhwali          3.3      2.0  1.650000\n",
              "Vegan             3.5      1.0  3.500000\n",
              "Afghani           3.4      3.0  1.133333\n",
              "\n",
              "[134 rows x 3 columns]"
            ],
            "text/html": [
              "\n",
              "  <div id=\"df-b09d140c-c61f-4ebc-aefc-d2155dc48e97\">\n",
              "    <div class=\"colab-df-container\">\n",
              "      <div>\n",
              "<style scoped>\n",
              "    .dataframe tbody tr th:only-of-type {\n",
              "        vertical-align: middle;\n",
              "    }\n",
              "\n",
              "    .dataframe tbody tr th {\n",
              "        vertical-align: top;\n",
              "    }\n",
              "\n",
              "    .dataframe thead th {\n",
              "        text-align: right;\n",
              "    }\n",
              "</style>\n",
              "<table border=\"1\" class=\"dataframe\">\n",
              "  <thead>\n",
              "    <tr style=\"text-align: right;\">\n",
              "      <th></th>\n",
              "      <th>Sum</th>\n",
              "      <th>Total</th>\n",
              "      <th>Mean</th>\n",
              "    </tr>\n",
              "  </thead>\n",
              "  <tbody>\n",
              "    <tr>\n",
              "      <th>North Indian</th>\n",
              "      <td>60055.2</td>\n",
              "      <td>19226.0</td>\n",
              "      <td>3.123645</td>\n",
              "    </tr>\n",
              "    <tr>\n",
              "      <th>South Indian</th>\n",
              "      <td>18635.3</td>\n",
              "      <td>6381.0</td>\n",
              "      <td>2.920436</td>\n",
              "    </tr>\n",
              "    <tr>\n",
              "      <th>Mithai</th>\n",
              "      <td>8545.7</td>\n",
              "      <td>3144.0</td>\n",
              "      <td>2.718098</td>\n",
              "    </tr>\n",
              "    <tr>\n",
              "      <th>Street Food</th>\n",
              "      <td>10794.6</td>\n",
              "      <td>3715.0</td>\n",
              "      <td>2.905680</td>\n",
              "    </tr>\n",
              "    <tr>\n",
              "      <th>Desserts</th>\n",
              "      <td>22723.9</td>\n",
              "      <td>7064.0</td>\n",
              "      <td>3.216860</td>\n",
              "    </tr>\n",
              "    <tr>\n",
              "      <th>...</th>\n",
              "      <td>...</td>\n",
              "      <td>...</td>\n",
              "      <td>...</td>\n",
              "    </tr>\n",
              "    <tr>\n",
              "      <th>Swedish</th>\n",
              "      <td>3.6</td>\n",
              "      <td>1.0</td>\n",
              "      <td>3.600000</td>\n",
              "    </tr>\n",
              "    <tr>\n",
              "      <th>Cake</th>\n",
              "      <td>6.4</td>\n",
              "      <td>2.0</td>\n",
              "      <td>3.200000</td>\n",
              "    </tr>\n",
              "    <tr>\n",
              "      <th>Garhwali</th>\n",
              "      <td>3.3</td>\n",
              "      <td>2.0</td>\n",
              "      <td>1.650000</td>\n",
              "    </tr>\n",
              "    <tr>\n",
              "      <th>Vegan</th>\n",
              "      <td>3.5</td>\n",
              "      <td>1.0</td>\n",
              "      <td>3.500000</td>\n",
              "    </tr>\n",
              "    <tr>\n",
              "      <th>Afghani</th>\n",
              "      <td>3.4</td>\n",
              "      <td>3.0</td>\n",
              "      <td>1.133333</td>\n",
              "    </tr>\n",
              "  </tbody>\n",
              "</table>\n",
              "<p>134 rows × 3 columns</p>\n",
              "</div>\n",
              "      <button class=\"colab-df-convert\" onclick=\"convertToInteractive('df-b09d140c-c61f-4ebc-aefc-d2155dc48e97')\"\n",
              "              title=\"Convert this dataframe to an interactive table.\"\n",
              "              style=\"display:none;\">\n",
              "        \n",
              "  <svg xmlns=\"http://www.w3.org/2000/svg\" height=\"24px\"viewBox=\"0 0 24 24\"\n",
              "       width=\"24px\">\n",
              "    <path d=\"M0 0h24v24H0V0z\" fill=\"none\"/>\n",
              "    <path d=\"M18.56 5.44l.94 2.06.94-2.06 2.06-.94-2.06-.94-.94-2.06-.94 2.06-2.06.94zm-11 1L8.5 8.5l.94-2.06 2.06-.94-2.06-.94L8.5 2.5l-.94 2.06-2.06.94zm10 10l.94 2.06.94-2.06 2.06-.94-2.06-.94-.94-2.06-.94 2.06-2.06.94z\"/><path d=\"M17.41 7.96l-1.37-1.37c-.4-.4-.92-.59-1.43-.59-.52 0-1.04.2-1.43.59L10.3 9.45l-7.72 7.72c-.78.78-.78 2.05 0 2.83L4 21.41c.39.39.9.59 1.41.59.51 0 1.02-.2 1.41-.59l7.78-7.78 2.81-2.81c.8-.78.8-2.07 0-2.86zM5.41 20L4 18.59l7.72-7.72 1.47 1.35L5.41 20z\"/>\n",
              "  </svg>\n",
              "      </button>\n",
              "      \n",
              "  <style>\n",
              "    .colab-df-container {\n",
              "      display:flex;\n",
              "      flex-wrap:wrap;\n",
              "      gap: 12px;\n",
              "    }\n",
              "\n",
              "    .colab-df-convert {\n",
              "      background-color: #E8F0FE;\n",
              "      border: none;\n",
              "      border-radius: 50%;\n",
              "      cursor: pointer;\n",
              "      display: none;\n",
              "      fill: #1967D2;\n",
              "      height: 32px;\n",
              "      padding: 0 0 0 0;\n",
              "      width: 32px;\n",
              "    }\n",
              "\n",
              "    .colab-df-convert:hover {\n",
              "      background-color: #E2EBFA;\n",
              "      box-shadow: 0px 1px 2px rgba(60, 64, 67, 0.3), 0px 1px 3px 1px rgba(60, 64, 67, 0.15);\n",
              "      fill: #174EA6;\n",
              "    }\n",
              "\n",
              "    [theme=dark] .colab-df-convert {\n",
              "      background-color: #3B4455;\n",
              "      fill: #D2E3FC;\n",
              "    }\n",
              "\n",
              "    [theme=dark] .colab-df-convert:hover {\n",
              "      background-color: #434B5C;\n",
              "      box-shadow: 0px 1px 3px 1px rgba(0, 0, 0, 0.15);\n",
              "      filter: drop-shadow(0px 1px 2px rgba(0, 0, 0, 0.3));\n",
              "      fill: #FFFFFF;\n",
              "    }\n",
              "  </style>\n",
              "\n",
              "      <script>\n",
              "        const buttonEl =\n",
              "          document.querySelector('#df-b09d140c-c61f-4ebc-aefc-d2155dc48e97 button.colab-df-convert');\n",
              "        buttonEl.style.display =\n",
              "          google.colab.kernel.accessAllowed ? 'block' : 'none';\n",
              "\n",
              "        async function convertToInteractive(key) {\n",
              "          const element = document.querySelector('#df-b09d140c-c61f-4ebc-aefc-d2155dc48e97');\n",
              "          const dataTable =\n",
              "            await google.colab.kernel.invokeFunction('convertToInteractive',\n",
              "                                                     [key], {});\n",
              "          if (!dataTable) return;\n",
              "\n",
              "          const docLinkHtml = 'Like what you see? Visit the ' +\n",
              "            '<a target=\"_blank\" href=https://colab.research.google.com/notebooks/data_table.ipynb>data table notebook</a>'\n",
              "            + ' to learn more about interactive tables.';\n",
              "          element.innerHTML = '';\n",
              "          dataTable['output_type'] = 'display_data';\n",
              "          await google.colab.output.renderOutput(dataTable, element);\n",
              "          const docLink = document.createElement('div');\n",
              "          docLink.innerHTML = docLinkHtml;\n",
              "          element.appendChild(docLink);\n",
              "        }\n",
              "      </script>\n",
              "    </div>\n",
              "  </div>\n",
              "  "
            ]
          },
          "metadata": {},
          "execution_count": 139
        }
      ]
    },
    {
      "cell_type": "code",
      "source": [
        "c_and_r[[\"Mean\",\"Total\"]].sort_values(by=\"Mean\", ascending=False)[:10]"
      ],
      "metadata": {
        "colab": {
          "base_uri": "https://localhost:8080/",
          "height": 363
        },
        "id": "5U21Xn883cbW",
        "outputId": "34632ef4-eff0-40f1-a526-d681e4f658a0"
      },
      "execution_count": null,
      "outputs": [
        {
          "output_type": "execute_result",
          "data": {
            "text/plain": [
              "                   Mean  Total\n",
              "Egyptian       4.416667    6.0\n",
              "Poké           4.350000   12.0\n",
              "Fusion         4.350000    2.0\n",
              "International  4.300000    1.0\n",
              "Tex-Mex        4.293939   33.0\n",
              "Singaporean    4.287500   16.0\n",
              "Moroccan       4.258333   12.0\n",
              "Sushi          4.206087  115.0\n",
              "Greek          4.159091   22.0\n",
              "Mediterranean  4.130275  327.0"
            ],
            "text/html": [
              "\n",
              "  <div id=\"df-dd701f27-d3c2-48f6-b554-c92524905605\">\n",
              "    <div class=\"colab-df-container\">\n",
              "      <div>\n",
              "<style scoped>\n",
              "    .dataframe tbody tr th:only-of-type {\n",
              "        vertical-align: middle;\n",
              "    }\n",
              "\n",
              "    .dataframe tbody tr th {\n",
              "        vertical-align: top;\n",
              "    }\n",
              "\n",
              "    .dataframe thead th {\n",
              "        text-align: right;\n",
              "    }\n",
              "</style>\n",
              "<table border=\"1\" class=\"dataframe\">\n",
              "  <thead>\n",
              "    <tr style=\"text-align: right;\">\n",
              "      <th></th>\n",
              "      <th>Mean</th>\n",
              "      <th>Total</th>\n",
              "    </tr>\n",
              "  </thead>\n",
              "  <tbody>\n",
              "    <tr>\n",
              "      <th>Egyptian</th>\n",
              "      <td>4.416667</td>\n",
              "      <td>6.0</td>\n",
              "    </tr>\n",
              "    <tr>\n",
              "      <th>Poké</th>\n",
              "      <td>4.350000</td>\n",
              "      <td>12.0</td>\n",
              "    </tr>\n",
              "    <tr>\n",
              "      <th>Fusion</th>\n",
              "      <td>4.350000</td>\n",
              "      <td>2.0</td>\n",
              "    </tr>\n",
              "    <tr>\n",
              "      <th>International</th>\n",
              "      <td>4.300000</td>\n",
              "      <td>1.0</td>\n",
              "    </tr>\n",
              "    <tr>\n",
              "      <th>Tex-Mex</th>\n",
              "      <td>4.293939</td>\n",
              "      <td>33.0</td>\n",
              "    </tr>\n",
              "    <tr>\n",
              "      <th>Singaporean</th>\n",
              "      <td>4.287500</td>\n",
              "      <td>16.0</td>\n",
              "    </tr>\n",
              "    <tr>\n",
              "      <th>Moroccan</th>\n",
              "      <td>4.258333</td>\n",
              "      <td>12.0</td>\n",
              "    </tr>\n",
              "    <tr>\n",
              "      <th>Sushi</th>\n",
              "      <td>4.206087</td>\n",
              "      <td>115.0</td>\n",
              "    </tr>\n",
              "    <tr>\n",
              "      <th>Greek</th>\n",
              "      <td>4.159091</td>\n",
              "      <td>22.0</td>\n",
              "    </tr>\n",
              "    <tr>\n",
              "      <th>Mediterranean</th>\n",
              "      <td>4.130275</td>\n",
              "      <td>327.0</td>\n",
              "    </tr>\n",
              "  </tbody>\n",
              "</table>\n",
              "</div>\n",
              "      <button class=\"colab-df-convert\" onclick=\"convertToInteractive('df-dd701f27-d3c2-48f6-b554-c92524905605')\"\n",
              "              title=\"Convert this dataframe to an interactive table.\"\n",
              "              style=\"display:none;\">\n",
              "        \n",
              "  <svg xmlns=\"http://www.w3.org/2000/svg\" height=\"24px\"viewBox=\"0 0 24 24\"\n",
              "       width=\"24px\">\n",
              "    <path d=\"M0 0h24v24H0V0z\" fill=\"none\"/>\n",
              "    <path d=\"M18.56 5.44l.94 2.06.94-2.06 2.06-.94-2.06-.94-.94-2.06-.94 2.06-2.06.94zm-11 1L8.5 8.5l.94-2.06 2.06-.94-2.06-.94L8.5 2.5l-.94 2.06-2.06.94zm10 10l.94 2.06.94-2.06 2.06-.94-2.06-.94-.94-2.06-.94 2.06-2.06.94z\"/><path d=\"M17.41 7.96l-1.37-1.37c-.4-.4-.92-.59-1.43-.59-.52 0-1.04.2-1.43.59L10.3 9.45l-7.72 7.72c-.78.78-.78 2.05 0 2.83L4 21.41c.39.39.9.59 1.41.59.51 0 1.02-.2 1.41-.59l7.78-7.78 2.81-2.81c.8-.78.8-2.07 0-2.86zM5.41 20L4 18.59l7.72-7.72 1.47 1.35L5.41 20z\"/>\n",
              "  </svg>\n",
              "      </button>\n",
              "      \n",
              "  <style>\n",
              "    .colab-df-container {\n",
              "      display:flex;\n",
              "      flex-wrap:wrap;\n",
              "      gap: 12px;\n",
              "    }\n",
              "\n",
              "    .colab-df-convert {\n",
              "      background-color: #E8F0FE;\n",
              "      border: none;\n",
              "      border-radius: 50%;\n",
              "      cursor: pointer;\n",
              "      display: none;\n",
              "      fill: #1967D2;\n",
              "      height: 32px;\n",
              "      padding: 0 0 0 0;\n",
              "      width: 32px;\n",
              "    }\n",
              "\n",
              "    .colab-df-convert:hover {\n",
              "      background-color: #E2EBFA;\n",
              "      box-shadow: 0px 1px 2px rgba(60, 64, 67, 0.3), 0px 1px 3px 1px rgba(60, 64, 67, 0.15);\n",
              "      fill: #174EA6;\n",
              "    }\n",
              "\n",
              "    [theme=dark] .colab-df-convert {\n",
              "      background-color: #3B4455;\n",
              "      fill: #D2E3FC;\n",
              "    }\n",
              "\n",
              "    [theme=dark] .colab-df-convert:hover {\n",
              "      background-color: #434B5C;\n",
              "      box-shadow: 0px 1px 3px 1px rgba(0, 0, 0, 0.15);\n",
              "      filter: drop-shadow(0px 1px 2px rgba(0, 0, 0, 0.3));\n",
              "      fill: #FFFFFF;\n",
              "    }\n",
              "  </style>\n",
              "\n",
              "      <script>\n",
              "        const buttonEl =\n",
              "          document.querySelector('#df-dd701f27-d3c2-48f6-b554-c92524905605 button.colab-df-convert');\n",
              "        buttonEl.style.display =\n",
              "          google.colab.kernel.accessAllowed ? 'block' : 'none';\n",
              "\n",
              "        async function convertToInteractive(key) {\n",
              "          const element = document.querySelector('#df-dd701f27-d3c2-48f6-b554-c92524905605');\n",
              "          const dataTable =\n",
              "            await google.colab.kernel.invokeFunction('convertToInteractive',\n",
              "                                                     [key], {});\n",
              "          if (!dataTable) return;\n",
              "\n",
              "          const docLinkHtml = 'Like what you see? Visit the ' +\n",
              "            '<a target=\"_blank\" href=https://colab.research.google.com/notebooks/data_table.ipynb>data table notebook</a>'\n",
              "            + ' to learn more about interactive tables.';\n",
              "          element.innerHTML = '';\n",
              "          dataTable['output_type'] = 'display_data';\n",
              "          await google.colab.output.renderOutput(dataTable, element);\n",
              "          const docLink = document.createElement('div');\n",
              "          docLink.innerHTML = docLinkHtml;\n",
              "          element.appendChild(docLink);\n",
              "        }\n",
              "      </script>\n",
              "    </div>\n",
              "  </div>\n",
              "  "
            ]
          },
          "metadata": {},
          "execution_count": 140
        }
      ]
    },
    {
      "cell_type": "code",
      "source": [
        "print(\"Total number of unique cuisines = \", hl.nunique())"
      ],
      "metadata": {
        "colab": {
          "base_uri": "https://localhost:8080/"
        },
        "id": "6CFMI7ia3i6B",
        "outputId": "b426b370-62ef-4034-8553-48886639fd38"
      },
      "execution_count": null,
      "outputs": [
        {
          "output_type": "stream",
          "name": "stdout",
          "text": [
            "Total number of unique cuisines =  104\n"
          ]
        }
      ]
    },
    {
      "cell_type": "code",
      "source": [
        "h_count = hl.value_counts()[:5]\n",
        "\n",
        "fig = plt.figure(figsize=[10,6], frameon=False)\n",
        "ax = fig.gca()\n",
        "ax.spines[\"top\"].set_visible(False)\n",
        "ax.spines[\"right\"].set_visible(False)\n",
        "ax.spines[\"left\"].set_color(\"#424242\")\n",
        "ax.spines[\"bottom\"].set_color(\"#424242\")\n",
        "\n",
        "#colors = [\"green\",\"blue\",\"magenta\",\"cyan\",\"gray\",\"yellow\",\"purple\",\"violet\",\"orange\",\"red\",\"maroon\"]\n",
        "#random.shuffle(colors)\n",
        "colors = ['#11174b', '#2a5599', '#3e94c0', '#78c6d0', '#dcecc9']\n",
        "plt.bar(h_count.index, h_count.values, color=colors)\n",
        "\n",
        "plt.xticks(range(0, 6), color=\"#424242\")\n",
        "plt.yticks(range(0, 70000, 10000), color=\"#424242\")\n",
        "plt.xlabel(\"Top 5 highlights\")\n",
        "\n",
        "for i, v in enumerate(h_count):\n",
        "    ax.text(i-0.2, v+500, str(v), color='#424242')\n",
        "plt.title(\"Number of restaurants (by highlights)\")\n",
        "\n",
        "\n",
        "plt.show()\n"
      ],
      "metadata": {
        "colab": {
          "base_uri": "https://localhost:8080/",
          "height": 564
        },
        "id": "34j31zuQ3lGA",
        "outputId": "cb2ea6b8-7eaa-44af-8b64-24b4a3eb0a46"
      },
      "execution_count": null,
      "outputs": [
        {
          "output_type": "display_data",
          "data": {
            "text/plain": [
              "<Figure size 1000x600 with 1 Axes>"
            ],
            "image/png": "[encoded data removed]"
          },
          "metadata": {}
        }
      ]
    },
    {
      "cell_type": "code",
      "source": [
        "data[\"highlights\"][0]"
      ],
      "metadata": {
        "colab": {
          "base_uri": "https://localhost:8080/",
          "height": 36
        },
        "id": "yH8xdSGD3nuM",
        "outputId": "2259aaad-3c7f-4832-b96e-f1d43e805878"
      },
      "execution_count": null,
      "outputs": [
        {
          "output_type": "execute_result",
          "data": {
            "text/plain": [
              "\"['Lunch', 'Takeaway Available', 'Credit Card', 'Dinner', 'Cash', 'Air Conditioned', 'Indoor Seating', 'Pure Veg']\""
            ],
            "application/vnd.google.colaboratory.intrinsic+json": {
              "type": "string"
            }
          },
          "metadata": {},
          "execution_count": 143
        }
      ]
    },
    {
      "cell_type": "code",
      "source": [
        "data[\"highlights2\"] = data['highlights'].apply(lambda x : x[2:-2].split(\"', '\"))\n",
        "\n",
        "hl_list = hl.unique().tolist()\n",
        "zeros = np.zeros(shape=(len(hl_list),2))\n",
        "h_and_r = pd.DataFrame(zeros, index=hl_list, columns=[\"Sum\",\"Total\"])\n",
        "for i, x in data.iterrows():\n",
        "    for j in x[\"highlights2\"]:\n",
        "        h_and_r.loc[j][\"Sum\"] += x[\"aggregate_rating\"]\n",
        "        h_and_r.loc[j][\"Total\"] += 1\n",
        "h_and_r[\"Mean\"] = h_and_r[\"Sum\"] / h_and_r[\"Total\"]\n",
        "h_and_r\n"
      ],
      "metadata": {
        "colab": {
          "base_uri": "https://localhost:8080/",
          "height": 423
        },
        "id": "GHE9jJm33pm9",
        "outputId": "43969bfb-b15a-4084-b31f-d9c6e33b1a37"
      },
      "execution_count": null,
      "outputs": [
        {
          "output_type": "execute_result",
          "data": {
            "text/plain": [
              "                             Sum    Total      Mean\n",
              "Lunch                   113340.8  36043.0  3.144600\n",
              "Takeaway Available      139848.5  46773.0  2.989941\n",
              "Credit Card              94107.2  27530.0  3.418351\n",
              "Dinner                  118364.5  37643.0  3.144396\n",
              "Cash                    157862.8  52825.0  2.988411\n",
              "...                          ...      ...       ...\n",
              "Celebrity Frequented        90.1     22.0  4.095455\n",
              "Alipay Accepted              3.0      1.0  3.000000\n",
              "Subscription Available       4.1      1.0  4.100000\n",
              "Subscription Required        4.5      1.0  4.500000\n",
              "Bira 91 Beer                 8.0      2.0  4.000000\n",
              "\n",
              "[104 rows x 3 columns]"
            ],
            "text/html": [
              "\n",
              "  <div id=\"df-2ebcb18f-718d-45b0-84fc-395716c7baec\">\n",
              "    <div class=\"colab-df-container\">\n",
              "      <div>\n",
              "<style scoped>\n",
              "    .dataframe tbody tr th:only-of-type {\n",
              "        vertical-align: middle;\n",
              "    }\n",
              "\n",
              "    .dataframe tbody tr th {\n",
              "        vertical-align: top;\n",
              "    }\n",
              "\n",
              "    .dataframe thead th {\n",
              "        text-align: right;\n",
              "    }\n",
              "</style>\n",
              "<table border=\"1\" class=\"dataframe\">\n",
              "  <thead>\n",
              "    <tr style=\"text-align: right;\">\n",
              "      <th></th>\n",
              "      <th>Sum</th>\n",
              "      <th>Total</th>\n",
              "      <th>Mean</th>\n",
              "    </tr>\n",
              "  </thead>\n",
              "  <tbody>\n",
              "    <tr>\n",
              "      <th>Lunch</th>\n",
              "      <td>113340.8</td>\n",
              "      <td>36043.0</td>\n",
              "      <td>3.144600</td>\n",
              "    </tr>\n",
              "    <tr>\n",
              "      <th>Takeaway Available</th>\n",
              "      <td>139848.5</td>\n",
              "      <td>46773.0</td>\n",
              "      <td>2.989941</td>\n",
              "    </tr>\n",
              "    <tr>\n",
              "      <th>Credit Card</th>\n",
              "      <td>94107.2</td>\n",
              "      <td>27530.0</td>\n",
              "      <td>3.418351</td>\n",
              "    </tr>\n",
              "    <tr>\n",
              "      <th>Dinner</th>\n",
              "      <td>118364.5</td>\n",
              "      <td>37643.0</td>\n",
              "      <td>3.144396</td>\n",
              "    </tr>\n",
              "    <tr>\n",
              "      <th>Cash</th>\n",
              "      <td>157862.8</td>\n",
              "      <td>52825.0</td>\n",
              "      <td>2.988411</td>\n",
              "    </tr>\n",
              "    <tr>\n",
              "      <th>...</th>\n",
              "      <td>...</td>\n",
              "      <td>...</td>\n",
              "      <td>...</td>\n",
              "    </tr>\n",
              "    <tr>\n",
              "      <th>Celebrity Frequented</th>\n",
              "      <td>90.1</td>\n",
              "      <td>22.0</td>\n",
              "      <td>4.095455</td>\n",
              "    </tr>\n",
              "    <tr>\n",
              "      <th>Alipay Accepted</th>\n",
              "      <td>3.0</td>\n",
              "      <td>1.0</td>\n",
              "      <td>3.000000</td>\n",
              "    </tr>\n",
              "    <tr>\n",
              "      <th>Subscription Available</th>\n",
              "      <td>4.1</td>\n",
              "      <td>1.0</td>\n",
              "      <td>4.100000</td>\n",
              "    </tr>\n",
              "    <tr>\n",
              "      <th>Subscription Required</th>\n",
              "      <td>4.5</td>\n",
              "      <td>1.0</td>\n",
              "      <td>4.500000</td>\n",
              "    </tr>\n",
              "    <tr>\n",
              "      <th>Bira 91 Beer</th>\n",
              "      <td>8.0</td>\n",
              "      <td>2.0</td>\n",
              "      <td>4.000000</td>\n",
              "    </tr>\n",
              "  </tbody>\n",
              "</table>\n",
              "<p>104 rows × 3 columns</p>\n",
              "</div>\n",
              "      <button class=\"colab-df-convert\" onclick=\"convertToInteractive('df-2ebcb18f-718d-45b0-84fc-395716c7baec')\"\n",
              "              title=\"Convert this dataframe to an interactive table.\"\n",
              "              style=\"display:none;\">\n",
              "        \n",
              "  <svg xmlns=\"http://www.w3.org/2000/svg\" height=\"24px\"viewBox=\"0 0 24 24\"\n",
              "       width=\"24px\">\n",
              "    <path d=\"M0 0h24v24H0V0z\" fill=\"none\"/>\n",
              "    <path d=\"M18.56 5.44l.94 2.06.94-2.06 2.06-.94-2.06-.94-.94-2.06-.94 2.06-2.06.94zm-11 1L8.5 8.5l.94-2.06 2.06-.94-2.06-.94L8.5 2.5l-.94 2.06-2.06.94zm10 10l.94 2.06.94-2.06 2.06-.94-2.06-.94-.94-2.06-.94 2.06-2.06.94z\"/><path d=\"M17.41 7.96l-1.37-1.37c-.4-.4-.92-.59-1.43-.59-.52 0-1.04.2-1.43.59L10.3 9.45l-7.72 7.72c-.78.78-.78 2.05 0 2.83L4 21.41c.39.39.9.59 1.41.59.51 0 1.02-.2 1.41-.59l7.78-7.78 2.81-2.81c.8-.78.8-2.07 0-2.86zM5.41 20L4 18.59l7.72-7.72 1.47 1.35L5.41 20z\"/>\n",
              "  </svg>\n",
              "      </button>\n",
              "      \n",
              "  <style>\n",
              "    .colab-df-container {\n",
              "      display:flex;\n",
              "      flex-wrap:wrap;\n",
              "      gap: 12px;\n",
              "    }\n",
              "\n",
              "    .colab-df-convert {\n",
              "      background-color: #E8F0FE;\n",
              "      border: none;\n",
              "      border-radius: 50%;\n",
              "      cursor: pointer;\n",
              "      display: none;\n",
              "      fill: #1967D2;\n",
              "      height: 32px;\n",
              "      padding: 0 0 0 0;\n",
              "      width: 32px;\n",
              "    }\n",
              "\n",
              "    .colab-df-convert:hover {\n",
              "      background-color: #E2EBFA;\n",
              "      box-shadow: 0px 1px 2px rgba(60, 64, 67, 0.3), 0px 1px 3px 1px rgba(60, 64, 67, 0.15);\n",
              "      fill: #174EA6;\n",
              "    }\n",
              "\n",
              "    [theme=dark] .colab-df-convert {\n",
              "      background-color: #3B4455;\n",
              "      fill: #D2E3FC;\n",
              "    }\n",
              "\n",
              "    [theme=dark] .colab-df-convert:hover {\n",
              "      background-color: #434B5C;\n",
              "      box-shadow: 0px 1px 3px 1px rgba(0, 0, 0, 0.15);\n",
              "      filter: drop-shadow(0px 1px 2px rgba(0, 0, 0, 0.3));\n",
              "      fill: #FFFFFF;\n",
              "    }\n",
              "  </style>\n",
              "\n",
              "      <script>\n",
              "        const buttonEl =\n",
              "          document.querySelector('#df-2ebcb18f-718d-45b0-84fc-395716c7baec button.colab-df-convert');\n",
              "        buttonEl.style.display =\n",
              "          google.colab.kernel.accessAllowed ? 'block' : 'none';\n",
              "\n",
              "        async function convertToInteractive(key) {\n",
              "          const element = document.querySelector('#df-2ebcb18f-718d-45b0-84fc-395716c7baec');\n",
              "          const dataTable =\n",
              "            await google.colab.kernel.invokeFunction('convertToInteractive',\n",
              "                                                     [key], {});\n",
              "          if (!dataTable) return;\n",
              "\n",
              "          const docLinkHtml = 'Like what you see? Visit the ' +\n",
              "            '<a target=\"_blank\" href=https://colab.research.google.com/notebooks/data_table.ipynb>data table notebook</a>'\n",
              "            + ' to learn more about interactive tables.';\n",
              "          element.innerHTML = '';\n",
              "          dataTable['output_type'] = 'display_data';\n",
              "          await google.colab.output.renderOutput(dataTable, element);\n",
              "          const docLink = document.createElement('div');\n",
              "          docLink.innerHTML = docLinkHtml;\n",
              "          element.appendChild(docLink);\n",
              "        }\n",
              "      </script>\n",
              "    </div>\n",
              "  </div>\n",
              "  "
            ]
          },
          "metadata": {},
          "execution_count": 144
        }
      ]
    },
    {
      "cell_type": "code",
      "source": [
        "h_and_r[[\"Mean\",\"Total\"]].sort_values(by=\"Mean\", ascending=False)[:10]"
      ],
      "metadata": {
        "colab": {
          "base_uri": "https://localhost:8080/",
          "height": 363
        },
        "id": "ByIVpLWz3ulX",
        "outputId": "f4ae6859-53c1-4b59-f719-01c990f6aea3"
      },
      "execution_count": null,
      "outputs": [
        {
          "output_type": "execute_result",
          "data": {
            "text/plain": [
              "                            Mean  Total\n",
              "Subscription Required   4.500000    1.0\n",
              "Speakeasy               4.300000    3.0\n",
              "Gastro Pub              4.198551   69.0\n",
              "Craft Beer              4.197297  148.0\n",
              "Romantic Dining         4.162416  149.0\n",
              "Sneakpeek               4.128316  392.0\n",
              "Subscription Available  4.100000    1.0\n",
              "Celebrity Frequented    4.095455   22.0\n",
              "Keto Options            4.049153   59.0\n",
              "Pet Friendly            4.017576  165.0"
            ],
            "text/html": [
              "\n",
              "  <div id=\"df-5dd04821-d099-43d2-bce5-bfe80a1964fb\">\n",
              "    <div class=\"colab-df-container\">\n",
              "      <div>\n",
              "<style scoped>\n",
              "    .dataframe tbody tr th:only-of-type {\n",
              "        vertical-align: middle;\n",
              "    }\n",
              "\n",
              "    .dataframe tbody tr th {\n",
              "        vertical-align: top;\n",
              "    }\n",
              "\n",
              "    .dataframe thead th {\n",
              "        text-align: right;\n",
              "    }\n",
              "</style>\n",
              "<table border=\"1\" class=\"dataframe\">\n",
              "  <thead>\n",
              "    <tr style=\"text-align: right;\">\n",
              "      <th></th>\n",
              "      <th>Mean</th>\n",
              "      <th>Total</th>\n",
              "    </tr>\n",
              "  </thead>\n",
              "  <tbody>\n",
              "    <tr>\n",
              "      <th>Subscription Required</th>\n",
              "      <td>4.500000</td>\n",
              "      <td>1.0</td>\n",
              "    </tr>\n",
              "    <tr>\n",
              "      <th>Speakeasy</th>\n",
              "      <td>4.300000</td>\n",
              "      <td>3.0</td>\n",
              "    </tr>\n",
              "    <tr>\n",
              "      <th>Gastro Pub</th>\n",
              "      <td>4.198551</td>\n",
              "      <td>69.0</td>\n",
              "    </tr>\n",
              "    <tr>\n",
              "      <th>Craft Beer</th>\n",
              "      <td>4.197297</td>\n",
              "      <td>148.0</td>\n",
              "    </tr>\n",
              "    <tr>\n",
              "      <th>Romantic Dining</th>\n",
              "      <td>4.162416</td>\n",
              "      <td>149.0</td>\n",
              "    </tr>\n",
              "    <tr>\n",
              "      <th>Sneakpeek</th>\n",
              "      <td>4.128316</td>\n",
              "      <td>392.0</td>\n",
              "    </tr>\n",
              "    <tr>\n",
              "      <th>Subscription Available</th>\n",
              "      <td>4.100000</td>\n",
              "      <td>1.0</td>\n",
              "    </tr>\n",
              "    <tr>\n",
              "      <th>Celebrity Frequented</th>\n",
              "      <td>4.095455</td>\n",
              "      <td>22.0</td>\n",
              "    </tr>\n",
              "    <tr>\n",
              "      <th>Keto Options</th>\n",
              "      <td>4.049153</td>\n",
              "      <td>59.0</td>\n",
              "    </tr>\n",
              "    <tr>\n",
              "      <th>Pet Friendly</th>\n",
              "      <td>4.017576</td>\n",
              "      <td>165.0</td>\n",
              "    </tr>\n",
              "  </tbody>\n",
              "</table>\n",
              "</div>\n",
              "      <button class=\"colab-df-convert\" onclick=\"convertToInteractive('df-5dd04821-d099-43d2-bce5-bfe80a1964fb')\"\n",
              "              title=\"Convert this dataframe to an interactive table.\"\n",
              "              style=\"display:none;\">\n",
              "        \n",
              "  <svg xmlns=\"http://www.w3.org/2000/svg\" height=\"24px\"viewBox=\"0 0 24 24\"\n",
              "       width=\"24px\">\n",
              "    <path d=\"M0 0h24v24H0V0z\" fill=\"none\"/>\n",
              "    <path d=\"M18.56 5.44l.94 2.06.94-2.06 2.06-.94-2.06-.94-.94-2.06-.94 2.06-2.06.94zm-11 1L8.5 8.5l.94-2.06 2.06-.94-2.06-.94L8.5 2.5l-.94 2.06-2.06.94zm10 10l.94 2.06.94-2.06 2.06-.94-2.06-.94-.94-2.06-.94 2.06-2.06.94z\"/><path d=\"M17.41 7.96l-1.37-1.37c-.4-.4-.92-.59-1.43-.59-.52 0-1.04.2-1.43.59L10.3 9.45l-7.72 7.72c-.78.78-.78 2.05 0 2.83L4 21.41c.39.39.9.59 1.41.59.51 0 1.02-.2 1.41-.59l7.78-7.78 2.81-2.81c.8-.78.8-2.07 0-2.86zM5.41 20L4 18.59l7.72-7.72 1.47 1.35L5.41 20z\"/>\n",
              "  </svg>\n",
              "      </button>\n",
              "      \n",
              "  <style>\n",
              "    .colab-df-container {\n",
              "      display:flex;\n",
              "      flex-wrap:wrap;\n",
              "      gap: 12px;\n",
              "    }\n",
              "\n",
              "    .colab-df-convert {\n",
              "      background-color: #E8F0FE;\n",
              "      border: none;\n",
              "      border-radius: 50%;\n",
              "      cursor: pointer;\n",
              "      display: none;\n",
              "      fill: #1967D2;\n",
              "      height: 32px;\n",
              "      padding: 0 0 0 0;\n",
              "      width: 32px;\n",
              "    }\n",
              "\n",
              "    .colab-df-convert:hover {\n",
              "      background-color: #E2EBFA;\n",
              "      box-shadow: 0px 1px 2px rgba(60, 64, 67, 0.3), 0px 1px 3px 1px rgba(60, 64, 67, 0.15);\n",
              "      fill: #174EA6;\n",
              "    }\n",
              "\n",
              "    [theme=dark] .colab-df-convert {\n",
              "      background-color: #3B4455;\n",
              "      fill: #D2E3FC;\n",
              "    }\n",
              "\n",
              "    [theme=dark] .colab-df-convert:hover {\n",
              "      background-color: #434B5C;\n",
              "      box-shadow: 0px 1px 3px 1px rgba(0, 0, 0, 0.15);\n",
              "      filter: drop-shadow(0px 1px 2px rgba(0, 0, 0, 0.3));\n",
              "      fill: #FFFFFF;\n",
              "    }\n",
              "  </style>\n",
              "\n",
              "      <script>\n",
              "        const buttonEl =\n",
              "          document.querySelector('#df-5dd04821-d099-43d2-bce5-bfe80a1964fb button.colab-df-convert');\n",
              "        buttonEl.style.display =\n",
              "          google.colab.kernel.accessAllowed ? 'block' : 'none';\n",
              "\n",
              "        async function convertToInteractive(key) {\n",
              "          const element = document.querySelector('#df-5dd04821-d099-43d2-bce5-bfe80a1964fb');\n",
              "          const dataTable =\n",
              "            await google.colab.kernel.invokeFunction('convertToInteractive',\n",
              "                                                     [key], {});\n",
              "          if (!dataTable) return;\n",
              "\n",
              "          const docLinkHtml = 'Like what you see? Visit the ' +\n",
              "            '<a target=\"_blank\" href=https://colab.research.google.com/notebooks/data_table.ipynb>data table notebook</a>'\n",
              "            + ' to learn more about interactive tables.';\n",
              "          element.innerHTML = '';\n",
              "          dataTable['output_type'] = 'display_data';\n",
              "          await google.colab.output.renderOutput(dataTable, element);\n",
              "          const docLink = document.createElement('div');\n",
              "          docLink.innerHTML = docLinkHtml;\n",
              "          element.appendChild(docLink);\n",
              "        }\n",
              "      </script>\n",
              "    </div>\n",
              "  </div>\n",
              "  "
            ]
          },
          "metadata": {},
          "execution_count": 145
        }
      ]
    },
    {
      "cell_type": "code",
      "source": [
        "hl_str = \"\"\n",
        "for i in hl:\n",
        "    hl_str += str(i) + \" \"\n",
        "wordcloud = WordCloud(width = 800, height = 500,\n",
        "                background_color ='white',\n",
        "                min_font_size = 10, max_words=30).generate(hl_str)\n",
        "\n",
        "plt.figure(figsize = (8, 8), facecolor = None)\n",
        "plt.imshow(wordcloud)\n",
        "plt.axis(\"off\")\n",
        "plt.tight_layout(pad = 0)\n",
        "\n",
        "plt.show()"
      ],
      "metadata": {
        "colab": {
          "base_uri": "https://localhost:8080/",
          "height": 235
        },
        "id": "cODgMhFJ341f",
        "outputId": "1fbba6a7-7a55-4cdd-90aa-53e8a5006b07"
      },
      "execution_count": null,
      "outputs": [
        {
          "output_type": "error",
          "ename": "NameError",
          "evalue": "ignored",
          "traceback": [
            "\u001b[0;31m---------------------------------------------------------------------------\u001b[0m",
            "\u001b[0;31mNameError\u001b[0m                                 Traceback (most recent call last)",
            "\u001b[0;32m<ipython-input-146-17a77dfaf24c>\u001b[0m in \u001b[0;36m<cell line: 4>\u001b[0;34m()\u001b[0m\n\u001b[1;32m      2\u001b[0m \u001b[0;32mfor\u001b[0m \u001b[0mi\u001b[0m \u001b[0;32min\u001b[0m \u001b[0mhl\u001b[0m\u001b[0;34m:\u001b[0m\u001b[0;34m\u001b[0m\u001b[0;34m\u001b[0m\u001b[0m\n\u001b[1;32m      3\u001b[0m     \u001b[0mhl_str\u001b[0m \u001b[0;34m+=\u001b[0m \u001b[0mstr\u001b[0m\u001b[0;34m(\u001b[0m\u001b[0mi\u001b[0m\u001b[0;34m)\u001b[0m \u001b[0;34m+\u001b[0m \u001b[0;34m\" \"\u001b[0m\u001b[0;34m\u001b[0m\u001b[0;34m\u001b[0m\u001b[0m\n\u001b[0;32m----> 4\u001b[0;31m wordcloud = WordCloud(width = 800, height = 500, \n\u001b[0m\u001b[1;32m      5\u001b[0m                 \u001b[0mbackground_color\u001b[0m \u001b[0;34m=\u001b[0m\u001b[0;34m'white'\u001b[0m\u001b[0;34m,\u001b[0m\u001b[0;34m\u001b[0m\u001b[0;34m\u001b[0m\u001b[0m\n\u001b[1;32m      6\u001b[0m                 min_font_size = 10, max_words=30).generate(hl_str) \n",
            "\u001b[0;31mNameError\u001b[0m: name 'WordCloud' is not defined"
          ]
        }
      ]
    },
    {
      "cell_type": "code",
      "source": [
        "sns.kdeplot(data['aggregate_rating'], shade=True)\n",
        "plt.title(\"Ratings distribution\")\n",
        "plt.show()"
      ],
      "metadata": {
        "colab": {
          "base_uri": "https://localhost:8080/",
          "height": 576
        },
        "id": "J8tFGvy738EA",
        "outputId": "a57d6630-6834-4bdb-ccc0-2c22e992cba5"
      },
      "execution_count": null,
      "outputs": [
        {
          "output_type": "stream",
          "name": "stderr",
          "text": [
            "<ipython-input-147-7651810369a8>:1: FutureWarning: \n",
            "\n",
            "`shade` is now deprecated in favor of `fill`; setting `fill=True`.\n",
            "This will become an error in seaborn v0.14.0; please update your code.\n",
            "\n",
            "  sns.kdeplot(data['aggregate_rating'], shade=True)\n"
          ]
        },
        {
          "output_type": "display_data",
          "data": {
            "text/plain": [
              "<Figure size 640x480 with 1 Axes>"
            ],
            "image/png": "[encoded data removed]"
          },
          "metadata": {}
        }
      ]
    },
    {
      "cell_type": "code",
      "source": [
        "sns.kdeplot(data['average_cost_for_two'], shade=True)\n",
        "plt.title(\"Average cost for 2 distribution\")\n",
        "plt.show()"
      ],
      "metadata": {
        "colab": {
          "base_uri": "https://localhost:8080/",
          "height": 576
        },
        "id": "-cTnFEnu3-yZ",
        "outputId": "8b0c46da-6780-4770-e815-b9a4254b874e"
      },
      "execution_count": null,
      "outputs": [
        {
          "output_type": "stream",
          "name": "stderr",
          "text": [
            "<ipython-input-148-6a8a5e442565>:1: FutureWarning: \n",
            "\n",
            "`shade` is now deprecated in favor of `fill`; setting `fill=True`.\n",
            "This will become an error in seaborn v0.14.0; please update your code.\n",
            "\n",
            "  sns.kdeplot(data['average_cost_for_two'], shade=True)\n"
          ]
        },
        {
          "output_type": "display_data",
          "data": {
            "text/plain": [
              "<Figure size 640x480 with 1 Axes>"
            ],
            "image/png": "[encoded data removed]"
          },
          "metadata": {}
        }
      ]
    },
    {
      "cell_type": "code",
      "source": [
        "sns.kdeplot(data['average_cost_for_two'], shade=True)\n",
        "plt.xlim([0, 6000])\n",
        "plt.xticks(range(0,6000,500))\n",
        "plt.title(\"Average cost for 2 distribution\")\n",
        "plt.show()"
      ],
      "metadata": {
        "colab": {
          "base_uri": "https://localhost:8080/",
          "height": 576
        },
        "id": "zg_G6sQl3-1y",
        "outputId": "d6ad4d63-6c72-418a-a9f1-ddba93ce630c"
      },
      "execution_count": null,
      "outputs": [
        {
          "output_type": "stream",
          "name": "stderr",
          "text": [
            "<ipython-input-149-98c87565e1e4>:1: FutureWarning: \n",
            "\n",
            "`shade` is now deprecated in favor of `fill`; setting `fill=True`.\n",
            "This will become an error in seaborn v0.14.0; please update your code.\n",
            "\n",
            "  sns.kdeplot(data['average_cost_for_two'], shade=True)\n"
          ]
        },
        {
          "output_type": "display_data",
          "data": {
            "text/plain": [
              "<Figure size 640x480 with 1 Axes>"
            ],
            "image/png": "[encoded data removed]"
          },
          "metadata": {}
        }
      ]
    },
    {
      "cell_type": "code",
      "source": [
        "pr_count = data.groupby(\"price_range\").count()[\"name\"]\n",
        "\n",
        "fig = plt.figure(figsize=[8,5], frameon=False)\n",
        "ax = fig.gca()\n",
        "ax.spines[\"top\"].set_visible(False)\n",
        "ax.spines[\"right\"].set_visible(False)\n",
        "ax.spines[\"left\"].set_color(\"#424242\")\n",
        "ax.spines[\"bottom\"].set_color(\"#424242\")\n",
        "\n",
        "#colors = [\"green\",\"blue\",\"magenta\",\"cyan\",\"gray\",\"yellow\",\"purple\",\"violet\",\"orange\",\"red\",\"maroon\"]\n",
        "#random.shuffle(colors)\n",
        "colors = [\"#2d0f41\",'#933291',\"#f2a49f\",\"#f9cdac\"]\n",
        "plt.bar(pr_count.index, pr_count.values, color=colors)\n",
        "\n",
        "plt.xticks(range(0, 5), color=\"#424242\")\n",
        "plt.yticks(range(0, 40000, 5000), color=\"#424242\")\n",
        "plt.xlabel(\"Price Ranges\")\n",
        "\n",
        "for i, v in enumerate(pr_count):\n",
        "    ax.text(i+0.85, v+700, str(v), color='#424242')\n",
        "plt.title(\"Number of restaurants (by price ranges)\")\n",
        "\n",
        "\n",
        "plt.show()\n"
      ],
      "metadata": {
        "colab": {
          "base_uri": "https://localhost:8080/",
          "height": 487
        },
        "id": "4q2_F3NS4CfY",
        "outputId": "b9dd7659-8d13-4d8d-c14b-e3952f5c915c"
      },
      "execution_count": null,
      "outputs": [
        {
          "output_type": "display_data",
          "data": {
            "text/plain": [
              "<Figure size 800x500 with 1 Axes>"
            ],
            "image/png": "[encoded data removed]"
          },
          "metadata": {}
        }
      ]
    },
    {
      "cell_type": "code",
      "source": [
        "np.round(data[[\"average_cost_for_two\",\"aggregate_rating\"]].corr()[\"average_cost_for_two\"][1],2)"
      ],
      "metadata": {
        "colab": {
          "base_uri": "https://localhost:8080/"
        },
        "id": "w_DgFQwh4Ciu",
        "outputId": "f7b9dd7e-67ca-4d32-9d04-804203d1b85c"
      },
      "execution_count": null,
      "outputs": [
        {
          "output_type": "execute_result",
          "data": {
            "text/plain": [
              "0.25"
            ]
          },
          "metadata": {},
          "execution_count": 151
        }
      ]
    },
    {
      "cell_type": "code",
      "source": [
        "plt.plot(\"average_cost_for_two\",\"aggregate_rating\", data=data, linestyle=\"none\", marker=\"o\")\n",
        "plt.xlim([0,6000])\n",
        "plt.title(\"Relationship between Average cost and Rating\")\n",
        "plt.xlabel(\"Average cost for two\")\n",
        "plt.ylabel(\"Ratings\")\n",
        "plt.show()"
      ],
      "metadata": {
        "colab": {
          "base_uri": "https://localhost:8080/",
          "height": 472
        },
        "id": "9TSPPCoL4h_U",
        "outputId": "b294518d-52a2-4291-e0d1-ec74074b45d0"
      },
      "execution_count": null,
      "outputs": [
        {
          "output_type": "display_data",
          "data": {
            "text/plain": [
              "<Figure size 640x480 with 1 Axes>"
            ],
            "image/png": "[encoded data removed]"
          },
          "metadata": {}
        }
      ]
    },
    {
      "cell_type": "code",
      "source": [
        "np.round(data[[\"price_range\",\"aggregate_rating\"]].corr()[\"price_range\"][1],2)"
      ],
      "metadata": {
        "colab": {
          "base_uri": "https://localhost:8080/"
        },
        "id": "fK1WUcQl4jit",
        "outputId": "7b5c5dbe-762d-48c7-ff37-b6ef8fa7a3e8"
      },
      "execution_count": null,
      "outputs": [
        {
          "output_type": "execute_result",
          "data": {
            "text/plain": [
              "0.25"
            ]
          },
          "metadata": {},
          "execution_count": 153
        }
      ]
    },
    {
      "cell_type": "code",
      "source": [
        "sns.boxplot(x='price_range', y='aggregate_rating', data=data)\n",
        "plt.ylim(1)\n",
        "plt.title(\"Relationship between Price range and Ratings\")\n",
        "plt.show()"
      ],
      "metadata": {
        "colab": {
          "base_uri": "https://localhost:8080/",
          "height": 472
        },
        "id": "yKmUxUsm4n4n",
        "outputId": "4b38d54e-a30a-4a6a-fc2b-87ece6eb6287"
      },
      "execution_count": null,
      "outputs": [
        {
          "output_type": "display_data",
          "data": {
            "text/plain": [
              "<Figure size 640x480 with 1 Axes>"
            ],
            "image/png": "[encoded data removed]"
          },
          "metadata": {}
        }
      ]
    },
    {
      "cell_type": "code",
      "source": [
        "data.to_csv(\"zomato_final.csv\")"
      ],
      "metadata": {
        "id": "LN4snbQ84pWk"
      },
      "execution_count": null,
      "outputs": []
    },
    {
      "cell_type": "code",
      "source": [],
      "metadata": {
        "id": "dkPlEkXm4tRj"
      },
      "execution_count": null,
      "outputs": []
    }
  ]
}