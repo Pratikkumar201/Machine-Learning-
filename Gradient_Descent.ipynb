{
  "nbformat": 4,
  "nbformat_minor": 0,
  "metadata": {
    "colab": {
      "provenance": [],
      "authorship_tag": "ABX9TyPMe2+ZFvJsEVvQcH6KRB9s"
    },
    "kernelspec": {
      "name": "python3",
      "display_name": "Python 3"
    },
    "language_info": {
      "name": "python"
    }
  },
  "cells": [
    {
      "cell_type": "code",
      "execution_count": null,
      "metadata": {
        "colab": {
          "base_uri": "https://localhost:8080/"
        },
        "id": "-YAzl8-xaw6E",
        "outputId": "270905ab-e693-4ffa-8bad-a884df876a3e"
      },
      "outputs": [
        {
          "output_type": "stream",
          "name": "stdout",
          "text": [
            "Predictions: [10.78186719 14.5752987 ]\n"
          ]
        }
      ],
      "source": [
        "import numpy as np\n",
        "\n",
        "def gradient_descent(X, y, learning_rate=0.01, epochs=100):\n",
        "    num_samples = X.shape[0]\n",
        "    num_features = X.shape[1]\n",
        "    weights = np.zeros(num_features + 1)  # +1 for bias term\n",
        "\n",
        "    for _ in range(epochs):\n",
        "        # Compute predictions\n",
        "        predictions = np.dot(X, weights[1:]) + weights[0]\n",
        "\n",
        "        # Compute errors\n",
        "        errors = predictions - y\n",
        "\n",
        "        # Update weights\n",
        "        weights[1:] -= (learning_rate / num_samples) * np.dot(X.T, errors)\n",
        "\n",
        "\n",
        "    return weights\n",
        "\n",
        "# Training data\n",
        "X = np.array([[1, 2], [2, 3], [3, 4], [4, 5]])\n",
        "y = np.array([3, 5, 7, 9])\n",
        "\n",
        "\n",
        "# Add bias term to input data\n",
        "X = np.concatenate((np.ones((X.shape[0], 1)), X), axis=1)\n",
        "\n",
        "# Perform gradient descent\n",
        "weights = gradient_descent(X, y)\n",
        "\n",
        "\n",
        "# Test the model with new data\n",
        "new_X = np.array([[5, 6], [7, 8]])\n",
        "new_X = np.concatenate((np.ones((new_X.shape[0], 1)), new_X), axis=1)\n",
        "predictions = np.dot(new_X, weights[1:]) + weights[0]\n",
        "print(\"Predictions:\", predictions)\n"
      ]
    }
  ]
}